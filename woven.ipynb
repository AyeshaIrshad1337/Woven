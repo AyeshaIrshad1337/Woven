{
 "cells": [
  {
   "cell_type": "code",
   "execution_count": 1,
   "id": "a3ba2abe",
   "metadata": {
    "_cell_guid": "b1076dfc-b9ad-4769-8c92-a6c4dae69d19",
    "_uuid": "8f2839f25d086af736a60e9eeb907d3b93b6e0e5",
    "execution": {
     "iopub.execute_input": "2023-03-26T19:56:31.337292Z",
     "iopub.status.busy": "2023-03-26T19:56:31.336765Z",
     "iopub.status.idle": "2023-03-26T19:56:31.357657Z",
     "shell.execute_reply": "2023-03-26T19:56:31.356362Z"
    },
    "papermill": {
     "duration": 0.037863,
     "end_time": "2023-03-26T19:56:31.360678",
     "exception": false,
     "start_time": "2023-03-26T19:56:31.322815",
     "status": "completed"
    },
    "tags": []
   },
   "outputs": [
    {
     "name": "stdout",
     "output_type": "stream",
     "text": [
      "/kaggle/input/book-recommendation-dataset/Ratings.csv\n",
      "/kaggle/input/book-recommendation-dataset/Users.csv\n",
      "/kaggle/input/book-recommendation-dataset/Books.csv\n"
     ]
    }
   ],
   "source": [
    "# This Python 3 environment comes with many helpful analytics libraries installed\n",
    "# It is defined by the kaggle/python Docker image: https://github.com/kaggle/docker-python\n",
    "# For example, here's several helpful packages to load\n",
    "\n",
    "import numpy as np # linear algebra\n",
    "import pandas as pd # data processing, CSV file I/O (e.g. pd.read_csv)\n",
    "\n",
    "# Input data files are available in the read-only \"../input/\" directory\n",
    "# For example, running this (by clicking run or pressing Shift+Enter) will list all files under the input directory\n",
    "\n",
    "import os\n",
    "for dirname, _, filenames in os.walk('/kaggle/input'):\n",
    "    for filename in filenames:\n",
    "        print(os.path.join(dirname, filename))\n",
    "\n",
    "# You can write up to 20GB to the current directory (/kaggle/working/) that gets preserved as output when you create a version using \"Save & Run All\" \n",
    "# You can also write temporary files to /kaggle/temp/, but they won't be saved outside of the current session"
   ]
  },
  {
   "cell_type": "code",
   "execution_count": 2,
   "id": "e94450ff",
   "metadata": {
    "execution": {
     "iopub.execute_input": "2023-03-26T19:56:31.384351Z",
     "iopub.status.busy": "2023-03-26T19:56:31.383988Z",
     "iopub.status.idle": "2023-03-26T19:56:32.520998Z",
     "shell.execute_reply": "2023-03-26T19:56:32.519921Z"
    },
    "papermill": {
     "duration": 1.152706,
     "end_time": "2023-03-26T19:56:32.524087",
     "exception": false,
     "start_time": "2023-03-26T19:56:31.371381",
     "status": "completed"
    },
    "tags": []
   },
   "outputs": [],
   "source": [
    "import pandas as pd\n",
    "import numpy as np\n",
    "import matplotlib.pyplot as plt\n",
    "import seaborn as sns"
   ]
  },
  {
   "cell_type": "code",
   "execution_count": 3,
   "id": "577f242a",
   "metadata": {
    "execution": {
     "iopub.execute_input": "2023-03-26T19:56:32.546789Z",
     "iopub.status.busy": "2023-03-26T19:56:32.546363Z",
     "iopub.status.idle": "2023-03-26T19:56:36.522191Z",
     "shell.execute_reply": "2023-03-26T19:56:36.520884Z"
    },
    "papermill": {
     "duration": 3.991466,
     "end_time": "2023-03-26T19:56:36.525868",
     "exception": false,
     "start_time": "2023-03-26T19:56:32.534402",
     "status": "completed"
    },
    "tags": []
   },
   "outputs": [],
   "source": [
    "books=pd.read_csv(\"/kaggle/input/book-recommendation-dataset/Books.csv\",low_memory=False)\n",
    "Ratings=pd.read_csv(\"/kaggle/input/book-recommendation-dataset/Ratings.csv\")\n",
    "Users = pd.read_csv(\"/kaggle/input/book-recommendation-dataset/Users.csv\")"
   ]
  },
  {
   "cell_type": "code",
   "execution_count": 4,
   "id": "dd0bdc40",
   "metadata": {
    "execution": {
     "iopub.execute_input": "2023-03-26T19:56:36.555699Z",
     "iopub.status.busy": "2023-03-26T19:56:36.555245Z",
     "iopub.status.idle": "2023-03-26T19:56:36.587695Z",
     "shell.execute_reply": "2023-03-26T19:56:36.586338Z"
    },
    "papermill": {
     "duration": 0.049204,
     "end_time": "2023-03-26T19:56:36.590701",
     "exception": false,
     "start_time": "2023-03-26T19:56:36.541497",
     "status": "completed"
    },
    "tags": []
   },
   "outputs": [
    {
     "data": {
      "text/html": [
       "<div>\n",
       "<style scoped>\n",
       "    .dataframe tbody tr th:only-of-type {\n",
       "        vertical-align: middle;\n",
       "    }\n",
       "\n",
       "    .dataframe tbody tr th {\n",
       "        vertical-align: top;\n",
       "    }\n",
       "\n",
       "    .dataframe thead th {\n",
       "        text-align: right;\n",
       "    }\n",
       "</style>\n",
       "<table border=\"1\" class=\"dataframe\">\n",
       "  <thead>\n",
       "    <tr style=\"text-align: right;\">\n",
       "      <th></th>\n",
       "      <th>ISBN</th>\n",
       "      <th>Book-Title</th>\n",
       "      <th>Book-Author</th>\n",
       "      <th>Year-Of-Publication</th>\n",
       "      <th>Publisher</th>\n",
       "      <th>Image-URL-S</th>\n",
       "      <th>Image-URL-M</th>\n",
       "      <th>Image-URL-L</th>\n",
       "    </tr>\n",
       "  </thead>\n",
       "  <tbody>\n",
       "    <tr>\n",
       "      <th>0</th>\n",
       "      <td>0195153448</td>\n",
       "      <td>Classical Mythology</td>\n",
       "      <td>Mark P. O. Morford</td>\n",
       "      <td>2002</td>\n",
       "      <td>Oxford University Press</td>\n",
       "      <td>http://images.amazon.com/images/P/0195153448.0...</td>\n",
       "      <td>http://images.amazon.com/images/P/0195153448.0...</td>\n",
       "      <td>http://images.amazon.com/images/P/0195153448.0...</td>\n",
       "    </tr>\n",
       "    <tr>\n",
       "      <th>1</th>\n",
       "      <td>0002005018</td>\n",
       "      <td>Clara Callan</td>\n",
       "      <td>Richard Bruce Wright</td>\n",
       "      <td>2001</td>\n",
       "      <td>HarperFlamingo Canada</td>\n",
       "      <td>http://images.amazon.com/images/P/0002005018.0...</td>\n",
       "      <td>http://images.amazon.com/images/P/0002005018.0...</td>\n",
       "      <td>http://images.amazon.com/images/P/0002005018.0...</td>\n",
       "    </tr>\n",
       "    <tr>\n",
       "      <th>2</th>\n",
       "      <td>0060973129</td>\n",
       "      <td>Decision in Normandy</td>\n",
       "      <td>Carlo D'Este</td>\n",
       "      <td>1991</td>\n",
       "      <td>HarperPerennial</td>\n",
       "      <td>http://images.amazon.com/images/P/0060973129.0...</td>\n",
       "      <td>http://images.amazon.com/images/P/0060973129.0...</td>\n",
       "      <td>http://images.amazon.com/images/P/0060973129.0...</td>\n",
       "    </tr>\n",
       "    <tr>\n",
       "      <th>3</th>\n",
       "      <td>0374157065</td>\n",
       "      <td>Flu: The Story of the Great Influenza Pandemic...</td>\n",
       "      <td>Gina Bari Kolata</td>\n",
       "      <td>1999</td>\n",
       "      <td>Farrar Straus Giroux</td>\n",
       "      <td>http://images.amazon.com/images/P/0374157065.0...</td>\n",
       "      <td>http://images.amazon.com/images/P/0374157065.0...</td>\n",
       "      <td>http://images.amazon.com/images/P/0374157065.0...</td>\n",
       "    </tr>\n",
       "    <tr>\n",
       "      <th>4</th>\n",
       "      <td>0393045218</td>\n",
       "      <td>The Mummies of Urumchi</td>\n",
       "      <td>E. J. W. Barber</td>\n",
       "      <td>1999</td>\n",
       "      <td>W. W. Norton &amp;amp; Company</td>\n",
       "      <td>http://images.amazon.com/images/P/0393045218.0...</td>\n",
       "      <td>http://images.amazon.com/images/P/0393045218.0...</td>\n",
       "      <td>http://images.amazon.com/images/P/0393045218.0...</td>\n",
       "    </tr>\n",
       "  </tbody>\n",
       "</table>\n",
       "</div>"
      ],
      "text/plain": [
       "         ISBN                                         Book-Title  \\\n",
       "0  0195153448                                Classical Mythology   \n",
       "1  0002005018                                       Clara Callan   \n",
       "2  0060973129                               Decision in Normandy   \n",
       "3  0374157065  Flu: The Story of the Great Influenza Pandemic...   \n",
       "4  0393045218                             The Mummies of Urumchi   \n",
       "\n",
       "            Book-Author Year-Of-Publication                   Publisher  \\\n",
       "0    Mark P. O. Morford                2002     Oxford University Press   \n",
       "1  Richard Bruce Wright                2001       HarperFlamingo Canada   \n",
       "2          Carlo D'Este                1991             HarperPerennial   \n",
       "3      Gina Bari Kolata                1999        Farrar Straus Giroux   \n",
       "4       E. J. W. Barber                1999  W. W. Norton &amp; Company   \n",
       "\n",
       "                                         Image-URL-S  \\\n",
       "0  http://images.amazon.com/images/P/0195153448.0...   \n",
       "1  http://images.amazon.com/images/P/0002005018.0...   \n",
       "2  http://images.amazon.com/images/P/0060973129.0...   \n",
       "3  http://images.amazon.com/images/P/0374157065.0...   \n",
       "4  http://images.amazon.com/images/P/0393045218.0...   \n",
       "\n",
       "                                         Image-URL-M  \\\n",
       "0  http://images.amazon.com/images/P/0195153448.0...   \n",
       "1  http://images.amazon.com/images/P/0002005018.0...   \n",
       "2  http://images.amazon.com/images/P/0060973129.0...   \n",
       "3  http://images.amazon.com/images/P/0374157065.0...   \n",
       "4  http://images.amazon.com/images/P/0393045218.0...   \n",
       "\n",
       "                                         Image-URL-L  \n",
       "0  http://images.amazon.com/images/P/0195153448.0...  \n",
       "1  http://images.amazon.com/images/P/0002005018.0...  \n",
       "2  http://images.amazon.com/images/P/0060973129.0...  \n",
       "3  http://images.amazon.com/images/P/0374157065.0...  \n",
       "4  http://images.amazon.com/images/P/0393045218.0...  "
      ]
     },
     "execution_count": 4,
     "metadata": {},
     "output_type": "execute_result"
    }
   ],
   "source": [
    "books.head()"
   ]
  },
  {
   "cell_type": "code",
   "execution_count": 5,
   "id": "609fd9e8",
   "metadata": {
    "execution": {
     "iopub.execute_input": "2023-03-26T19:56:36.618950Z",
     "iopub.status.busy": "2023-03-26T19:56:36.617603Z",
     "iopub.status.idle": "2023-03-26T19:56:36.626387Z",
     "shell.execute_reply": "2023-03-26T19:56:36.625193Z"
    },
    "papermill": {
     "duration": 0.023602,
     "end_time": "2023-03-26T19:56:36.628864",
     "exception": false,
     "start_time": "2023-03-26T19:56:36.605262",
     "status": "completed"
    },
    "tags": []
   },
   "outputs": [
    {
     "data": {
      "text/plain": [
       "Index(['ISBN', 'Book-Title', 'Book-Author', 'Year-Of-Publication', 'Publisher',\n",
       "       'Image-URL-S', 'Image-URL-M', 'Image-URL-L'],\n",
       "      dtype='object')"
      ]
     },
     "execution_count": 5,
     "metadata": {},
     "output_type": "execute_result"
    }
   ],
   "source": [
    "books.columns"
   ]
  },
  {
   "cell_type": "code",
   "execution_count": 6,
   "id": "65dc500a",
   "metadata": {
    "execution": {
     "iopub.execute_input": "2023-03-26T19:56:36.652624Z",
     "iopub.status.busy": "2023-03-26T19:56:36.651444Z",
     "iopub.status.idle": "2023-03-26T19:56:36.678784Z",
     "shell.execute_reply": "2023-03-26T19:56:36.677424Z"
    },
    "papermill": {
     "duration": 0.042495,
     "end_time": "2023-03-26T19:56:36.681949",
     "exception": false,
     "start_time": "2023-03-26T19:56:36.639454",
     "status": "completed"
    },
    "tags": []
   },
   "outputs": [],
   "source": [
    "books=books[['ISBN', 'Book-Title', 'Book-Author', 'Year-Of-Publication', 'Publisher',\n",
    "       'Image-URL-L']]"
   ]
  },
  {
   "cell_type": "code",
   "execution_count": 7,
   "id": "50af1f81",
   "metadata": {
    "execution": {
     "iopub.execute_input": "2023-03-26T19:56:36.707677Z",
     "iopub.status.busy": "2023-03-26T19:56:36.707143Z",
     "iopub.status.idle": "2023-03-26T19:56:36.722431Z",
     "shell.execute_reply": "2023-03-26T19:56:36.720751Z"
    },
    "papermill": {
     "duration": 0.031131,
     "end_time": "2023-03-26T19:56:36.725418",
     "exception": false,
     "start_time": "2023-03-26T19:56:36.694287",
     "status": "completed"
    },
    "tags": []
   },
   "outputs": [
    {
     "data": {
      "text/html": [
       "<div>\n",
       "<style scoped>\n",
       "    .dataframe tbody tr th:only-of-type {\n",
       "        vertical-align: middle;\n",
       "    }\n",
       "\n",
       "    .dataframe tbody tr th {\n",
       "        vertical-align: top;\n",
       "    }\n",
       "\n",
       "    .dataframe thead th {\n",
       "        text-align: right;\n",
       "    }\n",
       "</style>\n",
       "<table border=\"1\" class=\"dataframe\">\n",
       "  <thead>\n",
       "    <tr style=\"text-align: right;\">\n",
       "      <th></th>\n",
       "      <th>ISBN</th>\n",
       "      <th>Book-Title</th>\n",
       "      <th>Book-Author</th>\n",
       "      <th>Year-Of-Publication</th>\n",
       "      <th>Publisher</th>\n",
       "      <th>Image-URL-L</th>\n",
       "    </tr>\n",
       "  </thead>\n",
       "  <tbody>\n",
       "    <tr>\n",
       "      <th>0</th>\n",
       "      <td>0195153448</td>\n",
       "      <td>Classical Mythology</td>\n",
       "      <td>Mark P. O. Morford</td>\n",
       "      <td>2002</td>\n",
       "      <td>Oxford University Press</td>\n",
       "      <td>http://images.amazon.com/images/P/0195153448.0...</td>\n",
       "    </tr>\n",
       "  </tbody>\n",
       "</table>\n",
       "</div>"
      ],
      "text/plain": [
       "         ISBN           Book-Title         Book-Author Year-Of-Publication  \\\n",
       "0  0195153448  Classical Mythology  Mark P. O. Morford                2002   \n",
       "\n",
       "                 Publisher                                        Image-URL-L  \n",
       "0  Oxford University Press  http://images.amazon.com/images/P/0195153448.0...  "
      ]
     },
     "execution_count": 7,
     "metadata": {},
     "output_type": "execute_result"
    }
   ],
   "source": [
    "books.head(1)"
   ]
  },
  {
   "cell_type": "code",
   "execution_count": 8,
   "id": "6abe61dc",
   "metadata": {
    "execution": {
     "iopub.execute_input": "2023-03-26T19:56:36.750870Z",
     "iopub.status.busy": "2023-03-26T19:56:36.750131Z",
     "iopub.status.idle": "2023-03-26T19:56:36.773534Z",
     "shell.execute_reply": "2023-03-26T19:56:36.772216Z"
    },
    "papermill": {
     "duration": 0.038579,
     "end_time": "2023-03-26T19:56:36.776432",
     "exception": false,
     "start_time": "2023-03-26T19:56:36.737853",
     "status": "completed"
    },
    "tags": []
   },
   "outputs": [],
   "source": [
    "books=books.rename(columns={\n",
    "    \"Book-Title\" : \"title\",\n",
    "    \"Book-Author\":\"author\",\n",
    "    \"Year-Of-Publication\":\"year\",\n",
    "    \"Publisher\":\"publisher\",\n",
    "    \"Image-URL-L\":\"img_url\",\n",
    "})"
   ]
  },
  {
   "cell_type": "code",
   "execution_count": 9,
   "id": "6be70882",
   "metadata": {
    "execution": {
     "iopub.execute_input": "2023-03-26T19:56:36.799201Z",
     "iopub.status.busy": "2023-03-26T19:56:36.798817Z",
     "iopub.status.idle": "2023-03-26T19:56:36.811802Z",
     "shell.execute_reply": "2023-03-26T19:56:36.810566Z"
    },
    "papermill": {
     "duration": 0.027013,
     "end_time": "2023-03-26T19:56:36.813963",
     "exception": false,
     "start_time": "2023-03-26T19:56:36.786950",
     "status": "completed"
    },
    "tags": []
   },
   "outputs": [
    {
     "data": {
      "text/html": [
       "<div>\n",
       "<style scoped>\n",
       "    .dataframe tbody tr th:only-of-type {\n",
       "        vertical-align: middle;\n",
       "    }\n",
       "\n",
       "    .dataframe tbody tr th {\n",
       "        vertical-align: top;\n",
       "    }\n",
       "\n",
       "    .dataframe thead th {\n",
       "        text-align: right;\n",
       "    }\n",
       "</style>\n",
       "<table border=\"1\" class=\"dataframe\">\n",
       "  <thead>\n",
       "    <tr style=\"text-align: right;\">\n",
       "      <th></th>\n",
       "      <th>ISBN</th>\n",
       "      <th>title</th>\n",
       "      <th>author</th>\n",
       "      <th>year</th>\n",
       "      <th>publisher</th>\n",
       "      <th>img_url</th>\n",
       "    </tr>\n",
       "  </thead>\n",
       "  <tbody>\n",
       "    <tr>\n",
       "      <th>0</th>\n",
       "      <td>0195153448</td>\n",
       "      <td>Classical Mythology</td>\n",
       "      <td>Mark P. O. Morford</td>\n",
       "      <td>2002</td>\n",
       "      <td>Oxford University Press</td>\n",
       "      <td>http://images.amazon.com/images/P/0195153448.0...</td>\n",
       "    </tr>\n",
       "  </tbody>\n",
       "</table>\n",
       "</div>"
      ],
      "text/plain": [
       "         ISBN                title              author  year  \\\n",
       "0  0195153448  Classical Mythology  Mark P. O. Morford  2002   \n",
       "\n",
       "                 publisher                                            img_url  \n",
       "0  Oxford University Press  http://images.amazon.com/images/P/0195153448.0...  "
      ]
     },
     "execution_count": 9,
     "metadata": {},
     "output_type": "execute_result"
    }
   ],
   "source": [
    "books.head(1)"
   ]
  },
  {
   "cell_type": "code",
   "execution_count": 10,
   "id": "11e64bda",
   "metadata": {
    "execution": {
     "iopub.execute_input": "2023-03-26T19:56:36.839192Z",
     "iopub.status.busy": "2023-03-26T19:56:36.838175Z",
     "iopub.status.idle": "2023-03-26T19:56:36.851952Z",
     "shell.execute_reply": "2023-03-26T19:56:36.850713Z"
    },
    "papermill": {
     "duration": 0.029596,
     "end_time": "2023-03-26T19:56:36.854391",
     "exception": false,
     "start_time": "2023-03-26T19:56:36.824795",
     "status": "completed"
    },
    "tags": []
   },
   "outputs": [
    {
     "data": {
      "text/html": [
       "<div>\n",
       "<style scoped>\n",
       "    .dataframe tbody tr th:only-of-type {\n",
       "        vertical-align: middle;\n",
       "    }\n",
       "\n",
       "    .dataframe tbody tr th {\n",
       "        vertical-align: top;\n",
       "    }\n",
       "\n",
       "    .dataframe thead th {\n",
       "        text-align: right;\n",
       "    }\n",
       "</style>\n",
       "<table border=\"1\" class=\"dataframe\">\n",
       "  <thead>\n",
       "    <tr style=\"text-align: right;\">\n",
       "      <th></th>\n",
       "      <th>User-ID</th>\n",
       "      <th>Location</th>\n",
       "      <th>Age</th>\n",
       "    </tr>\n",
       "  </thead>\n",
       "  <tbody>\n",
       "    <tr>\n",
       "      <th>0</th>\n",
       "      <td>1</td>\n",
       "      <td>nyc, new york, usa</td>\n",
       "      <td>NaN</td>\n",
       "    </tr>\n",
       "  </tbody>\n",
       "</table>\n",
       "</div>"
      ],
      "text/plain": [
       "   User-ID            Location  Age\n",
       "0        1  nyc, new york, usa  NaN"
      ]
     },
     "execution_count": 10,
     "metadata": {},
     "output_type": "execute_result"
    }
   ],
   "source": [
    "Users.head(1)"
   ]
  },
  {
   "cell_type": "code",
   "execution_count": 11,
   "id": "a24d9e93",
   "metadata": {
    "execution": {
     "iopub.execute_input": "2023-03-26T19:56:36.879050Z",
     "iopub.status.busy": "2023-03-26T19:56:36.878040Z",
     "iopub.status.idle": "2023-03-26T19:56:36.885593Z",
     "shell.execute_reply": "2023-03-26T19:56:36.884540Z"
    },
    "papermill": {
     "duration": 0.022666,
     "end_time": "2023-03-26T19:56:36.887871",
     "exception": false,
     "start_time": "2023-03-26T19:56:36.865205",
     "status": "completed"
    },
    "tags": []
   },
   "outputs": [
    {
     "data": {
      "text/plain": [
       "(278858, 3)"
      ]
     },
     "execution_count": 11,
     "metadata": {},
     "output_type": "execute_result"
    }
   ],
   "source": [
    "Users.shape"
   ]
  },
  {
   "cell_type": "code",
   "execution_count": 12,
   "id": "4743e12c",
   "metadata": {
    "execution": {
     "iopub.execute_input": "2023-03-26T19:56:36.911733Z",
     "iopub.status.busy": "2023-03-26T19:56:36.911324Z",
     "iopub.status.idle": "2023-03-26T19:56:36.921837Z",
     "shell.execute_reply": "2023-03-26T19:56:36.920526Z"
    },
    "papermill": {
     "duration": 0.025443,
     "end_time": "2023-03-26T19:56:36.924268",
     "exception": false,
     "start_time": "2023-03-26T19:56:36.898825",
     "status": "completed"
    },
    "tags": []
   },
   "outputs": [
    {
     "data": {
      "text/html": [
       "<div>\n",
       "<style scoped>\n",
       "    .dataframe tbody tr th:only-of-type {\n",
       "        vertical-align: middle;\n",
       "    }\n",
       "\n",
       "    .dataframe tbody tr th {\n",
       "        vertical-align: top;\n",
       "    }\n",
       "\n",
       "    .dataframe thead th {\n",
       "        text-align: right;\n",
       "    }\n",
       "</style>\n",
       "<table border=\"1\" class=\"dataframe\">\n",
       "  <thead>\n",
       "    <tr style=\"text-align: right;\">\n",
       "      <th></th>\n",
       "      <th>User-ID</th>\n",
       "      <th>ISBN</th>\n",
       "      <th>Book-Rating</th>\n",
       "    </tr>\n",
       "  </thead>\n",
       "  <tbody>\n",
       "    <tr>\n",
       "      <th>0</th>\n",
       "      <td>276725</td>\n",
       "      <td>034545104X</td>\n",
       "      <td>0</td>\n",
       "    </tr>\n",
       "  </tbody>\n",
       "</table>\n",
       "</div>"
      ],
      "text/plain": [
       "   User-ID        ISBN  Book-Rating\n",
       "0   276725  034545104X            0"
      ]
     },
     "execution_count": 12,
     "metadata": {},
     "output_type": "execute_result"
    }
   ],
   "source": [
    "Ratings.head(1)"
   ]
  },
  {
   "cell_type": "code",
   "execution_count": 13,
   "id": "8de032e8",
   "metadata": {
    "execution": {
     "iopub.execute_input": "2023-03-26T19:56:36.948805Z",
     "iopub.status.busy": "2023-03-26T19:56:36.947937Z",
     "iopub.status.idle": "2023-03-26T19:56:36.956995Z",
     "shell.execute_reply": "2023-03-26T19:56:36.955608Z"
    },
    "papermill": {
     "duration": 0.024387,
     "end_time": "2023-03-26T19:56:36.959651",
     "exception": false,
     "start_time": "2023-03-26T19:56:36.935264",
     "status": "completed"
    },
    "tags": []
   },
   "outputs": [
    {
     "data": {
      "text/plain": [
       "(1149780, 3)"
      ]
     },
     "execution_count": 13,
     "metadata": {},
     "output_type": "execute_result"
    }
   ],
   "source": [
    "Ratings.shape"
   ]
  },
  {
   "cell_type": "code",
   "execution_count": 14,
   "id": "47554c1b",
   "metadata": {
    "execution": {
     "iopub.execute_input": "2023-03-26T19:56:36.984196Z",
     "iopub.status.busy": "2023-03-26T19:56:36.983692Z",
     "iopub.status.idle": "2023-03-26T19:56:36.990495Z",
     "shell.execute_reply": "2023-03-26T19:56:36.989258Z"
    },
    "papermill": {
     "duration": 0.022626,
     "end_time": "2023-03-26T19:56:36.993621",
     "exception": false,
     "start_time": "2023-03-26T19:56:36.970995",
     "status": "completed"
    },
    "tags": []
   },
   "outputs": [
    {
     "name": "stdout",
     "output_type": "stream",
     "text": [
      "(271360, 6)\n",
      "(278858, 3)\n",
      "(1149780, 3)\n"
     ]
    }
   ],
   "source": [
    "print(books.shape)\n",
    "print(Users.shape)\n",
    "print(Ratings.shape)"
   ]
  },
  {
   "cell_type": "code",
   "execution_count": 15,
   "id": "0119cad9",
   "metadata": {
    "execution": {
     "iopub.execute_input": "2023-03-26T19:56:37.019569Z",
     "iopub.status.busy": "2023-03-26T19:56:37.018405Z",
     "iopub.status.idle": "2023-03-26T19:56:37.026821Z",
     "shell.execute_reply": "2023-03-26T19:56:37.025671Z"
    },
    "papermill": {
     "duration": 0.023425,
     "end_time": "2023-03-26T19:56:37.029206",
     "exception": false,
     "start_time": "2023-03-26T19:56:37.005781",
     "status": "completed"
    },
    "tags": []
   },
   "outputs": [
    {
     "data": {
      "text/plain": [
       "Index(['User-ID', 'ISBN', 'Book-Rating'], dtype='object')"
      ]
     },
     "execution_count": 15,
     "metadata": {},
     "output_type": "execute_result"
    }
   ],
   "source": [
    "Ratings.columns"
   ]
  },
  {
   "cell_type": "code",
   "execution_count": 16,
   "id": "0f9c2b6e",
   "metadata": {
    "execution": {
     "iopub.execute_input": "2023-03-26T19:56:37.053682Z",
     "iopub.status.busy": "2023-03-26T19:56:37.053236Z",
     "iopub.status.idle": "2023-03-26T19:56:37.059419Z",
     "shell.execute_reply": "2023-03-26T19:56:37.058190Z"
    },
    "papermill": {
     "duration": 0.021046,
     "end_time": "2023-03-26T19:56:37.061635",
     "exception": false,
     "start_time": "2023-03-26T19:56:37.040589",
     "status": "completed"
    },
    "tags": []
   },
   "outputs": [],
   "source": [
    "Ratings.rename(columns={\n",
    "    \"User-ID\" :\"user_id\",\n",
    "    \"Book-Rating\":\"rating\"\n",
    "},inplace=True)"
   ]
  },
  {
   "cell_type": "code",
   "execution_count": 17,
   "id": "edcdc239",
   "metadata": {
    "execution": {
     "iopub.execute_input": "2023-03-26T19:56:37.087188Z",
     "iopub.status.busy": "2023-03-26T19:56:37.086696Z",
     "iopub.status.idle": "2023-03-26T19:56:37.098706Z",
     "shell.execute_reply": "2023-03-26T19:56:37.097539Z"
    },
    "papermill": {
     "duration": 0.027575,
     "end_time": "2023-03-26T19:56:37.101032",
     "exception": false,
     "start_time": "2023-03-26T19:56:37.073457",
     "status": "completed"
    },
    "tags": []
   },
   "outputs": [
    {
     "data": {
      "text/html": [
       "<div>\n",
       "<style scoped>\n",
       "    .dataframe tbody tr th:only-of-type {\n",
       "        vertical-align: middle;\n",
       "    }\n",
       "\n",
       "    .dataframe tbody tr th {\n",
       "        vertical-align: top;\n",
       "    }\n",
       "\n",
       "    .dataframe thead th {\n",
       "        text-align: right;\n",
       "    }\n",
       "</style>\n",
       "<table border=\"1\" class=\"dataframe\">\n",
       "  <thead>\n",
       "    <tr style=\"text-align: right;\">\n",
       "      <th></th>\n",
       "      <th>user_id</th>\n",
       "      <th>ISBN</th>\n",
       "      <th>rating</th>\n",
       "    </tr>\n",
       "  </thead>\n",
       "  <tbody>\n",
       "    <tr>\n",
       "      <th>0</th>\n",
       "      <td>276725</td>\n",
       "      <td>034545104X</td>\n",
       "      <td>0</td>\n",
       "    </tr>\n",
       "  </tbody>\n",
       "</table>\n",
       "</div>"
      ],
      "text/plain": [
       "   user_id        ISBN  rating\n",
       "0   276725  034545104X       0"
      ]
     },
     "execution_count": 17,
     "metadata": {},
     "output_type": "execute_result"
    }
   ],
   "source": [
    "Ratings.head(1)"
   ]
  },
  {
   "cell_type": "code",
   "execution_count": 18,
   "id": "0c317e6b",
   "metadata": {
    "execution": {
     "iopub.execute_input": "2023-03-26T19:56:37.126812Z",
     "iopub.status.busy": "2023-03-26T19:56:37.125975Z",
     "iopub.status.idle": "2023-03-26T19:56:37.181841Z",
     "shell.execute_reply": "2023-03-26T19:56:37.180557Z"
    },
    "papermill": {
     "duration": 0.071763,
     "end_time": "2023-03-26T19:56:37.184401",
     "exception": false,
     "start_time": "2023-03-26T19:56:37.112638",
     "status": "completed"
    },
    "tags": []
   },
   "outputs": [
    {
     "data": {
      "text/plain": [
       "11676     13602\n",
       "198711     7550\n",
       "153662     6109\n",
       "98391      5891\n",
       "35859      5850\n",
       "          ...  \n",
       "116180        1\n",
       "116166        1\n",
       "116154        1\n",
       "116137        1\n",
       "276723        1\n",
       "Name: user_id, Length: 105283, dtype: int64"
      ]
     },
     "execution_count": 18,
     "metadata": {},
     "output_type": "execute_result"
    }
   ],
   "source": [
    "Ratings['user_id'].value_counts()"
   ]
  },
  {
   "cell_type": "code",
   "execution_count": 19,
   "id": "bcc31340",
   "metadata": {
    "execution": {
     "iopub.execute_input": "2023-03-26T19:56:37.210620Z",
     "iopub.status.busy": "2023-03-26T19:56:37.209399Z",
     "iopub.status.idle": "2023-03-26T19:56:37.239334Z",
     "shell.execute_reply": "2023-03-26T19:56:37.238043Z"
    },
    "papermill": {
     "duration": 0.045463,
     "end_time": "2023-03-26T19:56:37.242004",
     "exception": false,
     "start_time": "2023-03-26T19:56:37.196541",
     "status": "completed"
    },
    "tags": []
   },
   "outputs": [
    {
     "data": {
      "text/plain": [
       "(105283,)"
      ]
     },
     "execution_count": 19,
     "metadata": {},
     "output_type": "execute_result"
    }
   ],
   "source": [
    "Ratings['user_id'].unique().shape"
   ]
  },
  {
   "cell_type": "code",
   "execution_count": 20,
   "id": "50e308d9",
   "metadata": {
    "execution": {
     "iopub.execute_input": "2023-03-26T19:56:37.267205Z",
     "iopub.status.busy": "2023-03-26T19:56:37.266809Z",
     "iopub.status.idle": "2023-03-26T19:56:37.313836Z",
     "shell.execute_reply": "2023-03-26T19:56:37.312656Z"
    },
    "papermill": {
     "duration": 0.062468,
     "end_time": "2023-03-26T19:56:37.316222",
     "exception": false,
     "start_time": "2023-03-26T19:56:37.253754",
     "status": "completed"
    },
    "tags": []
   },
   "outputs": [],
   "source": [
    "x = Ratings['user_id'].value_counts() > 200"
   ]
  },
  {
   "cell_type": "code",
   "execution_count": 21,
   "id": "44b13e02",
   "metadata": {
    "execution": {
     "iopub.execute_input": "2023-03-26T19:56:37.342653Z",
     "iopub.status.busy": "2023-03-26T19:56:37.341865Z",
     "iopub.status.idle": "2023-03-26T19:56:37.349324Z",
     "shell.execute_reply": "2023-03-26T19:56:37.348229Z"
    },
    "papermill": {
     "duration": 0.023509,
     "end_time": "2023-03-26T19:56:37.351716",
     "exception": false,
     "start_time": "2023-03-26T19:56:37.328207",
     "status": "completed"
    },
    "tags": []
   },
   "outputs": [
    {
     "data": {
      "text/plain": [
       "(899,)"
      ]
     },
     "execution_count": 21,
     "metadata": {},
     "output_type": "execute_result"
    }
   ],
   "source": [
    "x[x].shape"
   ]
  },
  {
   "cell_type": "code",
   "execution_count": 22,
   "id": "6eeba0b9",
   "metadata": {
    "execution": {
     "iopub.execute_input": "2023-03-26T19:56:37.377392Z",
     "iopub.status.busy": "2023-03-26T19:56:37.377000Z",
     "iopub.status.idle": "2023-03-26T19:56:37.382308Z",
     "shell.execute_reply": "2023-03-26T19:56:37.381095Z"
    },
    "papermill": {
     "duration": 0.021119,
     "end_time": "2023-03-26T19:56:37.384666",
     "exception": false,
     "start_time": "2023-03-26T19:56:37.363547",
     "status": "completed"
    },
    "tags": []
   },
   "outputs": [],
   "source": [
    "y = x[x].index"
   ]
  },
  {
   "cell_type": "code",
   "execution_count": 23,
   "id": "07fb6b0b",
   "metadata": {
    "execution": {
     "iopub.execute_input": "2023-03-26T19:56:37.410175Z",
     "iopub.status.busy": "2023-03-26T19:56:37.409789Z",
     "iopub.status.idle": "2023-03-26T19:56:37.417216Z",
     "shell.execute_reply": "2023-03-26T19:56:37.416065Z"
    },
    "papermill": {
     "duration": 0.02327,
     "end_time": "2023-03-26T19:56:37.419715",
     "exception": false,
     "start_time": "2023-03-26T19:56:37.396445",
     "status": "completed"
    },
    "tags": []
   },
   "outputs": [
    {
     "data": {
      "text/plain": [
       "Int64Index([ 11676, 198711, 153662,  98391,  35859, 212898, 278418,  76352,\n",
       "            110973, 235105,\n",
       "            ...\n",
       "            260183,  73681,  44296, 155916,   9856, 274808,  28634,  59727,\n",
       "            268622, 188951],\n",
       "           dtype='int64', length=899)"
      ]
     },
     "execution_count": 23,
     "metadata": {},
     "output_type": "execute_result"
    }
   ],
   "source": [
    "y"
   ]
  },
  {
   "cell_type": "code",
   "execution_count": 24,
   "id": "6605fe94",
   "metadata": {
    "execution": {
     "iopub.execute_input": "2023-03-26T19:56:37.447289Z",
     "iopub.status.busy": "2023-03-26T19:56:37.446903Z",
     "iopub.status.idle": "2023-03-26T19:56:37.498645Z",
     "shell.execute_reply": "2023-03-26T19:56:37.497341Z"
    },
    "papermill": {
     "duration": 0.067872,
     "end_time": "2023-03-26T19:56:37.501300",
     "exception": false,
     "start_time": "2023-03-26T19:56:37.433428",
     "status": "completed"
    },
    "tags": []
   },
   "outputs": [],
   "source": [
    "ratings=Ratings[Ratings['user_id'].isin(y)]"
   ]
  },
  {
   "cell_type": "code",
   "execution_count": 25,
   "id": "a6eafe74",
   "metadata": {
    "execution": {
     "iopub.execute_input": "2023-03-26T19:56:37.527739Z",
     "iopub.status.busy": "2023-03-26T19:56:37.526721Z",
     "iopub.status.idle": "2023-03-26T19:56:37.534594Z",
     "shell.execute_reply": "2023-03-26T19:56:37.533425Z"
    },
    "papermill": {
     "duration": 0.023577,
     "end_time": "2023-03-26T19:56:37.536918",
     "exception": false,
     "start_time": "2023-03-26T19:56:37.513341",
     "status": "completed"
    },
    "tags": []
   },
   "outputs": [
    {
     "data": {
      "text/plain": [
       "(526356, 3)"
      ]
     },
     "execution_count": 25,
     "metadata": {},
     "output_type": "execute_result"
    }
   ],
   "source": [
    "ratings.shape"
   ]
  },
  {
   "cell_type": "code",
   "execution_count": 26,
   "id": "2ce42111",
   "metadata": {
    "execution": {
     "iopub.execute_input": "2023-03-26T19:56:37.563050Z",
     "iopub.status.busy": "2023-03-26T19:56:37.562268Z",
     "iopub.status.idle": "2023-03-26T19:56:37.574066Z",
     "shell.execute_reply": "2023-03-26T19:56:37.573216Z"
    },
    "papermill": {
     "duration": 0.027135,
     "end_time": "2023-03-26T19:56:37.576098",
     "exception": false,
     "start_time": "2023-03-26T19:56:37.548963",
     "status": "completed"
    },
    "tags": []
   },
   "outputs": [
    {
     "data": {
      "text/html": [
       "<div>\n",
       "<style scoped>\n",
       "    .dataframe tbody tr th:only-of-type {\n",
       "        vertical-align: middle;\n",
       "    }\n",
       "\n",
       "    .dataframe tbody tr th {\n",
       "        vertical-align: top;\n",
       "    }\n",
       "\n",
       "    .dataframe thead th {\n",
       "        text-align: right;\n",
       "    }\n",
       "</style>\n",
       "<table border=\"1\" class=\"dataframe\">\n",
       "  <thead>\n",
       "    <tr style=\"text-align: right;\">\n",
       "      <th></th>\n",
       "      <th>ISBN</th>\n",
       "      <th>title</th>\n",
       "      <th>author</th>\n",
       "      <th>year</th>\n",
       "      <th>publisher</th>\n",
       "      <th>img_url</th>\n",
       "    </tr>\n",
       "  </thead>\n",
       "  <tbody>\n",
       "    <tr>\n",
       "      <th>0</th>\n",
       "      <td>0195153448</td>\n",
       "      <td>Classical Mythology</td>\n",
       "      <td>Mark P. O. Morford</td>\n",
       "      <td>2002</td>\n",
       "      <td>Oxford University Press</td>\n",
       "      <td>http://images.amazon.com/images/P/0195153448.0...</td>\n",
       "    </tr>\n",
       "  </tbody>\n",
       "</table>\n",
       "</div>"
      ],
      "text/plain": [
       "         ISBN                title              author  year  \\\n",
       "0  0195153448  Classical Mythology  Mark P. O. Morford  2002   \n",
       "\n",
       "                 publisher                                            img_url  \n",
       "0  Oxford University Press  http://images.amazon.com/images/P/0195153448.0...  "
      ]
     },
     "execution_count": 26,
     "metadata": {},
     "output_type": "execute_result"
    }
   ],
   "source": [
    "books.head(1)"
   ]
  },
  {
   "cell_type": "raw",
   "id": "57f2cff1",
   "metadata": {
    "papermill": {
     "duration": 0.011872,
     "end_time": "2023-03-26T19:56:37.600186",
     "exception": false,
     "start_time": "2023-03-26T19:56:37.588314",
     "status": "completed"
    },
    "tags": []
   },
   "source": []
  },
  {
   "cell_type": "code",
   "execution_count": 27,
   "id": "36467f50",
   "metadata": {
    "execution": {
     "iopub.execute_input": "2023-03-26T19:56:37.626639Z",
     "iopub.status.busy": "2023-03-26T19:56:37.626188Z",
     "iopub.status.idle": "2023-03-26T19:56:38.162548Z",
     "shell.execute_reply": "2023-03-26T19:56:38.161461Z"
    },
    "papermill": {
     "duration": 0.553417,
     "end_time": "2023-03-26T19:56:38.165803",
     "exception": false,
     "start_time": "2023-03-26T19:56:37.612386",
     "status": "completed"
    },
    "tags": []
   },
   "outputs": [],
   "source": [
    "ratings_with_books= ratings.merge(books, on=\"ISBN\")"
   ]
  },
  {
   "cell_type": "code",
   "execution_count": 28,
   "id": "9846d482",
   "metadata": {
    "execution": {
     "iopub.execute_input": "2023-03-26T19:56:38.192295Z",
     "iopub.status.busy": "2023-03-26T19:56:38.191912Z",
     "iopub.status.idle": "2023-03-26T19:56:38.206443Z",
     "shell.execute_reply": "2023-03-26T19:56:38.205103Z"
    },
    "papermill": {
     "duration": 0.031226,
     "end_time": "2023-03-26T19:56:38.209465",
     "exception": false,
     "start_time": "2023-03-26T19:56:38.178239",
     "status": "completed"
    },
    "tags": []
   },
   "outputs": [
    {
     "data": {
      "text/html": [
       "<div>\n",
       "<style scoped>\n",
       "    .dataframe tbody tr th:only-of-type {\n",
       "        vertical-align: middle;\n",
       "    }\n",
       "\n",
       "    .dataframe tbody tr th {\n",
       "        vertical-align: top;\n",
       "    }\n",
       "\n",
       "    .dataframe thead th {\n",
       "        text-align: right;\n",
       "    }\n",
       "</style>\n",
       "<table border=\"1\" class=\"dataframe\">\n",
       "  <thead>\n",
       "    <tr style=\"text-align: right;\">\n",
       "      <th></th>\n",
       "      <th>user_id</th>\n",
       "      <th>ISBN</th>\n",
       "      <th>rating</th>\n",
       "      <th>title</th>\n",
       "      <th>author</th>\n",
       "      <th>year</th>\n",
       "      <th>publisher</th>\n",
       "      <th>img_url</th>\n",
       "    </tr>\n",
       "  </thead>\n",
       "  <tbody>\n",
       "    <tr>\n",
       "      <th>0</th>\n",
       "      <td>277427</td>\n",
       "      <td>002542730X</td>\n",
       "      <td>10</td>\n",
       "      <td>Politically Correct Bedtime Stories: Modern Ta...</td>\n",
       "      <td>James Finn Garner</td>\n",
       "      <td>1994</td>\n",
       "      <td>John Wiley &amp;amp; Sons Inc</td>\n",
       "      <td>http://images.amazon.com/images/P/002542730X.0...</td>\n",
       "    </tr>\n",
       "    <tr>\n",
       "      <th>1</th>\n",
       "      <td>3363</td>\n",
       "      <td>002542730X</td>\n",
       "      <td>0</td>\n",
       "      <td>Politically Correct Bedtime Stories: Modern Ta...</td>\n",
       "      <td>James Finn Garner</td>\n",
       "      <td>1994</td>\n",
       "      <td>John Wiley &amp;amp; Sons Inc</td>\n",
       "      <td>http://images.amazon.com/images/P/002542730X.0...</td>\n",
       "    </tr>\n",
       "  </tbody>\n",
       "</table>\n",
       "</div>"
      ],
      "text/plain": [
       "   user_id        ISBN  rating  \\\n",
       "0   277427  002542730X      10   \n",
       "1     3363  002542730X       0   \n",
       "\n",
       "                                               title             author  year  \\\n",
       "0  Politically Correct Bedtime Stories: Modern Ta...  James Finn Garner  1994   \n",
       "1  Politically Correct Bedtime Stories: Modern Ta...  James Finn Garner  1994   \n",
       "\n",
       "                   publisher  \\\n",
       "0  John Wiley &amp; Sons Inc   \n",
       "1  John Wiley &amp; Sons Inc   \n",
       "\n",
       "                                             img_url  \n",
       "0  http://images.amazon.com/images/P/002542730X.0...  \n",
       "1  http://images.amazon.com/images/P/002542730X.0...  "
      ]
     },
     "execution_count": 28,
     "metadata": {},
     "output_type": "execute_result"
    }
   ],
   "source": [
    "ratings_with_books.head(2)"
   ]
  },
  {
   "cell_type": "code",
   "execution_count": 29,
   "id": "24b2f0cf",
   "metadata": {
    "execution": {
     "iopub.execute_input": "2023-03-26T19:56:38.236574Z",
     "iopub.status.busy": "2023-03-26T19:56:38.235812Z",
     "iopub.status.idle": "2023-03-26T19:56:38.242837Z",
     "shell.execute_reply": "2023-03-26T19:56:38.241683Z"
    },
    "papermill": {
     "duration": 0.02342,
     "end_time": "2023-03-26T19:56:38.245283",
     "exception": false,
     "start_time": "2023-03-26T19:56:38.221863",
     "status": "completed"
    },
    "tags": []
   },
   "outputs": [
    {
     "data": {
      "text/plain": [
       "(487671, 8)"
      ]
     },
     "execution_count": 29,
     "metadata": {},
     "output_type": "execute_result"
    }
   ],
   "source": [
    "ratings_with_books.shape"
   ]
  },
  {
   "cell_type": "code",
   "execution_count": 30,
   "id": "316e060f",
   "metadata": {
    "execution": {
     "iopub.execute_input": "2023-03-26T19:56:38.272305Z",
     "iopub.status.busy": "2023-03-26T19:56:38.271894Z",
     "iopub.status.idle": "2023-03-26T19:56:38.674808Z",
     "shell.execute_reply": "2023-03-26T19:56:38.673753Z"
    },
    "papermill": {
     "duration": 0.41965,
     "end_time": "2023-03-26T19:56:38.677631",
     "exception": false,
     "start_time": "2023-03-26T19:56:38.257981",
     "status": "completed"
    },
    "tags": []
   },
   "outputs": [],
   "source": [
    "num_rating=ratings_with_books.groupby('title')['rating'].count().reset_index()"
   ]
  },
  {
   "cell_type": "code",
   "execution_count": 31,
   "id": "2d837a6e",
   "metadata": {
    "execution": {
     "iopub.execute_input": "2023-03-26T19:56:38.705418Z",
     "iopub.status.busy": "2023-03-26T19:56:38.704352Z",
     "iopub.status.idle": "2023-03-26T19:56:38.714763Z",
     "shell.execute_reply": "2023-03-26T19:56:38.713875Z"
    },
    "papermill": {
     "duration": 0.026515,
     "end_time": "2023-03-26T19:56:38.716956",
     "exception": false,
     "start_time": "2023-03-26T19:56:38.690441",
     "status": "completed"
    },
    "tags": []
   },
   "outputs": [
    {
     "data": {
      "text/html": [
       "<div>\n",
       "<style scoped>\n",
       "    .dataframe tbody tr th:only-of-type {\n",
       "        vertical-align: middle;\n",
       "    }\n",
       "\n",
       "    .dataframe tbody tr th {\n",
       "        vertical-align: top;\n",
       "    }\n",
       "\n",
       "    .dataframe thead th {\n",
       "        text-align: right;\n",
       "    }\n",
       "</style>\n",
       "<table border=\"1\" class=\"dataframe\">\n",
       "  <thead>\n",
       "    <tr style=\"text-align: right;\">\n",
       "      <th></th>\n",
       "      <th>title</th>\n",
       "      <th>rating</th>\n",
       "    </tr>\n",
       "  </thead>\n",
       "  <tbody>\n",
       "    <tr>\n",
       "      <th>0</th>\n",
       "      <td>A Light in the Storm: The Civil War Diary of ...</td>\n",
       "      <td>2</td>\n",
       "    </tr>\n",
       "    <tr>\n",
       "      <th>1</th>\n",
       "      <td>Always Have Popsicles</td>\n",
       "      <td>1</td>\n",
       "    </tr>\n",
       "    <tr>\n",
       "      <th>2</th>\n",
       "      <td>Apple Magic (The Collector's series)</td>\n",
       "      <td>1</td>\n",
       "    </tr>\n",
       "    <tr>\n",
       "      <th>3</th>\n",
       "      <td>Beyond IBM: Leadership Marketing and Finance ...</td>\n",
       "      <td>1</td>\n",
       "    </tr>\n",
       "    <tr>\n",
       "      <th>4</th>\n",
       "      <td>Clifford Visita El Hospital (Clifford El Gran...</td>\n",
       "      <td>1</td>\n",
       "    </tr>\n",
       "  </tbody>\n",
       "</table>\n",
       "</div>"
      ],
      "text/plain": [
       "                                               title  rating\n",
       "0   A Light in the Storm: The Civil War Diary of ...       2\n",
       "1                              Always Have Popsicles       1\n",
       "2               Apple Magic (The Collector's series)       1\n",
       "3   Beyond IBM: Leadership Marketing and Finance ...       1\n",
       "4   Clifford Visita El Hospital (Clifford El Gran...       1"
      ]
     },
     "execution_count": 31,
     "metadata": {},
     "output_type": "execute_result"
    }
   ],
   "source": [
    "num_rating.head()"
   ]
  },
  {
   "cell_type": "code",
   "execution_count": 32,
   "id": "023efc99",
   "metadata": {
    "execution": {
     "iopub.execute_input": "2023-03-26T19:56:38.745242Z",
     "iopub.status.busy": "2023-03-26T19:56:38.743925Z",
     "iopub.status.idle": "2023-03-26T19:56:38.750018Z",
     "shell.execute_reply": "2023-03-26T19:56:38.749087Z"
    },
    "papermill": {
     "duration": 0.022691,
     "end_time": "2023-03-26T19:56:38.752411",
     "exception": false,
     "start_time": "2023-03-26T19:56:38.729720",
     "status": "completed"
    },
    "tags": []
   },
   "outputs": [],
   "source": [
    "num_rating.rename(columns={\n",
    "    \"rating\":\"num_of_rating\"\n",
    "},inplace=True)"
   ]
  },
  {
   "cell_type": "code",
   "execution_count": 33,
   "id": "1615b2a3",
   "metadata": {
    "execution": {
     "iopub.execute_input": "2023-03-26T19:56:38.780831Z",
     "iopub.status.busy": "2023-03-26T19:56:38.779603Z",
     "iopub.status.idle": "2023-03-26T19:56:38.789727Z",
     "shell.execute_reply": "2023-03-26T19:56:38.788529Z"
    },
    "papermill": {
     "duration": 0.026796,
     "end_time": "2023-03-26T19:56:38.792077",
     "exception": false,
     "start_time": "2023-03-26T19:56:38.765281",
     "status": "completed"
    },
    "tags": []
   },
   "outputs": [
    {
     "data": {
      "text/html": [
       "<div>\n",
       "<style scoped>\n",
       "    .dataframe tbody tr th:only-of-type {\n",
       "        vertical-align: middle;\n",
       "    }\n",
       "\n",
       "    .dataframe tbody tr th {\n",
       "        vertical-align: top;\n",
       "    }\n",
       "\n",
       "    .dataframe thead th {\n",
       "        text-align: right;\n",
       "    }\n",
       "</style>\n",
       "<table border=\"1\" class=\"dataframe\">\n",
       "  <thead>\n",
       "    <tr style=\"text-align: right;\">\n",
       "      <th></th>\n",
       "      <th>title</th>\n",
       "      <th>num_of_rating</th>\n",
       "    </tr>\n",
       "  </thead>\n",
       "  <tbody>\n",
       "    <tr>\n",
       "      <th>0</th>\n",
       "      <td>A Light in the Storm: The Civil War Diary of ...</td>\n",
       "      <td>2</td>\n",
       "    </tr>\n",
       "  </tbody>\n",
       "</table>\n",
       "</div>"
      ],
      "text/plain": [
       "                                               title  num_of_rating\n",
       "0   A Light in the Storm: The Civil War Diary of ...              2"
      ]
     },
     "execution_count": 33,
     "metadata": {},
     "output_type": "execute_result"
    }
   ],
   "source": [
    "num_rating.head(1)"
   ]
  },
  {
   "cell_type": "code",
   "execution_count": 34,
   "id": "a5cd1d21",
   "metadata": {
    "execution": {
     "iopub.execute_input": "2023-03-26T19:56:38.819936Z",
     "iopub.status.busy": "2023-03-26T19:56:38.819135Z",
     "iopub.status.idle": "2023-03-26T19:56:39.083001Z",
     "shell.execute_reply": "2023-03-26T19:56:39.081702Z"
    },
    "papermill": {
     "duration": 0.280943,
     "end_time": "2023-03-26T19:56:39.085832",
     "exception": false,
     "start_time": "2023-03-26T19:56:38.804889",
     "status": "completed"
    },
    "tags": []
   },
   "outputs": [],
   "source": [
    "final_rating=ratings_with_books.merge(num_rating, on=\"title\")"
   ]
  },
  {
   "cell_type": "code",
   "execution_count": 35,
   "id": "c1b2eb15",
   "metadata": {
    "execution": {
     "iopub.execute_input": "2023-03-26T19:56:39.114530Z",
     "iopub.status.busy": "2023-03-26T19:56:39.113398Z",
     "iopub.status.idle": "2023-03-26T19:56:39.129791Z",
     "shell.execute_reply": "2023-03-26T19:56:39.128405Z"
    },
    "papermill": {
     "duration": 0.03333,
     "end_time": "2023-03-26T19:56:39.132200",
     "exception": false,
     "start_time": "2023-03-26T19:56:39.098870",
     "status": "completed"
    },
    "tags": []
   },
   "outputs": [
    {
     "data": {
      "text/html": [
       "<div>\n",
       "<style scoped>\n",
       "    .dataframe tbody tr th:only-of-type {\n",
       "        vertical-align: middle;\n",
       "    }\n",
       "\n",
       "    .dataframe tbody tr th {\n",
       "        vertical-align: top;\n",
       "    }\n",
       "\n",
       "    .dataframe thead th {\n",
       "        text-align: right;\n",
       "    }\n",
       "</style>\n",
       "<table border=\"1\" class=\"dataframe\">\n",
       "  <thead>\n",
       "    <tr style=\"text-align: right;\">\n",
       "      <th></th>\n",
       "      <th>user_id</th>\n",
       "      <th>ISBN</th>\n",
       "      <th>rating</th>\n",
       "      <th>title</th>\n",
       "      <th>author</th>\n",
       "      <th>year</th>\n",
       "      <th>publisher</th>\n",
       "      <th>img_url</th>\n",
       "      <th>num_of_rating</th>\n",
       "    </tr>\n",
       "  </thead>\n",
       "  <tbody>\n",
       "    <tr>\n",
       "      <th>0</th>\n",
       "      <td>277427</td>\n",
       "      <td>002542730X</td>\n",
       "      <td>10</td>\n",
       "      <td>Politically Correct Bedtime Stories: Modern Ta...</td>\n",
       "      <td>James Finn Garner</td>\n",
       "      <td>1994</td>\n",
       "      <td>John Wiley &amp;amp; Sons Inc</td>\n",
       "      <td>http://images.amazon.com/images/P/002542730X.0...</td>\n",
       "      <td>82</td>\n",
       "    </tr>\n",
       "  </tbody>\n",
       "</table>\n",
       "</div>"
      ],
      "text/plain": [
       "   user_id        ISBN  rating  \\\n",
       "0   277427  002542730X      10   \n",
       "\n",
       "                                               title             author  year  \\\n",
       "0  Politically Correct Bedtime Stories: Modern Ta...  James Finn Garner  1994   \n",
       "\n",
       "                   publisher  \\\n",
       "0  John Wiley &amp; Sons Inc   \n",
       "\n",
       "                                             img_url  num_of_rating  \n",
       "0  http://images.amazon.com/images/P/002542730X.0...             82  "
      ]
     },
     "execution_count": 35,
     "metadata": {},
     "output_type": "execute_result"
    }
   ],
   "source": [
    "final_rating.head(1)"
   ]
  },
  {
   "cell_type": "code",
   "execution_count": 36,
   "id": "d7d23d40",
   "metadata": {
    "execution": {
     "iopub.execute_input": "2023-03-26T19:56:39.160769Z",
     "iopub.status.busy": "2023-03-26T19:56:39.159853Z",
     "iopub.status.idle": "2023-03-26T19:56:39.167149Z",
     "shell.execute_reply": "2023-03-26T19:56:39.166194Z"
    },
    "papermill": {
     "duration": 0.024312,
     "end_time": "2023-03-26T19:56:39.169529",
     "exception": false,
     "start_time": "2023-03-26T19:56:39.145217",
     "status": "completed"
    },
    "tags": []
   },
   "outputs": [
    {
     "data": {
      "text/plain": [
       "(487671, 9)"
      ]
     },
     "execution_count": 36,
     "metadata": {},
     "output_type": "execute_result"
    }
   ],
   "source": [
    "final_rating.shape"
   ]
  },
  {
   "cell_type": "code",
   "execution_count": 37,
   "id": "aa01d454",
   "metadata": {
    "execution": {
     "iopub.execute_input": "2023-03-26T19:56:39.198110Z",
     "iopub.status.busy": "2023-03-26T19:56:39.197094Z",
     "iopub.status.idle": "2023-03-26T19:56:39.380412Z",
     "shell.execute_reply": "2023-03-26T19:56:39.379295Z"
    },
    "papermill": {
     "duration": 0.200897,
     "end_time": "2023-03-26T19:56:39.383421",
     "exception": false,
     "start_time": "2023-03-26T19:56:39.182524",
     "status": "completed"
    },
    "tags": []
   },
   "outputs": [],
   "source": [
    "final_rating=final_rating[final_rating['num_of_rating']>=50]"
   ]
  },
  {
   "cell_type": "code",
   "execution_count": 38,
   "id": "81f4cb60",
   "metadata": {
    "execution": {
     "iopub.execute_input": "2023-03-26T19:56:39.412379Z",
     "iopub.status.busy": "2023-03-26T19:56:39.411194Z",
     "iopub.status.idle": "2023-03-26T19:56:39.425510Z",
     "shell.execute_reply": "2023-03-26T19:56:39.424570Z"
    },
    "papermill": {
     "duration": 0.031875,
     "end_time": "2023-03-26T19:56:39.428597",
     "exception": false,
     "start_time": "2023-03-26T19:56:39.396722",
     "status": "completed"
    },
    "tags": []
   },
   "outputs": [
    {
     "data": {
      "text/html": [
       "<div>\n",
       "<style scoped>\n",
       "    .dataframe tbody tr th:only-of-type {\n",
       "        vertical-align: middle;\n",
       "    }\n",
       "\n",
       "    .dataframe tbody tr th {\n",
       "        vertical-align: top;\n",
       "    }\n",
       "\n",
       "    .dataframe thead th {\n",
       "        text-align: right;\n",
       "    }\n",
       "</style>\n",
       "<table border=\"1\" class=\"dataframe\">\n",
       "  <thead>\n",
       "    <tr style=\"text-align: right;\">\n",
       "      <th></th>\n",
       "      <th>user_id</th>\n",
       "      <th>ISBN</th>\n",
       "      <th>rating</th>\n",
       "      <th>title</th>\n",
       "      <th>author</th>\n",
       "      <th>year</th>\n",
       "      <th>publisher</th>\n",
       "      <th>img_url</th>\n",
       "      <th>num_of_rating</th>\n",
       "    </tr>\n",
       "  </thead>\n",
       "  <tbody>\n",
       "    <tr>\n",
       "      <th>0</th>\n",
       "      <td>277427</td>\n",
       "      <td>002542730X</td>\n",
       "      <td>10</td>\n",
       "      <td>Politically Correct Bedtime Stories: Modern Ta...</td>\n",
       "      <td>James Finn Garner</td>\n",
       "      <td>1994</td>\n",
       "      <td>John Wiley &amp;amp; Sons Inc</td>\n",
       "      <td>http://images.amazon.com/images/P/002542730X.0...</td>\n",
       "      <td>82</td>\n",
       "    </tr>\n",
       "    <tr>\n",
       "      <th>1</th>\n",
       "      <td>3363</td>\n",
       "      <td>002542730X</td>\n",
       "      <td>0</td>\n",
       "      <td>Politically Correct Bedtime Stories: Modern Ta...</td>\n",
       "      <td>James Finn Garner</td>\n",
       "      <td>1994</td>\n",
       "      <td>John Wiley &amp;amp; Sons Inc</td>\n",
       "      <td>http://images.amazon.com/images/P/002542730X.0...</td>\n",
       "      <td>82</td>\n",
       "    </tr>\n",
       "  </tbody>\n",
       "</table>\n",
       "</div>"
      ],
      "text/plain": [
       "   user_id        ISBN  rating  \\\n",
       "0   277427  002542730X      10   \n",
       "1     3363  002542730X       0   \n",
       "\n",
       "                                               title             author  year  \\\n",
       "0  Politically Correct Bedtime Stories: Modern Ta...  James Finn Garner  1994   \n",
       "1  Politically Correct Bedtime Stories: Modern Ta...  James Finn Garner  1994   \n",
       "\n",
       "                   publisher  \\\n",
       "0  John Wiley &amp; Sons Inc   \n",
       "1  John Wiley &amp; Sons Inc   \n",
       "\n",
       "                                             img_url  num_of_rating  \n",
       "0  http://images.amazon.com/images/P/002542730X.0...             82  \n",
       "1  http://images.amazon.com/images/P/002542730X.0...             82  "
      ]
     },
     "execution_count": 38,
     "metadata": {},
     "output_type": "execute_result"
    }
   ],
   "source": [
    "final_rating.head(2)"
   ]
  },
  {
   "cell_type": "code",
   "execution_count": 39,
   "id": "8cbc9da6",
   "metadata": {
    "execution": {
     "iopub.execute_input": "2023-03-26T19:56:39.458215Z",
     "iopub.status.busy": "2023-03-26T19:56:39.457523Z",
     "iopub.status.idle": "2023-03-26T19:56:39.464546Z",
     "shell.execute_reply": "2023-03-26T19:56:39.463263Z"
    },
    "papermill": {
     "duration": 0.025168,
     "end_time": "2023-03-26T19:56:39.467457",
     "exception": false,
     "start_time": "2023-03-26T19:56:39.442289",
     "status": "completed"
    },
    "tags": []
   },
   "outputs": [
    {
     "data": {
      "text/plain": [
       "(61853, 9)"
      ]
     },
     "execution_count": 39,
     "metadata": {},
     "output_type": "execute_result"
    }
   ],
   "source": [
    "final_rating.shape"
   ]
  },
  {
   "cell_type": "code",
   "execution_count": 40,
   "id": "1eed351c",
   "metadata": {
    "execution": {
     "iopub.execute_input": "2023-03-26T19:56:39.496889Z",
     "iopub.status.busy": "2023-03-26T19:56:39.495715Z",
     "iopub.status.idle": "2023-03-26T19:56:39.518190Z",
     "shell.execute_reply": "2023-03-26T19:56:39.516923Z"
    },
    "papermill": {
     "duration": 0.039956,
     "end_time": "2023-03-26T19:56:39.520861",
     "exception": false,
     "start_time": "2023-03-26T19:56:39.480905",
     "status": "completed"
    },
    "tags": []
   },
   "outputs": [],
   "source": [
    "final_rating.drop_duplicates(['user_id','title'],inplace=True)"
   ]
  },
  {
   "cell_type": "code",
   "execution_count": 41,
   "id": "f1c1b795",
   "metadata": {
    "execution": {
     "iopub.execute_input": "2023-03-26T19:56:39.550074Z",
     "iopub.status.busy": "2023-03-26T19:56:39.549065Z",
     "iopub.status.idle": "2023-03-26T19:56:39.556880Z",
     "shell.execute_reply": "2023-03-26T19:56:39.555721Z"
    },
    "papermill": {
     "duration": 0.024774,
     "end_time": "2023-03-26T19:56:39.559125",
     "exception": false,
     "start_time": "2023-03-26T19:56:39.534351",
     "status": "completed"
    },
    "tags": []
   },
   "outputs": [
    {
     "data": {
      "text/plain": [
       "(59850, 9)"
      ]
     },
     "execution_count": 41,
     "metadata": {},
     "output_type": "execute_result"
    }
   ],
   "source": [
    "final_rating.shape"
   ]
  },
  {
   "cell_type": "code",
   "execution_count": 42,
   "id": "e6af836f",
   "metadata": {
    "execution": {
     "iopub.execute_input": "2023-03-26T19:56:39.588425Z",
     "iopub.status.busy": "2023-03-26T19:56:39.587386Z",
     "iopub.status.idle": "2023-03-26T19:56:39.601592Z",
     "shell.execute_reply": "2023-03-26T19:56:39.600520Z"
    },
    "papermill": {
     "duration": 0.031341,
     "end_time": "2023-03-26T19:56:39.603876",
     "exception": false,
     "start_time": "2023-03-26T19:56:39.572535",
     "status": "completed"
    },
    "tags": []
   },
   "outputs": [
    {
     "data": {
      "text/html": [
       "<div>\n",
       "<style scoped>\n",
       "    .dataframe tbody tr th:only-of-type {\n",
       "        vertical-align: middle;\n",
       "    }\n",
       "\n",
       "    .dataframe tbody tr th {\n",
       "        vertical-align: top;\n",
       "    }\n",
       "\n",
       "    .dataframe thead th {\n",
       "        text-align: right;\n",
       "    }\n",
       "</style>\n",
       "<table border=\"1\" class=\"dataframe\">\n",
       "  <thead>\n",
       "    <tr style=\"text-align: right;\">\n",
       "      <th></th>\n",
       "      <th>user_id</th>\n",
       "      <th>ISBN</th>\n",
       "      <th>rating</th>\n",
       "      <th>title</th>\n",
       "      <th>author</th>\n",
       "      <th>year</th>\n",
       "      <th>publisher</th>\n",
       "      <th>img_url</th>\n",
       "      <th>num_of_rating</th>\n",
       "    </tr>\n",
       "  </thead>\n",
       "  <tbody>\n",
       "    <tr>\n",
       "      <th>0</th>\n",
       "      <td>277427</td>\n",
       "      <td>002542730X</td>\n",
       "      <td>10</td>\n",
       "      <td>Politically Correct Bedtime Stories: Modern Ta...</td>\n",
       "      <td>James Finn Garner</td>\n",
       "      <td>1994</td>\n",
       "      <td>John Wiley &amp;amp; Sons Inc</td>\n",
       "      <td>http://images.amazon.com/images/P/002542730X.0...</td>\n",
       "      <td>82</td>\n",
       "    </tr>\n",
       "    <tr>\n",
       "      <th>1</th>\n",
       "      <td>3363</td>\n",
       "      <td>002542730X</td>\n",
       "      <td>0</td>\n",
       "      <td>Politically Correct Bedtime Stories: Modern Ta...</td>\n",
       "      <td>James Finn Garner</td>\n",
       "      <td>1994</td>\n",
       "      <td>John Wiley &amp;amp; Sons Inc</td>\n",
       "      <td>http://images.amazon.com/images/P/002542730X.0...</td>\n",
       "      <td>82</td>\n",
       "    </tr>\n",
       "  </tbody>\n",
       "</table>\n",
       "</div>"
      ],
      "text/plain": [
       "   user_id        ISBN  rating  \\\n",
       "0   277427  002542730X      10   \n",
       "1     3363  002542730X       0   \n",
       "\n",
       "                                               title             author  year  \\\n",
       "0  Politically Correct Bedtime Stories: Modern Ta...  James Finn Garner  1994   \n",
       "1  Politically Correct Bedtime Stories: Modern Ta...  James Finn Garner  1994   \n",
       "\n",
       "                   publisher  \\\n",
       "0  John Wiley &amp; Sons Inc   \n",
       "1  John Wiley &amp; Sons Inc   \n",
       "\n",
       "                                             img_url  num_of_rating  \n",
       "0  http://images.amazon.com/images/P/002542730X.0...             82  \n",
       "1  http://images.amazon.com/images/P/002542730X.0...             82  "
      ]
     },
     "execution_count": 42,
     "metadata": {},
     "output_type": "execute_result"
    }
   ],
   "source": [
    "final_rating.head(2)"
   ]
  },
  {
   "cell_type": "code",
   "execution_count": null,
   "id": "3047f873",
   "metadata": {
    "papermill": {
     "duration": 0.013386,
     "end_time": "2023-03-26T19:56:39.631175",
     "exception": false,
     "start_time": "2023-03-26T19:56:39.617789",
     "status": "completed"
    },
    "tags": []
   },
   "outputs": [],
   "source": []
  }
 ],
 "metadata": {
  "kernelspec": {
   "display_name": "Python 3",
   "language": "python",
   "name": "python3"
  },
  "language_info": {
   "codemirror_mode": {
    "name": "ipython",
    "version": 3
   },
   "file_extension": ".py",
   "mimetype": "text/x-python",
   "name": "python",
   "nbconvert_exporter": "python",
   "pygments_lexer": "ipython3",
   "version": "3.7.12"
  },
  "papermill": {
   "default_parameters": {},
   "duration": 19.260703,
   "end_time": "2023-03-26T19:56:40.568352",
   "environment_variables": {},
   "exception": null,
   "input_path": "__notebook__.ipynb",
   "output_path": "__notebook__.ipynb",
   "parameters": {},
   "start_time": "2023-03-26T19:56:21.307649",
   "version": "2.4.0"
  }
 },
 "nbformat": 4,
 "nbformat_minor": 5
}
