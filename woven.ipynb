{
 "cells": [
  {
   "cell_type": "code",
   "execution_count": 1,
   "id": "f01fb167",
   "metadata": {
    "_cell_guid": "b1076dfc-b9ad-4769-8c92-a6c4dae69d19",
    "_uuid": "8f2839f25d086af736a60e9eeb907d3b93b6e0e5",
    "execution": {
     "iopub.execute_input": "2023-03-24T17:13:50.534902Z",
     "iopub.status.busy": "2023-03-24T17:13:50.534449Z",
     "iopub.status.idle": "2023-03-24T17:13:50.554029Z",
     "shell.execute_reply": "2023-03-24T17:13:50.552729Z"
    },
    "papermill": {
     "duration": 0.031722,
     "end_time": "2023-03-24T17:13:50.558066",
     "exception": false,
     "start_time": "2023-03-24T17:13:50.526344",
     "status": "completed"
    },
    "tags": []
   },
   "outputs": [
    {
     "name": "stdout",
     "output_type": "stream",
     "text": [
      "/kaggle/input/book-recommendation-dataset/Ratings.csv\n",
      "/kaggle/input/book-recommendation-dataset/Users.csv\n",
      "/kaggle/input/book-recommendation-dataset/Books.csv\n"
     ]
    }
   ],
   "source": [
    "# This Python 3 environment comes with many helpful analytics libraries installed\n",
    "# It is defined by the kaggle/python Docker image: https://github.com/kaggle/docker-python\n",
    "# For example, here's several helpful packages to load\n",
    "\n",
    "import numpy as np # linear algebra\n",
    "import pandas as pd # data processing, CSV file I/O (e.g. pd.read_csv)\n",
    "\n",
    "# Input data files are available in the read-only \"../input/\" directory\n",
    "# For example, running this (by clicking run or pressing Shift+Enter) will list all files under the input directory\n",
    "\n",
    "import os\n",
    "for dirname, _, filenames in os.walk('/kaggle/input'):\n",
    "    for filename in filenames:\n",
    "        print(os.path.join(dirname, filename))\n",
    "\n",
    "# You can write up to 20GB to the current directory (/kaggle/working/) that gets preserved as output when you create a version using \"Save & Run All\" \n",
    "# You can also write temporary files to /kaggle/temp/, but they won't be saved outside of the current session"
   ]
  },
  {
   "cell_type": "code",
   "execution_count": 2,
   "id": "c4240e3f",
   "metadata": {
    "execution": {
     "iopub.execute_input": "2023-03-24T17:13:50.571408Z",
     "iopub.status.busy": "2023-03-24T17:13:50.570389Z",
     "iopub.status.idle": "2023-03-24T17:13:51.771466Z",
     "shell.execute_reply": "2023-03-24T17:13:51.770126Z"
    },
    "papermill": {
     "duration": 1.210431,
     "end_time": "2023-03-24T17:13:51.774162",
     "exception": false,
     "start_time": "2023-03-24T17:13:50.563731",
     "status": "completed"
    },
    "tags": []
   },
   "outputs": [],
   "source": [
    "import pandas as pd\n",
    "import numpy as np\n",
    "import matplotlib.pyplot as plt\n",
    "import seaborn as sns"
   ]
  },
  {
   "cell_type": "code",
   "execution_count": 3,
   "id": "0a6bb051",
   "metadata": {
    "execution": {
     "iopub.execute_input": "2023-03-24T17:13:51.786780Z",
     "iopub.status.busy": "2023-03-24T17:13:51.785780Z",
     "iopub.status.idle": "2023-03-24T17:13:55.982010Z",
     "shell.execute_reply": "2023-03-24T17:13:55.980780Z"
    },
    "papermill": {
     "duration": 4.206024,
     "end_time": "2023-03-24T17:13:55.985375",
     "exception": false,
     "start_time": "2023-03-24T17:13:51.779351",
     "status": "completed"
    },
    "tags": []
   },
   "outputs": [],
   "source": [
    "books=pd.read_csv(\"/kaggle/input/book-recommendation-dataset/Books.csv\",low_memory=False)\n",
    "Ratings=pd.read_csv(\"/kaggle/input/book-recommendation-dataset/Ratings.csv\")\n",
    "Users = pd.read_csv(\"/kaggle/input/book-recommendation-dataset/Users.csv\")"
   ]
  },
  {
   "cell_type": "code",
   "execution_count": 4,
   "id": "402e94fe",
   "metadata": {
    "execution": {
     "iopub.execute_input": "2023-03-24T17:13:55.998097Z",
     "iopub.status.busy": "2023-03-24T17:13:55.996965Z",
     "iopub.status.idle": "2023-03-24T17:13:56.030296Z",
     "shell.execute_reply": "2023-03-24T17:13:56.028730Z"
    },
    "papermill": {
     "duration": 0.042267,
     "end_time": "2023-03-24T17:13:56.032946",
     "exception": false,
     "start_time": "2023-03-24T17:13:55.990679",
     "status": "completed"
    },
    "tags": []
   },
   "outputs": [
    {
     "data": {
      "text/html": [
       "<div>\n",
       "<style scoped>\n",
       "    .dataframe tbody tr th:only-of-type {\n",
       "        vertical-align: middle;\n",
       "    }\n",
       "\n",
       "    .dataframe tbody tr th {\n",
       "        vertical-align: top;\n",
       "    }\n",
       "\n",
       "    .dataframe thead th {\n",
       "        text-align: right;\n",
       "    }\n",
       "</style>\n",
       "<table border=\"1\" class=\"dataframe\">\n",
       "  <thead>\n",
       "    <tr style=\"text-align: right;\">\n",
       "      <th></th>\n",
       "      <th>ISBN</th>\n",
       "      <th>Book-Title</th>\n",
       "      <th>Book-Author</th>\n",
       "      <th>Year-Of-Publication</th>\n",
       "      <th>Publisher</th>\n",
       "      <th>Image-URL-S</th>\n",
       "      <th>Image-URL-M</th>\n",
       "      <th>Image-URL-L</th>\n",
       "    </tr>\n",
       "  </thead>\n",
       "  <tbody>\n",
       "    <tr>\n",
       "      <th>0</th>\n",
       "      <td>0195153448</td>\n",
       "      <td>Classical Mythology</td>\n",
       "      <td>Mark P. O. Morford</td>\n",
       "      <td>2002</td>\n",
       "      <td>Oxford University Press</td>\n",
       "      <td>http://images.amazon.com/images/P/0195153448.0...</td>\n",
       "      <td>http://images.amazon.com/images/P/0195153448.0...</td>\n",
       "      <td>http://images.amazon.com/images/P/0195153448.0...</td>\n",
       "    </tr>\n",
       "    <tr>\n",
       "      <th>1</th>\n",
       "      <td>0002005018</td>\n",
       "      <td>Clara Callan</td>\n",
       "      <td>Richard Bruce Wright</td>\n",
       "      <td>2001</td>\n",
       "      <td>HarperFlamingo Canada</td>\n",
       "      <td>http://images.amazon.com/images/P/0002005018.0...</td>\n",
       "      <td>http://images.amazon.com/images/P/0002005018.0...</td>\n",
       "      <td>http://images.amazon.com/images/P/0002005018.0...</td>\n",
       "    </tr>\n",
       "    <tr>\n",
       "      <th>2</th>\n",
       "      <td>0060973129</td>\n",
       "      <td>Decision in Normandy</td>\n",
       "      <td>Carlo D'Este</td>\n",
       "      <td>1991</td>\n",
       "      <td>HarperPerennial</td>\n",
       "      <td>http://images.amazon.com/images/P/0060973129.0...</td>\n",
       "      <td>http://images.amazon.com/images/P/0060973129.0...</td>\n",
       "      <td>http://images.amazon.com/images/P/0060973129.0...</td>\n",
       "    </tr>\n",
       "    <tr>\n",
       "      <th>3</th>\n",
       "      <td>0374157065</td>\n",
       "      <td>Flu: The Story of the Great Influenza Pandemic...</td>\n",
       "      <td>Gina Bari Kolata</td>\n",
       "      <td>1999</td>\n",
       "      <td>Farrar Straus Giroux</td>\n",
       "      <td>http://images.amazon.com/images/P/0374157065.0...</td>\n",
       "      <td>http://images.amazon.com/images/P/0374157065.0...</td>\n",
       "      <td>http://images.amazon.com/images/P/0374157065.0...</td>\n",
       "    </tr>\n",
       "    <tr>\n",
       "      <th>4</th>\n",
       "      <td>0393045218</td>\n",
       "      <td>The Mummies of Urumchi</td>\n",
       "      <td>E. J. W. Barber</td>\n",
       "      <td>1999</td>\n",
       "      <td>W. W. Norton &amp;amp; Company</td>\n",
       "      <td>http://images.amazon.com/images/P/0393045218.0...</td>\n",
       "      <td>http://images.amazon.com/images/P/0393045218.0...</td>\n",
       "      <td>http://images.amazon.com/images/P/0393045218.0...</td>\n",
       "    </tr>\n",
       "  </tbody>\n",
       "</table>\n",
       "</div>"
      ],
      "text/plain": [
       "         ISBN                                         Book-Title  \\\n",
       "0  0195153448                                Classical Mythology   \n",
       "1  0002005018                                       Clara Callan   \n",
       "2  0060973129                               Decision in Normandy   \n",
       "3  0374157065  Flu: The Story of the Great Influenza Pandemic...   \n",
       "4  0393045218                             The Mummies of Urumchi   \n",
       "\n",
       "            Book-Author Year-Of-Publication                   Publisher  \\\n",
       "0    Mark P. O. Morford                2002     Oxford University Press   \n",
       "1  Richard Bruce Wright                2001       HarperFlamingo Canada   \n",
       "2          Carlo D'Este                1991             HarperPerennial   \n",
       "3      Gina Bari Kolata                1999        Farrar Straus Giroux   \n",
       "4       E. J. W. Barber                1999  W. W. Norton &amp; Company   \n",
       "\n",
       "                                         Image-URL-S  \\\n",
       "0  http://images.amazon.com/images/P/0195153448.0...   \n",
       "1  http://images.amazon.com/images/P/0002005018.0...   \n",
       "2  http://images.amazon.com/images/P/0060973129.0...   \n",
       "3  http://images.amazon.com/images/P/0374157065.0...   \n",
       "4  http://images.amazon.com/images/P/0393045218.0...   \n",
       "\n",
       "                                         Image-URL-M  \\\n",
       "0  http://images.amazon.com/images/P/0195153448.0...   \n",
       "1  http://images.amazon.com/images/P/0002005018.0...   \n",
       "2  http://images.amazon.com/images/P/0060973129.0...   \n",
       "3  http://images.amazon.com/images/P/0374157065.0...   \n",
       "4  http://images.amazon.com/images/P/0393045218.0...   \n",
       "\n",
       "                                         Image-URL-L  \n",
       "0  http://images.amazon.com/images/P/0195153448.0...  \n",
       "1  http://images.amazon.com/images/P/0002005018.0...  \n",
       "2  http://images.amazon.com/images/P/0060973129.0...  \n",
       "3  http://images.amazon.com/images/P/0374157065.0...  \n",
       "4  http://images.amazon.com/images/P/0393045218.0...  "
      ]
     },
     "execution_count": 4,
     "metadata": {},
     "output_type": "execute_result"
    }
   ],
   "source": [
    "books.head()"
   ]
  },
  {
   "cell_type": "code",
   "execution_count": 5,
   "id": "33f41889",
   "metadata": {
    "execution": {
     "iopub.execute_input": "2023-03-24T17:13:56.046014Z",
     "iopub.status.busy": "2023-03-24T17:13:56.045545Z",
     "iopub.status.idle": "2023-03-24T17:13:56.053281Z",
     "shell.execute_reply": "2023-03-24T17:13:56.052078Z"
    },
    "papermill": {
     "duration": 0.017126,
     "end_time": "2023-03-24T17:13:56.055650",
     "exception": false,
     "start_time": "2023-03-24T17:13:56.038524",
     "status": "completed"
    },
    "tags": []
   },
   "outputs": [
    {
     "data": {
      "text/plain": [
       "Index(['ISBN', 'Book-Title', 'Book-Author', 'Year-Of-Publication', 'Publisher',\n",
       "       'Image-URL-S', 'Image-URL-M', 'Image-URL-L'],\n",
       "      dtype='object')"
      ]
     },
     "execution_count": 5,
     "metadata": {},
     "output_type": "execute_result"
    }
   ],
   "source": [
    "books.columns"
   ]
  },
  {
   "cell_type": "code",
   "execution_count": 6,
   "id": "eb6511f0",
   "metadata": {
    "execution": {
     "iopub.execute_input": "2023-03-24T17:13:56.068814Z",
     "iopub.status.busy": "2023-03-24T17:13:56.068371Z",
     "iopub.status.idle": "2023-03-24T17:13:56.094804Z",
     "shell.execute_reply": "2023-03-24T17:13:56.093334Z"
    },
    "papermill": {
     "duration": 0.036335,
     "end_time": "2023-03-24T17:13:56.097684",
     "exception": false,
     "start_time": "2023-03-24T17:13:56.061349",
     "status": "completed"
    },
    "tags": []
   },
   "outputs": [],
   "source": [
    "books=books[['ISBN', 'Book-Title', 'Book-Author', 'Year-Of-Publication', 'Publisher',\n",
    "       'Image-URL-L']]"
   ]
  },
  {
   "cell_type": "code",
   "execution_count": 7,
   "id": "66847857",
   "metadata": {
    "execution": {
     "iopub.execute_input": "2023-03-24T17:13:56.110554Z",
     "iopub.status.busy": "2023-03-24T17:13:56.110097Z",
     "iopub.status.idle": "2023-03-24T17:13:56.124450Z",
     "shell.execute_reply": "2023-03-24T17:13:56.123130Z"
    },
    "papermill": {
     "duration": 0.023864,
     "end_time": "2023-03-24T17:13:56.127081",
     "exception": false,
     "start_time": "2023-03-24T17:13:56.103217",
     "status": "completed"
    },
    "tags": []
   },
   "outputs": [
    {
     "data": {
      "text/html": [
       "<div>\n",
       "<style scoped>\n",
       "    .dataframe tbody tr th:only-of-type {\n",
       "        vertical-align: middle;\n",
       "    }\n",
       "\n",
       "    .dataframe tbody tr th {\n",
       "        vertical-align: top;\n",
       "    }\n",
       "\n",
       "    .dataframe thead th {\n",
       "        text-align: right;\n",
       "    }\n",
       "</style>\n",
       "<table border=\"1\" class=\"dataframe\">\n",
       "  <thead>\n",
       "    <tr style=\"text-align: right;\">\n",
       "      <th></th>\n",
       "      <th>ISBN</th>\n",
       "      <th>Book-Title</th>\n",
       "      <th>Book-Author</th>\n",
       "      <th>Year-Of-Publication</th>\n",
       "      <th>Publisher</th>\n",
       "      <th>Image-URL-L</th>\n",
       "    </tr>\n",
       "  </thead>\n",
       "  <tbody>\n",
       "    <tr>\n",
       "      <th>0</th>\n",
       "      <td>0195153448</td>\n",
       "      <td>Classical Mythology</td>\n",
       "      <td>Mark P. O. Morford</td>\n",
       "      <td>2002</td>\n",
       "      <td>Oxford University Press</td>\n",
       "      <td>http://images.amazon.com/images/P/0195153448.0...</td>\n",
       "    </tr>\n",
       "  </tbody>\n",
       "</table>\n",
       "</div>"
      ],
      "text/plain": [
       "         ISBN           Book-Title         Book-Author Year-Of-Publication  \\\n",
       "0  0195153448  Classical Mythology  Mark P. O. Morford                2002   \n",
       "\n",
       "                 Publisher                                        Image-URL-L  \n",
       "0  Oxford University Press  http://images.amazon.com/images/P/0195153448.0...  "
      ]
     },
     "execution_count": 7,
     "metadata": {},
     "output_type": "execute_result"
    }
   ],
   "source": [
    "books.head(1)"
   ]
  },
  {
   "cell_type": "code",
   "execution_count": 8,
   "id": "da65eb15",
   "metadata": {
    "execution": {
     "iopub.execute_input": "2023-03-24T17:13:56.140950Z",
     "iopub.status.busy": "2023-03-24T17:13:56.139740Z",
     "iopub.status.idle": "2023-03-24T17:13:56.163517Z",
     "shell.execute_reply": "2023-03-24T17:13:56.162168Z"
    },
    "papermill": {
     "duration": 0.033843,
     "end_time": "2023-03-24T17:13:56.166499",
     "exception": false,
     "start_time": "2023-03-24T17:13:56.132656",
     "status": "completed"
    },
    "tags": []
   },
   "outputs": [],
   "source": [
    "books=books.rename(columns={\n",
    "    \"Book-Title\" : \"title\",\n",
    "    \"Book-Author\":\"author\",\n",
    "    \"Year-Of-Publication\":\"year\",\n",
    "    \"Publisher\":\"publisher\",\n",
    "    \"Image-URL-L\":\"img_url\",\n",
    "})"
   ]
  },
  {
   "cell_type": "code",
   "execution_count": 9,
   "id": "5a6a1bc3",
   "metadata": {
    "execution": {
     "iopub.execute_input": "2023-03-24T17:13:56.180080Z",
     "iopub.status.busy": "2023-03-24T17:13:56.179603Z",
     "iopub.status.idle": "2023-03-24T17:13:56.193850Z",
     "shell.execute_reply": "2023-03-24T17:13:56.192582Z"
    },
    "papermill": {
     "duration": 0.023999,
     "end_time": "2023-03-24T17:13:56.196363",
     "exception": false,
     "start_time": "2023-03-24T17:13:56.172364",
     "status": "completed"
    },
    "tags": []
   },
   "outputs": [
    {
     "data": {
      "text/html": [
       "<div>\n",
       "<style scoped>\n",
       "    .dataframe tbody tr th:only-of-type {\n",
       "        vertical-align: middle;\n",
       "    }\n",
       "\n",
       "    .dataframe tbody tr th {\n",
       "        vertical-align: top;\n",
       "    }\n",
       "\n",
       "    .dataframe thead th {\n",
       "        text-align: right;\n",
       "    }\n",
       "</style>\n",
       "<table border=\"1\" class=\"dataframe\">\n",
       "  <thead>\n",
       "    <tr style=\"text-align: right;\">\n",
       "      <th></th>\n",
       "      <th>ISBN</th>\n",
       "      <th>title</th>\n",
       "      <th>author</th>\n",
       "      <th>year</th>\n",
       "      <th>publisher</th>\n",
       "      <th>img_url</th>\n",
       "    </tr>\n",
       "  </thead>\n",
       "  <tbody>\n",
       "    <tr>\n",
       "      <th>0</th>\n",
       "      <td>0195153448</td>\n",
       "      <td>Classical Mythology</td>\n",
       "      <td>Mark P. O. Morford</td>\n",
       "      <td>2002</td>\n",
       "      <td>Oxford University Press</td>\n",
       "      <td>http://images.amazon.com/images/P/0195153448.0...</td>\n",
       "    </tr>\n",
       "  </tbody>\n",
       "</table>\n",
       "</div>"
      ],
      "text/plain": [
       "         ISBN                title              author  year  \\\n",
       "0  0195153448  Classical Mythology  Mark P. O. Morford  2002   \n",
       "\n",
       "                 publisher                                            img_url  \n",
       "0  Oxford University Press  http://images.amazon.com/images/P/0195153448.0...  "
      ]
     },
     "execution_count": 9,
     "metadata": {},
     "output_type": "execute_result"
    }
   ],
   "source": [
    "books.head(1)"
   ]
  },
  {
   "cell_type": "code",
   "execution_count": 10,
   "id": "da4533c1",
   "metadata": {
    "execution": {
     "iopub.execute_input": "2023-03-24T17:13:56.210474Z",
     "iopub.status.busy": "2023-03-24T17:13:56.209247Z",
     "iopub.status.idle": "2023-03-24T17:13:56.221523Z",
     "shell.execute_reply": "2023-03-24T17:13:56.220424Z"
    },
    "papermill": {
     "duration": 0.02223,
     "end_time": "2023-03-24T17:13:56.224312",
     "exception": false,
     "start_time": "2023-03-24T17:13:56.202082",
     "status": "completed"
    },
    "tags": []
   },
   "outputs": [
    {
     "data": {
      "text/html": [
       "<div>\n",
       "<style scoped>\n",
       "    .dataframe tbody tr th:only-of-type {\n",
       "        vertical-align: middle;\n",
       "    }\n",
       "\n",
       "    .dataframe tbody tr th {\n",
       "        vertical-align: top;\n",
       "    }\n",
       "\n",
       "    .dataframe thead th {\n",
       "        text-align: right;\n",
       "    }\n",
       "</style>\n",
       "<table border=\"1\" class=\"dataframe\">\n",
       "  <thead>\n",
       "    <tr style=\"text-align: right;\">\n",
       "      <th></th>\n",
       "      <th>User-ID</th>\n",
       "      <th>Location</th>\n",
       "      <th>Age</th>\n",
       "    </tr>\n",
       "  </thead>\n",
       "  <tbody>\n",
       "    <tr>\n",
       "      <th>0</th>\n",
       "      <td>1</td>\n",
       "      <td>nyc, new york, usa</td>\n",
       "      <td>NaN</td>\n",
       "    </tr>\n",
       "  </tbody>\n",
       "</table>\n",
       "</div>"
      ],
      "text/plain": [
       "   User-ID            Location  Age\n",
       "0        1  nyc, new york, usa  NaN"
      ]
     },
     "execution_count": 10,
     "metadata": {},
     "output_type": "execute_result"
    }
   ],
   "source": [
    "Users.head(1)"
   ]
  },
  {
   "cell_type": "code",
   "execution_count": 11,
   "id": "ec63c7e6",
   "metadata": {
    "execution": {
     "iopub.execute_input": "2023-03-24T17:13:56.238906Z",
     "iopub.status.busy": "2023-03-24T17:13:56.237681Z",
     "iopub.status.idle": "2023-03-24T17:13:56.245980Z",
     "shell.execute_reply": "2023-03-24T17:13:56.244711Z"
    },
    "papermill": {
     "duration": 0.018681,
     "end_time": "2023-03-24T17:13:56.248999",
     "exception": false,
     "start_time": "2023-03-24T17:13:56.230318",
     "status": "completed"
    },
    "tags": []
   },
   "outputs": [
    {
     "data": {
      "text/plain": [
       "(278858, 3)"
      ]
     },
     "execution_count": 11,
     "metadata": {},
     "output_type": "execute_result"
    }
   ],
   "source": [
    "Users.shape"
   ]
  },
  {
   "cell_type": "code",
   "execution_count": 12,
   "id": "368aeb0b",
   "metadata": {
    "execution": {
     "iopub.execute_input": "2023-03-24T17:13:56.263215Z",
     "iopub.status.busy": "2023-03-24T17:13:56.262746Z",
     "iopub.status.idle": "2023-03-24T17:13:56.274379Z",
     "shell.execute_reply": "2023-03-24T17:13:56.273162Z"
    },
    "papermill": {
     "duration": 0.021651,
     "end_time": "2023-03-24T17:13:56.277023",
     "exception": false,
     "start_time": "2023-03-24T17:13:56.255372",
     "status": "completed"
    },
    "tags": []
   },
   "outputs": [
    {
     "data": {
      "text/html": [
       "<div>\n",
       "<style scoped>\n",
       "    .dataframe tbody tr th:only-of-type {\n",
       "        vertical-align: middle;\n",
       "    }\n",
       "\n",
       "    .dataframe tbody tr th {\n",
       "        vertical-align: top;\n",
       "    }\n",
       "\n",
       "    .dataframe thead th {\n",
       "        text-align: right;\n",
       "    }\n",
       "</style>\n",
       "<table border=\"1\" class=\"dataframe\">\n",
       "  <thead>\n",
       "    <tr style=\"text-align: right;\">\n",
       "      <th></th>\n",
       "      <th>User-ID</th>\n",
       "      <th>ISBN</th>\n",
       "      <th>Book-Rating</th>\n",
       "    </tr>\n",
       "  </thead>\n",
       "  <tbody>\n",
       "    <tr>\n",
       "      <th>0</th>\n",
       "      <td>276725</td>\n",
       "      <td>034545104X</td>\n",
       "      <td>0</td>\n",
       "    </tr>\n",
       "  </tbody>\n",
       "</table>\n",
       "</div>"
      ],
      "text/plain": [
       "   User-ID        ISBN  Book-Rating\n",
       "0   276725  034545104X            0"
      ]
     },
     "execution_count": 12,
     "metadata": {},
     "output_type": "execute_result"
    }
   ],
   "source": [
    "Ratings.head(1)"
   ]
  },
  {
   "cell_type": "code",
   "execution_count": 13,
   "id": "2e51c028",
   "metadata": {
    "execution": {
     "iopub.execute_input": "2023-03-24T17:13:56.291515Z",
     "iopub.status.busy": "2023-03-24T17:13:56.291045Z",
     "iopub.status.idle": "2023-03-24T17:13:56.299115Z",
     "shell.execute_reply": "2023-03-24T17:13:56.297727Z"
    },
    "papermill": {
     "duration": 0.01871,
     "end_time": "2023-03-24T17:13:56.302007",
     "exception": false,
     "start_time": "2023-03-24T17:13:56.283297",
     "status": "completed"
    },
    "tags": []
   },
   "outputs": [
    {
     "data": {
      "text/plain": [
       "(1149780, 3)"
      ]
     },
     "execution_count": 13,
     "metadata": {},
     "output_type": "execute_result"
    }
   ],
   "source": [
    "Ratings.shape"
   ]
  },
  {
   "cell_type": "code",
   "execution_count": 14,
   "id": "ae3d6d47",
   "metadata": {
    "execution": {
     "iopub.execute_input": "2023-03-24T17:13:56.316826Z",
     "iopub.status.busy": "2023-03-24T17:13:56.316337Z",
     "iopub.status.idle": "2023-03-24T17:13:56.323274Z",
     "shell.execute_reply": "2023-03-24T17:13:56.321820Z"
    },
    "papermill": {
     "duration": 0.017899,
     "end_time": "2023-03-24T17:13:56.326357",
     "exception": false,
     "start_time": "2023-03-24T17:13:56.308458",
     "status": "completed"
    },
    "tags": []
   },
   "outputs": [
    {
     "name": "stdout",
     "output_type": "stream",
     "text": [
      "(271360, 6)\n",
      "(278858, 3)\n",
      "(1149780, 3)\n"
     ]
    }
   ],
   "source": [
    "print(books.shape)\n",
    "print(Users.shape)\n",
    "print(Ratings.shape)"
   ]
  },
  {
   "cell_type": "code",
   "execution_count": 15,
   "id": "382f51ce",
   "metadata": {
    "execution": {
     "iopub.execute_input": "2023-03-24T17:13:56.341222Z",
     "iopub.status.busy": "2023-03-24T17:13:56.340776Z",
     "iopub.status.idle": "2023-03-24T17:13:56.347568Z",
     "shell.execute_reply": "2023-03-24T17:13:56.346601Z"
    },
    "papermill": {
     "duration": 0.017196,
     "end_time": "2023-03-24T17:13:56.349978",
     "exception": false,
     "start_time": "2023-03-24T17:13:56.332782",
     "status": "completed"
    },
    "tags": []
   },
   "outputs": [
    {
     "data": {
      "text/plain": [
       "Index(['User-ID', 'ISBN', 'Book-Rating'], dtype='object')"
      ]
     },
     "execution_count": 15,
     "metadata": {},
     "output_type": "execute_result"
    }
   ],
   "source": [
    "Ratings.columns"
   ]
  },
  {
   "cell_type": "code",
   "execution_count": 16,
   "id": "1974e967",
   "metadata": {
    "execution": {
     "iopub.execute_input": "2023-03-24T17:13:56.365108Z",
     "iopub.status.busy": "2023-03-24T17:13:56.364378Z",
     "iopub.status.idle": "2023-03-24T17:13:56.371274Z",
     "shell.execute_reply": "2023-03-24T17:13:56.369823Z"
    },
    "papermill": {
     "duration": 0.017612,
     "end_time": "2023-03-24T17:13:56.374132",
     "exception": false,
     "start_time": "2023-03-24T17:13:56.356520",
     "status": "completed"
    },
    "tags": []
   },
   "outputs": [],
   "source": [
    "ratings=Ratings.rename(columns={\n",
    "    \"User-ID\" :\"user_id\",\n",
    "    \"Book-Rating\":\"rating\"\n",
    "},inplace=True)"
   ]
  },
  {
   "cell_type": "code",
   "execution_count": null,
   "id": "20087a8f",
   "metadata": {
    "papermill": {
     "duration": 0.006264,
     "end_time": "2023-03-24T17:13:56.387603",
     "exception": false,
     "start_time": "2023-03-24T17:13:56.381339",
     "status": "completed"
    },
    "tags": []
   },
   "outputs": [],
   "source": []
  }
 ],
 "metadata": {
  "kernelspec": {
   "display_name": "Python 3",
   "language": "python",
   "name": "python3"
  },
  "language_info": {
   "codemirror_mode": {
    "name": "ipython",
    "version": 3
   },
   "file_extension": ".py",
   "mimetype": "text/x-python",
   "name": "python",
   "nbconvert_exporter": "python",
   "pygments_lexer": "ipython3",
   "version": "3.7.12"
  },
  "papermill": {
   "default_parameters": {},
   "duration": 17.586321,
   "end_time": "2023-03-24T17:13:57.218041",
   "environment_variables": {},
   "exception": null,
   "input_path": "__notebook__.ipynb",
   "output_path": "__notebook__.ipynb",
   "parameters": {},
   "start_time": "2023-03-24T17:13:39.631720",
   "version": "2.4.0"
  }
 },
 "nbformat": 4,
 "nbformat_minor": 5
}
