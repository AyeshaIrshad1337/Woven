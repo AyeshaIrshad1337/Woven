{
  "cells": [
    {
      "cell_type": "code",
      "execution_count": 9,
      "metadata": {
        "_cell_guid": "b1076dfc-b9ad-4769-8c92-a6c4dae69d19",
        "_uuid": "8f2839f25d086af736a60e9eeb907d3b93b6e0e5",
        "execution": {
          "iopub.execute_input": "2023-03-29T16:38:38.978138Z",
          "iopub.status.busy": "2023-03-29T16:38:38.976813Z",
          "iopub.status.idle": "2023-03-29T16:38:38.990514Z",
          "shell.execute_reply": "2023-03-29T16:38:38.988840Z",
          "shell.execute_reply.started": "2023-03-29T16:38:38.978053Z"
        },
        "id": "rcb6xa6FZz9m"
      },
      "outputs": [],
      "source": [
        "import pandas as pd\n",
        "import numpy as np\n",
        "import matplotlib.pyplot as plt\n",
        "import seaborn as sns"
      ]
    },
    {
      "cell_type": "code",
      "execution_count": 10,
      "metadata": {
        "execution": {
          "iopub.execute_input": "2023-03-29T16:38:39.014265Z",
          "iopub.status.busy": "2023-03-29T16:38:39.013549Z",
          "iopub.status.idle": "2023-03-29T16:38:42.746174Z",
          "shell.execute_reply": "2023-03-29T16:38:42.744702Z",
          "shell.execute_reply.started": "2023-03-29T16:38:39.014215Z"
        },
        "id": "-nk4PCXBZz9t"
      },
      "outputs": [],
      "source": [
        "books=pd.read_csv(\"Books.csv\",low_memory=False)\n",
        "Ratings=pd.read_csv(\"Ratings.csv\")\n",
        "Users = pd.read_csv(\"Users.csv\")"
      ]
    },
    {
      "cell_type": "code",
      "execution_count": 12,
      "metadata": {
        "colab": {
          "base_uri": "https://localhost:8080/",
          "height": 496
        },
        "execution": {
          "iopub.execute_input": "2023-03-29T16:38:42.751718Z",
          "iopub.status.busy": "2023-03-29T16:38:42.750822Z",
          "iopub.status.idle": "2023-03-29T16:38:42.772161Z",
          "shell.execute_reply": "2023-03-29T16:38:42.771118Z",
          "shell.execute_reply.started": "2023-03-29T16:38:42.751653Z"
        },
        "id": "Cwnuv_v1Zz9v",
        "outputId": "cfcebb75-0502-4357-b41a-7ec1d44ac876"
      },
      "outputs": [
        {
          "data": {
            "text/html": [
              "<div>\n",
              "<style scoped>\n",
              "    .dataframe tbody tr th:only-of-type {\n",
              "        vertical-align: middle;\n",
              "    }\n",
              "\n",
              "    .dataframe tbody tr th {\n",
              "        vertical-align: top;\n",
              "    }\n",
              "\n",
              "    .dataframe thead th {\n",
              "        text-align: right;\n",
              "    }\n",
              "</style>\n",
              "<table border=\"1\" class=\"dataframe\">\n",
              "  <thead>\n",
              "    <tr style=\"text-align: right;\">\n",
              "      <th></th>\n",
              "      <th>ISBN</th>\n",
              "      <th>Book-Title</th>\n",
              "      <th>Book-Author</th>\n",
              "      <th>Year-Of-Publication</th>\n",
              "      <th>Publisher</th>\n",
              "      <th>Image-URL-S</th>\n",
              "      <th>Image-URL-M</th>\n",
              "      <th>Image-URL-L</th>\n",
              "    </tr>\n",
              "  </thead>\n",
              "  <tbody>\n",
              "    <tr>\n",
              "      <th>0</th>\n",
              "      <td>0195153448</td>\n",
              "      <td>Classical Mythology</td>\n",
              "      <td>Mark P. O. Morford</td>\n",
              "      <td>2002</td>\n",
              "      <td>Oxford University Press</td>\n",
              "      <td>http://images.amazon.com/images/P/0195153448.0...</td>\n",
              "      <td>http://images.amazon.com/images/P/0195153448.0...</td>\n",
              "      <td>http://images.amazon.com/images/P/0195153448.0...</td>\n",
              "    </tr>\n",
              "    <tr>\n",
              "      <th>1</th>\n",
              "      <td>0002005018</td>\n",
              "      <td>Clara Callan</td>\n",
              "      <td>Richard Bruce Wright</td>\n",
              "      <td>2001</td>\n",
              "      <td>HarperFlamingo Canada</td>\n",
              "      <td>http://images.amazon.com/images/P/0002005018.0...</td>\n",
              "      <td>http://images.amazon.com/images/P/0002005018.0...</td>\n",
              "      <td>http://images.amazon.com/images/P/0002005018.0...</td>\n",
              "    </tr>\n",
              "    <tr>\n",
              "      <th>2</th>\n",
              "      <td>0060973129</td>\n",
              "      <td>Decision in Normandy</td>\n",
              "      <td>Carlo D'Este</td>\n",
              "      <td>1991</td>\n",
              "      <td>HarperPerennial</td>\n",
              "      <td>http://images.amazon.com/images/P/0060973129.0...</td>\n",
              "      <td>http://images.amazon.com/images/P/0060973129.0...</td>\n",
              "      <td>http://images.amazon.com/images/P/0060973129.0...</td>\n",
              "    </tr>\n",
              "    <tr>\n",
              "      <th>3</th>\n",
              "      <td>0374157065</td>\n",
              "      <td>Flu: The Story of the Great Influenza Pandemic...</td>\n",
              "      <td>Gina Bari Kolata</td>\n",
              "      <td>1999</td>\n",
              "      <td>Farrar Straus Giroux</td>\n",
              "      <td>http://images.amazon.com/images/P/0374157065.0...</td>\n",
              "      <td>http://images.amazon.com/images/P/0374157065.0...</td>\n",
              "      <td>http://images.amazon.com/images/P/0374157065.0...</td>\n",
              "    </tr>\n",
              "    <tr>\n",
              "      <th>4</th>\n",
              "      <td>0393045218</td>\n",
              "      <td>The Mummies of Urumchi</td>\n",
              "      <td>E. J. W. Barber</td>\n",
              "      <td>1999</td>\n",
              "      <td>W. W. Norton &amp;amp; Company</td>\n",
              "      <td>http://images.amazon.com/images/P/0393045218.0...</td>\n",
              "      <td>http://images.amazon.com/images/P/0393045218.0...</td>\n",
              "      <td>http://images.amazon.com/images/P/0393045218.0...</td>\n",
              "    </tr>\n",
              "  </tbody>\n",
              "</table>\n",
              "</div>"
            ],
            "text/plain": [
              "         ISBN                                         Book-Title   \n",
              "0  0195153448                                Classical Mythology  \\\n",
              "1  0002005018                                       Clara Callan   \n",
              "2  0060973129                               Decision in Normandy   \n",
              "3  0374157065  Flu: The Story of the Great Influenza Pandemic...   \n",
              "4  0393045218                             The Mummies of Urumchi   \n",
              "\n",
              "            Book-Author Year-Of-Publication                   Publisher   \n",
              "0    Mark P. O. Morford                2002     Oxford University Press  \\\n",
              "1  Richard Bruce Wright                2001       HarperFlamingo Canada   \n",
              "2          Carlo D'Este                1991             HarperPerennial   \n",
              "3      Gina Bari Kolata                1999        Farrar Straus Giroux   \n",
              "4       E. J. W. Barber                1999  W. W. Norton &amp; Company   \n",
              "\n",
              "                                         Image-URL-S   \n",
              "0  http://images.amazon.com/images/P/0195153448.0...  \\\n",
              "1  http://images.amazon.com/images/P/0002005018.0...   \n",
              "2  http://images.amazon.com/images/P/0060973129.0...   \n",
              "3  http://images.amazon.com/images/P/0374157065.0...   \n",
              "4  http://images.amazon.com/images/P/0393045218.0...   \n",
              "\n",
              "                                         Image-URL-M   \n",
              "0  http://images.amazon.com/images/P/0195153448.0...  \\\n",
              "1  http://images.amazon.com/images/P/0002005018.0...   \n",
              "2  http://images.amazon.com/images/P/0060973129.0...   \n",
              "3  http://images.amazon.com/images/P/0374157065.0...   \n",
              "4  http://images.amazon.com/images/P/0393045218.0...   \n",
              "\n",
              "                                         Image-URL-L  \n",
              "0  http://images.amazon.com/images/P/0195153448.0...  \n",
              "1  http://images.amazon.com/images/P/0002005018.0...  \n",
              "2  http://images.amazon.com/images/P/0060973129.0...  \n",
              "3  http://images.amazon.com/images/P/0374157065.0...  \n",
              "4  http://images.amazon.com/images/P/0393045218.0...  "
            ]
          },
          "execution_count": 12,
          "metadata": {},
          "output_type": "execute_result"
        }
      ],
      "source": [
        "books.head()"
      ]
    },
    {
      "cell_type": "code",
      "execution_count": 13,
      "metadata": {
        "colab": {
          "base_uri": "https://localhost:8080/"
        },
        "execution": {
          "iopub.execute_input": "2023-03-29T16:38:42.774841Z",
          "iopub.status.busy": "2023-03-29T16:38:42.774126Z",
          "iopub.status.idle": "2023-03-29T16:38:42.788303Z",
          "shell.execute_reply": "2023-03-29T16:38:42.786556Z",
          "shell.execute_reply.started": "2023-03-29T16:38:42.774791Z"
        },
        "id": "NfNPpwpJZz9v",
        "outputId": "12acbb73-46c9-40d1-c6dd-c3fdfa6bf10a"
      },
      "outputs": [
        {
          "data": {
            "text/plain": [
              "Index(['ISBN', 'Book-Title', 'Book-Author', 'Year-Of-Publication', 'Publisher',\n",
              "       'Image-URL-S', 'Image-URL-M', 'Image-URL-L'],\n",
              "      dtype='object')"
            ]
          },
          "execution_count": 13,
          "metadata": {},
          "output_type": "execute_result"
        }
      ],
      "source": [
        "books.columns"
      ]
    },
    {
      "cell_type": "code",
      "execution_count": 14,
      "metadata": {
        "execution": {
          "iopub.execute_input": "2023-03-29T16:38:42.791721Z",
          "iopub.status.busy": "2023-03-29T16:38:42.791168Z",
          "iopub.status.idle": "2023-03-29T16:38:42.831157Z",
          "shell.execute_reply": "2023-03-29T16:38:42.829675Z",
          "shell.execute_reply.started": "2023-03-29T16:38:42.791677Z"
        },
        "id": "Caa-x6_KZz9y"
      },
      "outputs": [],
      "source": [
        "books=books[['ISBN', 'Book-Title', 'Book-Author', 'Year-Of-Publication', 'Publisher',\n",
        "       'Image-URL-L']]"
      ]
    },
    {
      "cell_type": "code",
      "execution_count": 15,
      "metadata": {
        "colab": {
          "base_uri": "https://localhost:8080/",
          "height": 159
        },
        "execution": {
          "iopub.execute_input": "2023-03-29T16:38:42.834533Z",
          "iopub.status.busy": "2023-03-29T16:38:42.833562Z",
          "iopub.status.idle": "2023-03-29T16:38:42.849350Z",
          "shell.execute_reply": "2023-03-29T16:38:42.847816Z",
          "shell.execute_reply.started": "2023-03-29T16:38:42.834485Z"
        },
        "id": "EqjafVZ0Zz9z",
        "outputId": "9df9c349-44e1-485f-dd18-e9ce63360a33"
      },
      "outputs": [
        {
          "data": {
            "text/html": [
              "<div>\n",
              "<style scoped>\n",
              "    .dataframe tbody tr th:only-of-type {\n",
              "        vertical-align: middle;\n",
              "    }\n",
              "\n",
              "    .dataframe tbody tr th {\n",
              "        vertical-align: top;\n",
              "    }\n",
              "\n",
              "    .dataframe thead th {\n",
              "        text-align: right;\n",
              "    }\n",
              "</style>\n",
              "<table border=\"1\" class=\"dataframe\">\n",
              "  <thead>\n",
              "    <tr style=\"text-align: right;\">\n",
              "      <th></th>\n",
              "      <th>ISBN</th>\n",
              "      <th>Book-Title</th>\n",
              "      <th>Book-Author</th>\n",
              "      <th>Year-Of-Publication</th>\n",
              "      <th>Publisher</th>\n",
              "      <th>Image-URL-L</th>\n",
              "    </tr>\n",
              "  </thead>\n",
              "  <tbody>\n",
              "    <tr>\n",
              "      <th>0</th>\n",
              "      <td>0195153448</td>\n",
              "      <td>Classical Mythology</td>\n",
              "      <td>Mark P. O. Morford</td>\n",
              "      <td>2002</td>\n",
              "      <td>Oxford University Press</td>\n",
              "      <td>http://images.amazon.com/images/P/0195153448.0...</td>\n",
              "    </tr>\n",
              "  </tbody>\n",
              "</table>\n",
              "</div>"
            ],
            "text/plain": [
              "         ISBN           Book-Title         Book-Author Year-Of-Publication   \n",
              "0  0195153448  Classical Mythology  Mark P. O. Morford                2002  \\\n",
              "\n",
              "                 Publisher                                        Image-URL-L  \n",
              "0  Oxford University Press  http://images.amazon.com/images/P/0195153448.0...  "
            ]
          },
          "execution_count": 15,
          "metadata": {},
          "output_type": "execute_result"
        }
      ],
      "source": [
        "books.head(1)"
      ]
    },
    {
      "cell_type": "code",
      "execution_count": 16,
      "metadata": {
        "execution": {
          "iopub.execute_input": "2023-03-29T16:38:42.851866Z",
          "iopub.status.busy": "2023-03-29T16:38:42.851020Z",
          "iopub.status.idle": "2023-03-29T16:38:42.889184Z",
          "shell.execute_reply": "2023-03-29T16:38:42.887799Z",
          "shell.execute_reply.started": "2023-03-29T16:38:42.851814Z"
        },
        "id": "xBqMB1pQZz90"
      },
      "outputs": [],
      "source": [
        "books=books.rename(columns={\n",
        "    \"Book-Title\" : \"title\",\n",
        "    \"Book-Author\":\"author\",\n",
        "    \"Year-Of-Publication\":\"year\",\n",
        "    \"Publisher\":\"publisher\",\n",
        "    \"Image-URL-L\":\"img_url\",\n",
        "})"
      ]
    },
    {
      "cell_type": "code",
      "execution_count": 17,
      "metadata": {
        "colab": {
          "base_uri": "https://localhost:8080/",
          "height": 142
        },
        "execution": {
          "iopub.execute_input": "2023-03-29T16:38:42.891517Z",
          "iopub.status.busy": "2023-03-29T16:38:42.890959Z",
          "iopub.status.idle": "2023-03-29T16:38:42.906690Z",
          "shell.execute_reply": "2023-03-29T16:38:42.905344Z",
          "shell.execute_reply.started": "2023-03-29T16:38:42.891457Z"
        },
        "id": "kASYP0XYZz92",
        "outputId": "d7e6c59f-1da0-40d8-f796-5f042fda2543"
      },
      "outputs": [
        {
          "data": {
            "text/html": [
              "<div>\n",
              "<style scoped>\n",
              "    .dataframe tbody tr th:only-of-type {\n",
              "        vertical-align: middle;\n",
              "    }\n",
              "\n",
              "    .dataframe tbody tr th {\n",
              "        vertical-align: top;\n",
              "    }\n",
              "\n",
              "    .dataframe thead th {\n",
              "        text-align: right;\n",
              "    }\n",
              "</style>\n",
              "<table border=\"1\" class=\"dataframe\">\n",
              "  <thead>\n",
              "    <tr style=\"text-align: right;\">\n",
              "      <th></th>\n",
              "      <th>ISBN</th>\n",
              "      <th>title</th>\n",
              "      <th>author</th>\n",
              "      <th>year</th>\n",
              "      <th>publisher</th>\n",
              "      <th>img_url</th>\n",
              "    </tr>\n",
              "  </thead>\n",
              "  <tbody>\n",
              "    <tr>\n",
              "      <th>0</th>\n",
              "      <td>0195153448</td>\n",
              "      <td>Classical Mythology</td>\n",
              "      <td>Mark P. O. Morford</td>\n",
              "      <td>2002</td>\n",
              "      <td>Oxford University Press</td>\n",
              "      <td>http://images.amazon.com/images/P/0195153448.0...</td>\n",
              "    </tr>\n",
              "  </tbody>\n",
              "</table>\n",
              "</div>"
            ],
            "text/plain": [
              "         ISBN                title              author  year   \n",
              "0  0195153448  Classical Mythology  Mark P. O. Morford  2002  \\\n",
              "\n",
              "                 publisher                                            img_url  \n",
              "0  Oxford University Press  http://images.amazon.com/images/P/0195153448.0...  "
            ]
          },
          "execution_count": 17,
          "metadata": {},
          "output_type": "execute_result"
        }
      ],
      "source": [
        "books.head(1)"
      ]
    },
    {
      "cell_type": "code",
      "execution_count": 18,
      "metadata": {
        "colab": {
          "base_uri": "https://localhost:8080/",
          "height": 81
        },
        "execution": {
          "iopub.execute_input": "2023-03-29T16:38:42.914885Z",
          "iopub.status.busy": "2023-03-29T16:38:42.914390Z",
          "iopub.status.idle": "2023-03-29T16:38:42.928345Z",
          "shell.execute_reply": "2023-03-29T16:38:42.926803Z",
          "shell.execute_reply.started": "2023-03-29T16:38:42.914835Z"
        },
        "id": "YM6yKDaOZz94",
        "outputId": "1b09efe9-ef71-4bd9-ec37-2c78e7281fe7"
      },
      "outputs": [
        {
          "data": {
            "text/html": [
              "<div>\n",
              "<style scoped>\n",
              "    .dataframe tbody tr th:only-of-type {\n",
              "        vertical-align: middle;\n",
              "    }\n",
              "\n",
              "    .dataframe tbody tr th {\n",
              "        vertical-align: top;\n",
              "    }\n",
              "\n",
              "    .dataframe thead th {\n",
              "        text-align: right;\n",
              "    }\n",
              "</style>\n",
              "<table border=\"1\" class=\"dataframe\">\n",
              "  <thead>\n",
              "    <tr style=\"text-align: right;\">\n",
              "      <th></th>\n",
              "      <th>User-ID</th>\n",
              "      <th>Location</th>\n",
              "      <th>Age</th>\n",
              "    </tr>\n",
              "  </thead>\n",
              "  <tbody>\n",
              "    <tr>\n",
              "      <th>0</th>\n",
              "      <td>1</td>\n",
              "      <td>nyc, new york, usa</td>\n",
              "      <td>NaN</td>\n",
              "    </tr>\n",
              "  </tbody>\n",
              "</table>\n",
              "</div>"
            ],
            "text/plain": [
              "   User-ID            Location  Age\n",
              "0        1  nyc, new york, usa  NaN"
            ]
          },
          "execution_count": 18,
          "metadata": {},
          "output_type": "execute_result"
        }
      ],
      "source": [
        "Users.head(1)"
      ]
    },
    {
      "cell_type": "code",
      "execution_count": 19,
      "metadata": {
        "colab": {
          "base_uri": "https://localhost:8080/"
        },
        "execution": {
          "iopub.execute_input": "2023-03-29T16:38:42.930784Z",
          "iopub.status.busy": "2023-03-29T16:38:42.929978Z",
          "iopub.status.idle": "2023-03-29T16:38:42.941328Z",
          "shell.execute_reply": "2023-03-29T16:38:42.940004Z",
          "shell.execute_reply.started": "2023-03-29T16:38:42.930739Z"
        },
        "id": "2cESVDo8Zz95",
        "outputId": "aa1a377c-daf1-4217-ed24-d14819cdd8ed"
      },
      "outputs": [
        {
          "data": {
            "text/plain": [
              "(278858, 3)"
            ]
          },
          "execution_count": 19,
          "metadata": {},
          "output_type": "execute_result"
        }
      ],
      "source": [
        "Users.shape"
      ]
    },
    {
      "cell_type": "code",
      "execution_count": 20,
      "metadata": {
        "colab": {
          "base_uri": "https://localhost:8080/",
          "height": 81
        },
        "execution": {
          "iopub.execute_input": "2023-03-29T16:38:42.943644Z",
          "iopub.status.busy": "2023-03-29T16:38:42.943129Z",
          "iopub.status.idle": "2023-03-29T16:38:42.958329Z",
          "shell.execute_reply": "2023-03-29T16:38:42.957426Z",
          "shell.execute_reply.started": "2023-03-29T16:38:42.943598Z"
        },
        "id": "rfBkPqX9Zz96",
        "outputId": "af599a46-bffc-4eb4-8b7d-60c491bc48ec"
      },
      "outputs": [
        {
          "data": {
            "text/html": [
              "<div>\n",
              "<style scoped>\n",
              "    .dataframe tbody tr th:only-of-type {\n",
              "        vertical-align: middle;\n",
              "    }\n",
              "\n",
              "    .dataframe tbody tr th {\n",
              "        vertical-align: top;\n",
              "    }\n",
              "\n",
              "    .dataframe thead th {\n",
              "        text-align: right;\n",
              "    }\n",
              "</style>\n",
              "<table border=\"1\" class=\"dataframe\">\n",
              "  <thead>\n",
              "    <tr style=\"text-align: right;\">\n",
              "      <th></th>\n",
              "      <th>User-ID</th>\n",
              "      <th>ISBN</th>\n",
              "      <th>Book-Rating</th>\n",
              "    </tr>\n",
              "  </thead>\n",
              "  <tbody>\n",
              "    <tr>\n",
              "      <th>0</th>\n",
              "      <td>276725</td>\n",
              "      <td>034545104X</td>\n",
              "      <td>0</td>\n",
              "    </tr>\n",
              "  </tbody>\n",
              "</table>\n",
              "</div>"
            ],
            "text/plain": [
              "   User-ID        ISBN  Book-Rating\n",
              "0   276725  034545104X            0"
            ]
          },
          "execution_count": 20,
          "metadata": {},
          "output_type": "execute_result"
        }
      ],
      "source": [
        "Ratings.head(1)"
      ]
    },
    {
      "cell_type": "code",
      "execution_count": 21,
      "metadata": {
        "colab": {
          "base_uri": "https://localhost:8080/"
        },
        "execution": {
          "iopub.execute_input": "2023-03-29T16:38:42.960263Z",
          "iopub.status.busy": "2023-03-29T16:38:42.959906Z",
          "iopub.status.idle": "2023-03-29T16:38:42.971399Z",
          "shell.execute_reply": "2023-03-29T16:38:42.970039Z",
          "shell.execute_reply.started": "2023-03-29T16:38:42.960229Z"
        },
        "id": "cpznABuWZz97",
        "outputId": "75a3cf36-a193-4d5d-ca77-360e23c4dc53"
      },
      "outputs": [
        {
          "data": {
            "text/plain": [
              "(1149780, 3)"
            ]
          },
          "execution_count": 21,
          "metadata": {},
          "output_type": "execute_result"
        }
      ],
      "source": [
        "Ratings.shape"
      ]
    },
    {
      "cell_type": "code",
      "execution_count": 22,
      "metadata": {
        "colab": {
          "base_uri": "https://localhost:8080/"
        },
        "execution": {
          "iopub.execute_input": "2023-03-29T16:38:42.973472Z",
          "iopub.status.busy": "2023-03-29T16:38:42.973051Z",
          "iopub.status.idle": "2023-03-29T16:38:42.982362Z",
          "shell.execute_reply": "2023-03-29T16:38:42.981115Z",
          "shell.execute_reply.started": "2023-03-29T16:38:42.973423Z"
        },
        "id": "kkM0-ClgZz98",
        "outputId": "3d297103-ac75-4fe9-93b3-1662f8988ecf"
      },
      "outputs": [
        {
          "name": "stdout",
          "output_type": "stream",
          "text": [
            "(271360, 6)\n",
            "(278858, 3)\n",
            "(1149780, 3)\n"
          ]
        }
      ],
      "source": [
        "print(books.shape)\n",
        "print(Users.shape)\n",
        "print(Ratings.shape)"
      ]
    },
    {
      "cell_type": "code",
      "execution_count": 23,
      "metadata": {
        "colab": {
          "base_uri": "https://localhost:8080/"
        },
        "execution": {
          "iopub.execute_input": "2023-03-29T16:38:42.983965Z",
          "iopub.status.busy": "2023-03-29T16:38:42.983628Z",
          "iopub.status.idle": "2023-03-29T16:38:42.995445Z",
          "shell.execute_reply": "2023-03-29T16:38:42.994262Z",
          "shell.execute_reply.started": "2023-03-29T16:38:42.983933Z"
        },
        "id": "7X8-TNphZz99",
        "outputId": "d4c66c93-eb6a-4f1f-a4ed-676b66f34b9c"
      },
      "outputs": [
        {
          "data": {
            "text/plain": [
              "Index(['User-ID', 'ISBN', 'Book-Rating'], dtype='object')"
            ]
          },
          "execution_count": 23,
          "metadata": {},
          "output_type": "execute_result"
        }
      ],
      "source": [
        "Ratings.columns"
      ]
    },
    {
      "cell_type": "code",
      "execution_count": 24,
      "metadata": {
        "execution": {
          "iopub.execute_input": "2023-03-29T16:38:42.997254Z",
          "iopub.status.busy": "2023-03-29T16:38:42.996760Z",
          "iopub.status.idle": "2023-03-29T16:38:43.008177Z",
          "shell.execute_reply": "2023-03-29T16:38:43.006648Z",
          "shell.execute_reply.started": "2023-03-29T16:38:42.997212Z"
        },
        "id": "lfmja-VKZz9-"
      },
      "outputs": [],
      "source": [
        "Ratings.rename(columns={\n",
        "    \"User-ID\" :\"user_id\",\n",
        "    \"Book-Rating\":\"rating\"\n",
        "},inplace=True)"
      ]
    },
    {
      "cell_type": "code",
      "execution_count": 25,
      "metadata": {
        "colab": {
          "base_uri": "https://localhost:8080/",
          "height": 81
        },
        "execution": {
          "iopub.execute_input": "2023-03-29T16:38:43.010863Z",
          "iopub.status.busy": "2023-03-29T16:38:43.010371Z",
          "iopub.status.idle": "2023-03-29T16:38:43.028318Z",
          "shell.execute_reply": "2023-03-29T16:38:43.026858Z",
          "shell.execute_reply.started": "2023-03-29T16:38:43.010815Z"
        },
        "id": "RD2tb_dXZz9_",
        "outputId": "489f7ee0-820d-457a-b23c-384d02ac5f6c"
      },
      "outputs": [
        {
          "data": {
            "text/html": [
              "<div>\n",
              "<style scoped>\n",
              "    .dataframe tbody tr th:only-of-type {\n",
              "        vertical-align: middle;\n",
              "    }\n",
              "\n",
              "    .dataframe tbody tr th {\n",
              "        vertical-align: top;\n",
              "    }\n",
              "\n",
              "    .dataframe thead th {\n",
              "        text-align: right;\n",
              "    }\n",
              "</style>\n",
              "<table border=\"1\" class=\"dataframe\">\n",
              "  <thead>\n",
              "    <tr style=\"text-align: right;\">\n",
              "      <th></th>\n",
              "      <th>user_id</th>\n",
              "      <th>ISBN</th>\n",
              "      <th>rating</th>\n",
              "    </tr>\n",
              "  </thead>\n",
              "  <tbody>\n",
              "    <tr>\n",
              "      <th>0</th>\n",
              "      <td>276725</td>\n",
              "      <td>034545104X</td>\n",
              "      <td>0</td>\n",
              "    </tr>\n",
              "  </tbody>\n",
              "</table>\n",
              "</div>"
            ],
            "text/plain": [
              "   user_id        ISBN  rating\n",
              "0   276725  034545104X       0"
            ]
          },
          "execution_count": 25,
          "metadata": {},
          "output_type": "execute_result"
        }
      ],
      "source": [
        "Ratings.head(1)"
      ]
    },
    {
      "cell_type": "code",
      "execution_count": 26,
      "metadata": {
        "colab": {
          "base_uri": "https://localhost:8080/"
        },
        "execution": {
          "iopub.execute_input": "2023-03-29T16:38:43.030794Z",
          "iopub.status.busy": "2023-03-29T16:38:43.030368Z",
          "iopub.status.idle": "2023-03-29T16:38:43.084927Z",
          "shell.execute_reply": "2023-03-29T16:38:43.083404Z",
          "shell.execute_reply.started": "2023-03-29T16:38:43.030752Z"
        },
        "id": "mzXZLeVpZz9_",
        "outputId": "f2f326bf-7592-4b9d-ea7b-e51adf9c31ec"
      },
      "outputs": [
        {
          "data": {
            "text/plain": [
              "user_id\n",
              "11676     13602\n",
              "198711     7550\n",
              "153662     6109\n",
              "98391      5891\n",
              "35859      5850\n",
              "          ...  \n",
              "116180        1\n",
              "116166        1\n",
              "116154        1\n",
              "116137        1\n",
              "276723        1\n",
              "Name: count, Length: 105283, dtype: int64"
            ]
          },
          "execution_count": 26,
          "metadata": {},
          "output_type": "execute_result"
        }
      ],
      "source": [
        "Ratings['user_id'].value_counts()"
      ]
    },
    {
      "cell_type": "code",
      "execution_count": 27,
      "metadata": {
        "colab": {
          "base_uri": "https://localhost:8080/"
        },
        "execution": {
          "iopub.execute_input": "2023-03-29T16:38:43.086971Z",
          "iopub.status.busy": "2023-03-29T16:38:43.086583Z",
          "iopub.status.idle": "2023-03-29T16:38:43.110708Z",
          "shell.execute_reply": "2023-03-29T16:38:43.109350Z",
          "shell.execute_reply.started": "2023-03-29T16:38:43.086930Z"
        },
        "id": "xyjqYx2XZz-A",
        "outputId": "cc6413e7-c583-4ab2-ab7b-7421dd6b6ff9"
      },
      "outputs": [
        {
          "data": {
            "text/plain": [
              "(105283,)"
            ]
          },
          "execution_count": 27,
          "metadata": {},
          "output_type": "execute_result"
        }
      ],
      "source": [
        "Ratings['user_id'].unique().shape"
      ]
    },
    {
      "cell_type": "code",
      "execution_count": 28,
      "metadata": {
        "execution": {
          "iopub.execute_input": "2023-03-29T16:38:43.113161Z",
          "iopub.status.busy": "2023-03-29T16:38:43.112671Z",
          "iopub.status.idle": "2023-03-29T16:38:43.149507Z",
          "shell.execute_reply": "2023-03-29T16:38:43.148105Z",
          "shell.execute_reply.started": "2023-03-29T16:38:43.113114Z"
        },
        "id": "aMPMR_VaZz-C"
      },
      "outputs": [],
      "source": [
        "x = Ratings['user_id'].value_counts() > 200"
      ]
    },
    {
      "cell_type": "code",
      "execution_count": 29,
      "metadata": {
        "colab": {
          "base_uri": "https://localhost:8080/"
        },
        "execution": {
          "iopub.execute_input": "2023-03-29T16:38:43.152335Z",
          "iopub.status.busy": "2023-03-29T16:38:43.151342Z",
          "iopub.status.idle": "2023-03-29T16:38:43.161961Z",
          "shell.execute_reply": "2023-03-29T16:38:43.160411Z",
          "shell.execute_reply.started": "2023-03-29T16:38:43.152091Z"
        },
        "id": "iJ80JXwgZz-C",
        "outputId": "7abd7f04-7af3-4e13-ed9d-a25aa7b15b72"
      },
      "outputs": [
        {
          "data": {
            "text/plain": [
              "(899,)"
            ]
          },
          "execution_count": 29,
          "metadata": {},
          "output_type": "execute_result"
        }
      ],
      "source": [
        "x[x].shape"
      ]
    },
    {
      "cell_type": "code",
      "execution_count": 30,
      "metadata": {
        "execution": {
          "iopub.execute_input": "2023-03-29T16:38:43.164382Z",
          "iopub.status.busy": "2023-03-29T16:38:43.163821Z",
          "iopub.status.idle": "2023-03-29T16:38:43.172148Z",
          "shell.execute_reply": "2023-03-29T16:38:43.170710Z",
          "shell.execute_reply.started": "2023-03-29T16:38:43.164334Z"
        },
        "id": "UKSl0sToZz-D"
      },
      "outputs": [],
      "source": [
        "y = x[x].index"
      ]
    },
    {
      "cell_type": "code",
      "execution_count": 31,
      "metadata": {
        "colab": {
          "base_uri": "https://localhost:8080/"
        },
        "execution": {
          "iopub.execute_input": "2023-03-29T16:38:43.175277Z",
          "iopub.status.busy": "2023-03-29T16:38:43.174061Z",
          "iopub.status.idle": "2023-03-29T16:38:43.189867Z",
          "shell.execute_reply": "2023-03-29T16:38:43.188463Z",
          "shell.execute_reply.started": "2023-03-29T16:38:43.175232Z"
        },
        "id": "mdax2cmzZz-D",
        "outputId": "2a9f06ff-6dd8-4b1d-e485-25fd5e9b441b"
      },
      "outputs": [
        {
          "data": {
            "text/plain": [
              "Index([ 11676, 198711, 153662,  98391,  35859, 212898, 278418,  76352, 110973,\n",
              "       235105,\n",
              "       ...\n",
              "       260183,  73681,  44296, 155916,   9856, 274808,  28634,  59727, 268622,\n",
              "       188951],\n",
              "      dtype='int64', name='user_id', length=899)"
            ]
          },
          "execution_count": 31,
          "metadata": {},
          "output_type": "execute_result"
        }
      ],
      "source": [
        "y"
      ]
    },
    {
      "cell_type": "code",
      "execution_count": 32,
      "metadata": {
        "execution": {
          "iopub.execute_input": "2023-03-29T16:38:43.192694Z",
          "iopub.status.busy": "2023-03-29T16:38:43.191923Z",
          "iopub.status.idle": "2023-03-29T16:38:43.247499Z",
          "shell.execute_reply": "2023-03-29T16:38:43.246136Z",
          "shell.execute_reply.started": "2023-03-29T16:38:43.192631Z"
        },
        "id": "bKvKDmrNZz-F"
      },
      "outputs": [],
      "source": [
        "ratings=Ratings[Ratings['user_id'].isin(y)]"
      ]
    },
    {
      "cell_type": "code",
      "execution_count": 33,
      "metadata": {
        "colab": {
          "base_uri": "https://localhost:8080/"
        },
        "execution": {
          "iopub.execute_input": "2023-03-29T16:38:43.250032Z",
          "iopub.status.busy": "2023-03-29T16:38:43.249472Z",
          "iopub.status.idle": "2023-03-29T16:38:43.258689Z",
          "shell.execute_reply": "2023-03-29T16:38:43.257312Z",
          "shell.execute_reply.started": "2023-03-29T16:38:43.249969Z"
        },
        "id": "V0aeIFHWZz-F",
        "outputId": "cafbfd23-18b3-42db-81a4-5f27505551d7"
      },
      "outputs": [
        {
          "data": {
            "text/plain": [
              "(526356, 3)"
            ]
          },
          "execution_count": 33,
          "metadata": {},
          "output_type": "execute_result"
        }
      ],
      "source": [
        "ratings.shape"
      ]
    },
    {
      "cell_type": "code",
      "execution_count": 34,
      "metadata": {
        "colab": {
          "base_uri": "https://localhost:8080/",
          "height": 142
        },
        "execution": {
          "iopub.execute_input": "2023-03-29T16:38:43.261611Z",
          "iopub.status.busy": "2023-03-29T16:38:43.260525Z",
          "iopub.status.idle": "2023-03-29T16:38:43.277471Z",
          "shell.execute_reply": "2023-03-29T16:38:43.276311Z",
          "shell.execute_reply.started": "2023-03-29T16:38:43.261567Z"
        },
        "id": "j-ykL1C9Zz-G",
        "outputId": "3534c084-444d-4500-bf98-540a9a1c62bb"
      },
      "outputs": [
        {
          "data": {
            "text/html": [
              "<div>\n",
              "<style scoped>\n",
              "    .dataframe tbody tr th:only-of-type {\n",
              "        vertical-align: middle;\n",
              "    }\n",
              "\n",
              "    .dataframe tbody tr th {\n",
              "        vertical-align: top;\n",
              "    }\n",
              "\n",
              "    .dataframe thead th {\n",
              "        text-align: right;\n",
              "    }\n",
              "</style>\n",
              "<table border=\"1\" class=\"dataframe\">\n",
              "  <thead>\n",
              "    <tr style=\"text-align: right;\">\n",
              "      <th></th>\n",
              "      <th>ISBN</th>\n",
              "      <th>title</th>\n",
              "      <th>author</th>\n",
              "      <th>year</th>\n",
              "      <th>publisher</th>\n",
              "      <th>img_url</th>\n",
              "    </tr>\n",
              "  </thead>\n",
              "  <tbody>\n",
              "    <tr>\n",
              "      <th>0</th>\n",
              "      <td>0195153448</td>\n",
              "      <td>Classical Mythology</td>\n",
              "      <td>Mark P. O. Morford</td>\n",
              "      <td>2002</td>\n",
              "      <td>Oxford University Press</td>\n",
              "      <td>http://images.amazon.com/images/P/0195153448.0...</td>\n",
              "    </tr>\n",
              "  </tbody>\n",
              "</table>\n",
              "</div>"
            ],
            "text/plain": [
              "         ISBN                title              author  year   \n",
              "0  0195153448  Classical Mythology  Mark P. O. Morford  2002  \\\n",
              "\n",
              "                 publisher                                            img_url  \n",
              "0  Oxford University Press  http://images.amazon.com/images/P/0195153448.0...  "
            ]
          },
          "execution_count": 34,
          "metadata": {},
          "output_type": "execute_result"
        }
      ],
      "source": [
        "books.head(1)"
      ]
    },
    {
      "cell_type": "code",
      "execution_count": 35,
      "metadata": {
        "execution": {
          "iopub.execute_input": "2023-03-29T16:38:43.280094Z",
          "iopub.status.busy": "2023-03-29T16:38:43.279442Z",
          "iopub.status.idle": "2023-03-29T16:38:43.997341Z",
          "shell.execute_reply": "2023-03-29T16:38:43.995873Z",
          "shell.execute_reply.started": "2023-03-29T16:38:43.280030Z"
        },
        "id": "xJoMq8x_Zz-H"
      },
      "outputs": [],
      "source": [
        "ratings_with_books= ratings.merge(books, on=\"ISBN\")"
      ]
    },
    {
      "cell_type": "code",
      "execution_count": 36,
      "metadata": {
        "colab": {
          "base_uri": "https://localhost:8080/",
          "height": 260
        },
        "execution": {
          "iopub.execute_input": "2023-03-29T16:38:44.004577Z",
          "iopub.status.busy": "2023-03-29T16:38:44.004092Z",
          "iopub.status.idle": "2023-03-29T16:38:44.021109Z",
          "shell.execute_reply": "2023-03-29T16:38:44.019668Z",
          "shell.execute_reply.started": "2023-03-29T16:38:44.004529Z"
        },
        "id": "F7TZw-kSZz-H",
        "outputId": "e85570e7-d890-4fdb-d860-42da2b0c0e82"
      },
      "outputs": [
        {
          "data": {
            "text/html": [
              "<div>\n",
              "<style scoped>\n",
              "    .dataframe tbody tr th:only-of-type {\n",
              "        vertical-align: middle;\n",
              "    }\n",
              "\n",
              "    .dataframe tbody tr th {\n",
              "        vertical-align: top;\n",
              "    }\n",
              "\n",
              "    .dataframe thead th {\n",
              "        text-align: right;\n",
              "    }\n",
              "</style>\n",
              "<table border=\"1\" class=\"dataframe\">\n",
              "  <thead>\n",
              "    <tr style=\"text-align: right;\">\n",
              "      <th></th>\n",
              "      <th>user_id</th>\n",
              "      <th>ISBN</th>\n",
              "      <th>rating</th>\n",
              "      <th>title</th>\n",
              "      <th>author</th>\n",
              "      <th>year</th>\n",
              "      <th>publisher</th>\n",
              "      <th>img_url</th>\n",
              "    </tr>\n",
              "  </thead>\n",
              "  <tbody>\n",
              "    <tr>\n",
              "      <th>0</th>\n",
              "      <td>277427</td>\n",
              "      <td>002542730X</td>\n",
              "      <td>10</td>\n",
              "      <td>Politically Correct Bedtime Stories: Modern Ta...</td>\n",
              "      <td>James Finn Garner</td>\n",
              "      <td>1994</td>\n",
              "      <td>John Wiley &amp;amp; Sons Inc</td>\n",
              "      <td>http://images.amazon.com/images/P/002542730X.0...</td>\n",
              "    </tr>\n",
              "    <tr>\n",
              "      <th>1</th>\n",
              "      <td>3363</td>\n",
              "      <td>002542730X</td>\n",
              "      <td>0</td>\n",
              "      <td>Politically Correct Bedtime Stories: Modern Ta...</td>\n",
              "      <td>James Finn Garner</td>\n",
              "      <td>1994</td>\n",
              "      <td>John Wiley &amp;amp; Sons Inc</td>\n",
              "      <td>http://images.amazon.com/images/P/002542730X.0...</td>\n",
              "    </tr>\n",
              "  </tbody>\n",
              "</table>\n",
              "</div>"
            ],
            "text/plain": [
              "   user_id        ISBN  rating   \n",
              "0   277427  002542730X      10  \\\n",
              "1     3363  002542730X       0   \n",
              "\n",
              "                                               title             author  year   \n",
              "0  Politically Correct Bedtime Stories: Modern Ta...  James Finn Garner  1994  \\\n",
              "1  Politically Correct Bedtime Stories: Modern Ta...  James Finn Garner  1994   \n",
              "\n",
              "                   publisher   \n",
              "0  John Wiley &amp; Sons Inc  \\\n",
              "1  John Wiley &amp; Sons Inc   \n",
              "\n",
              "                                             img_url  \n",
              "0  http://images.amazon.com/images/P/002542730X.0...  \n",
              "1  http://images.amazon.com/images/P/002542730X.0...  "
            ]
          },
          "execution_count": 36,
          "metadata": {},
          "output_type": "execute_result"
        }
      ],
      "source": [
        "ratings_with_books.head(2)"
      ]
    },
    {
      "cell_type": "code",
      "execution_count": 37,
      "metadata": {
        "colab": {
          "base_uri": "https://localhost:8080/"
        },
        "execution": {
          "iopub.execute_input": "2023-03-29T16:38:44.022888Z",
          "iopub.status.busy": "2023-03-29T16:38:44.022509Z",
          "iopub.status.idle": "2023-03-29T16:38:44.036623Z",
          "shell.execute_reply": "2023-03-29T16:38:44.035534Z",
          "shell.execute_reply.started": "2023-03-29T16:38:44.022849Z"
        },
        "id": "nNOhw1k3Zz-I",
        "outputId": "33d6dd41-b00f-4193-9585-76a38cac2bfe"
      },
      "outputs": [
        {
          "data": {
            "text/plain": [
              "(487671, 8)"
            ]
          },
          "execution_count": 37,
          "metadata": {},
          "output_type": "execute_result"
        }
      ],
      "source": [
        "ratings_with_books.shape"
      ]
    },
    {
      "cell_type": "code",
      "execution_count": 38,
      "metadata": {
        "execution": {
          "iopub.execute_input": "2023-03-29T16:38:44.039385Z",
          "iopub.status.busy": "2023-03-29T16:38:44.038902Z",
          "iopub.status.idle": "2023-03-29T16:38:44.608525Z",
          "shell.execute_reply": "2023-03-29T16:38:44.607154Z",
          "shell.execute_reply.started": "2023-03-29T16:38:44.039343Z"
        },
        "id": "qh4CQImiZz-I"
      },
      "outputs": [],
      "source": [
        "num_rating=ratings_with_books.groupby('title')['rating'].count().reset_index()"
      ]
    },
    {
      "cell_type": "code",
      "execution_count": 39,
      "metadata": {
        "colab": {
          "base_uri": "https://localhost:8080/",
          "height": 206
        },
        "execution": {
          "iopub.execute_input": "2023-03-29T16:38:44.611384Z",
          "iopub.status.busy": "2023-03-29T16:38:44.610658Z",
          "iopub.status.idle": "2023-03-29T16:38:44.622924Z",
          "shell.execute_reply": "2023-03-29T16:38:44.621560Z",
          "shell.execute_reply.started": "2023-03-29T16:38:44.611337Z"
        },
        "id": "XNKJPC-sZz-J",
        "outputId": "da61e4bb-e129-4b52-e4b8-dabedaafc8e7"
      },
      "outputs": [
        {
          "data": {
            "text/html": [
              "<div>\n",
              "<style scoped>\n",
              "    .dataframe tbody tr th:only-of-type {\n",
              "        vertical-align: middle;\n",
              "    }\n",
              "\n",
              "    .dataframe tbody tr th {\n",
              "        vertical-align: top;\n",
              "    }\n",
              "\n",
              "    .dataframe thead th {\n",
              "        text-align: right;\n",
              "    }\n",
              "</style>\n",
              "<table border=\"1\" class=\"dataframe\">\n",
              "  <thead>\n",
              "    <tr style=\"text-align: right;\">\n",
              "      <th></th>\n",
              "      <th>title</th>\n",
              "      <th>rating</th>\n",
              "    </tr>\n",
              "  </thead>\n",
              "  <tbody>\n",
              "    <tr>\n",
              "      <th>0</th>\n",
              "      <td>A Light in the Storm: The Civil War Diary of ...</td>\n",
              "      <td>2</td>\n",
              "    </tr>\n",
              "    <tr>\n",
              "      <th>1</th>\n",
              "      <td>Always Have Popsicles</td>\n",
              "      <td>1</td>\n",
              "    </tr>\n",
              "    <tr>\n",
              "      <th>2</th>\n",
              "      <td>Apple Magic (The Collector's series)</td>\n",
              "      <td>1</td>\n",
              "    </tr>\n",
              "    <tr>\n",
              "      <th>3</th>\n",
              "      <td>Beyond IBM: Leadership Marketing and Finance ...</td>\n",
              "      <td>1</td>\n",
              "    </tr>\n",
              "    <tr>\n",
              "      <th>4</th>\n",
              "      <td>Clifford Visita El Hospital (Clifford El Gran...</td>\n",
              "      <td>1</td>\n",
              "    </tr>\n",
              "  </tbody>\n",
              "</table>\n",
              "</div>"
            ],
            "text/plain": [
              "                                               title  rating\n",
              "0   A Light in the Storm: The Civil War Diary of ...       2\n",
              "1                              Always Have Popsicles       1\n",
              "2               Apple Magic (The Collector's series)       1\n",
              "3   Beyond IBM: Leadership Marketing and Finance ...       1\n",
              "4   Clifford Visita El Hospital (Clifford El Gran...       1"
            ]
          },
          "execution_count": 39,
          "metadata": {},
          "output_type": "execute_result"
        }
      ],
      "source": [
        "num_rating.head()"
      ]
    },
    {
      "cell_type": "code",
      "execution_count": 40,
      "metadata": {
        "execution": {
          "iopub.execute_input": "2023-03-29T16:38:44.625940Z",
          "iopub.status.busy": "2023-03-29T16:38:44.625493Z",
          "iopub.status.idle": "2023-03-29T16:38:44.633110Z",
          "shell.execute_reply": "2023-03-29T16:38:44.631452Z",
          "shell.execute_reply.started": "2023-03-29T16:38:44.625899Z"
        },
        "id": "FltNzrDUZz-K"
      },
      "outputs": [],
      "source": [
        "num_rating.rename(columns={\n",
        "    \"rating\":\"num_of_rating\"\n",
        "},inplace=True)"
      ]
    },
    {
      "cell_type": "code",
      "execution_count": 41,
      "metadata": {
        "colab": {
          "base_uri": "https://localhost:8080/",
          "height": 81
        },
        "execution": {
          "iopub.execute_input": "2023-03-29T16:38:44.635861Z",
          "iopub.status.busy": "2023-03-29T16:38:44.635404Z",
          "iopub.status.idle": "2023-03-29T16:38:44.651204Z",
          "shell.execute_reply": "2023-03-29T16:38:44.649783Z",
          "shell.execute_reply.started": "2023-03-29T16:38:44.635814Z"
        },
        "id": "2R2XwwxkZz-K",
        "outputId": "7cd2c09f-de82-416d-a0a3-1c51d9d44e6b"
      },
      "outputs": [
        {
          "data": {
            "text/html": [
              "<div>\n",
              "<style scoped>\n",
              "    .dataframe tbody tr th:only-of-type {\n",
              "        vertical-align: middle;\n",
              "    }\n",
              "\n",
              "    .dataframe tbody tr th {\n",
              "        vertical-align: top;\n",
              "    }\n",
              "\n",
              "    .dataframe thead th {\n",
              "        text-align: right;\n",
              "    }\n",
              "</style>\n",
              "<table border=\"1\" class=\"dataframe\">\n",
              "  <thead>\n",
              "    <tr style=\"text-align: right;\">\n",
              "      <th></th>\n",
              "      <th>title</th>\n",
              "      <th>num_of_rating</th>\n",
              "    </tr>\n",
              "  </thead>\n",
              "  <tbody>\n",
              "    <tr>\n",
              "      <th>0</th>\n",
              "      <td>A Light in the Storm: The Civil War Diary of ...</td>\n",
              "      <td>2</td>\n",
              "    </tr>\n",
              "  </tbody>\n",
              "</table>\n",
              "</div>"
            ],
            "text/plain": [
              "                                               title  num_of_rating\n",
              "0   A Light in the Storm: The Civil War Diary of ...              2"
            ]
          },
          "execution_count": 41,
          "metadata": {},
          "output_type": "execute_result"
        }
      ],
      "source": [
        "num_rating.head(1)"
      ]
    },
    {
      "cell_type": "code",
      "execution_count": 42,
      "metadata": {
        "execution": {
          "iopub.execute_input": "2023-03-29T16:38:44.653832Z",
          "iopub.status.busy": "2023-03-29T16:38:44.653346Z",
          "iopub.status.idle": "2023-03-29T16:38:45.029029Z",
          "shell.execute_reply": "2023-03-29T16:38:45.027604Z",
          "shell.execute_reply.started": "2023-03-29T16:38:44.653779Z"
        },
        "id": "dicSM3KOZz-L"
      },
      "outputs": [],
      "source": [
        "final_rating=ratings_with_books.merge(num_rating, on=\"title\")"
      ]
    },
    {
      "cell_type": "code",
      "execution_count": 43,
      "metadata": {
        "colab": {
          "base_uri": "https://localhost:8080/",
          "height": 212
        },
        "execution": {
          "iopub.execute_input": "2023-03-29T16:38:45.031346Z",
          "iopub.status.busy": "2023-03-29T16:38:45.030849Z",
          "iopub.status.idle": "2023-03-29T16:38:45.049033Z",
          "shell.execute_reply": "2023-03-29T16:38:45.047530Z",
          "shell.execute_reply.started": "2023-03-29T16:38:45.031300Z"
        },
        "id": "yO820lFYZz-M",
        "outputId": "1f6a5a8b-7995-4bed-8811-79b56938cbb2"
      },
      "outputs": [
        {
          "data": {
            "text/html": [
              "<div>\n",
              "<style scoped>\n",
              "    .dataframe tbody tr th:only-of-type {\n",
              "        vertical-align: middle;\n",
              "    }\n",
              "\n",
              "    .dataframe tbody tr th {\n",
              "        vertical-align: top;\n",
              "    }\n",
              "\n",
              "    .dataframe thead th {\n",
              "        text-align: right;\n",
              "    }\n",
              "</style>\n",
              "<table border=\"1\" class=\"dataframe\">\n",
              "  <thead>\n",
              "    <tr style=\"text-align: right;\">\n",
              "      <th></th>\n",
              "      <th>user_id</th>\n",
              "      <th>ISBN</th>\n",
              "      <th>rating</th>\n",
              "      <th>title</th>\n",
              "      <th>author</th>\n",
              "      <th>year</th>\n",
              "      <th>publisher</th>\n",
              "      <th>img_url</th>\n",
              "      <th>num_of_rating</th>\n",
              "    </tr>\n",
              "  </thead>\n",
              "  <tbody>\n",
              "    <tr>\n",
              "      <th>0</th>\n",
              "      <td>277427</td>\n",
              "      <td>002542730X</td>\n",
              "      <td>10</td>\n",
              "      <td>Politically Correct Bedtime Stories: Modern Ta...</td>\n",
              "      <td>James Finn Garner</td>\n",
              "      <td>1994</td>\n",
              "      <td>John Wiley &amp;amp; Sons Inc</td>\n",
              "      <td>http://images.amazon.com/images/P/002542730X.0...</td>\n",
              "      <td>82</td>\n",
              "    </tr>\n",
              "  </tbody>\n",
              "</table>\n",
              "</div>"
            ],
            "text/plain": [
              "   user_id        ISBN  rating   \n",
              "0   277427  002542730X      10  \\\n",
              "\n",
              "                                               title             author  year   \n",
              "0  Politically Correct Bedtime Stories: Modern Ta...  James Finn Garner  1994  \\\n",
              "\n",
              "                   publisher   \n",
              "0  John Wiley &amp; Sons Inc  \\\n",
              "\n",
              "                                             img_url  num_of_rating  \n",
              "0  http://images.amazon.com/images/P/002542730X.0...             82  "
            ]
          },
          "execution_count": 43,
          "metadata": {},
          "output_type": "execute_result"
        }
      ],
      "source": [
        "final_rating.head(1)"
      ]
    },
    {
      "cell_type": "code",
      "execution_count": 44,
      "metadata": {
        "colab": {
          "base_uri": "https://localhost:8080/"
        },
        "execution": {
          "iopub.execute_input": "2023-03-29T16:38:45.051652Z",
          "iopub.status.busy": "2023-03-29T16:38:45.051150Z",
          "iopub.status.idle": "2023-03-29T16:38:45.064624Z",
          "shell.execute_reply": "2023-03-29T16:38:45.063084Z",
          "shell.execute_reply.started": "2023-03-29T16:38:45.051605Z"
        },
        "id": "OTCJzQ-hZz-M",
        "outputId": "22ca85c6-811a-4774-8e2a-bb192272a71d"
      },
      "outputs": [
        {
          "data": {
            "text/plain": [
              "(487671, 9)"
            ]
          },
          "execution_count": 44,
          "metadata": {},
          "output_type": "execute_result"
        }
      ],
      "source": [
        "final_rating.shape"
      ]
    },
    {
      "cell_type": "code",
      "execution_count": 45,
      "metadata": {
        "execution": {
          "iopub.execute_input": "2023-03-29T16:38:45.067133Z",
          "iopub.status.busy": "2023-03-29T16:38:45.066451Z",
          "iopub.status.idle": "2023-03-29T16:38:45.328440Z",
          "shell.execute_reply": "2023-03-29T16:38:45.326785Z",
          "shell.execute_reply.started": "2023-03-29T16:38:45.067043Z"
        },
        "id": "JOJqwal5Zz-N"
      },
      "outputs": [],
      "source": [
        "final_rating=final_rating[final_rating['num_of_rating']>=50]"
      ]
    },
    {
      "cell_type": "code",
      "execution_count": 46,
      "metadata": {
        "colab": {
          "base_uri": "https://localhost:8080/",
          "height": 330
        },
        "execution": {
          "iopub.execute_input": "2023-03-29T16:38:45.331486Z",
          "iopub.status.busy": "2023-03-29T16:38:45.330250Z",
          "iopub.status.idle": "2023-03-29T16:38:45.349510Z",
          "shell.execute_reply": "2023-03-29T16:38:45.348132Z",
          "shell.execute_reply.started": "2023-03-29T16:38:45.331430Z"
        },
        "id": "SegzcVXMZz-N",
        "outputId": "e607f6fb-e98a-4d6b-a6b3-3b16d04028eb"
      },
      "outputs": [
        {
          "data": {
            "text/html": [
              "<div>\n",
              "<style scoped>\n",
              "    .dataframe tbody tr th:only-of-type {\n",
              "        vertical-align: middle;\n",
              "    }\n",
              "\n",
              "    .dataframe tbody tr th {\n",
              "        vertical-align: top;\n",
              "    }\n",
              "\n",
              "    .dataframe thead th {\n",
              "        text-align: right;\n",
              "    }\n",
              "</style>\n",
              "<table border=\"1\" class=\"dataframe\">\n",
              "  <thead>\n",
              "    <tr style=\"text-align: right;\">\n",
              "      <th></th>\n",
              "      <th>user_id</th>\n",
              "      <th>ISBN</th>\n",
              "      <th>rating</th>\n",
              "      <th>title</th>\n",
              "      <th>author</th>\n",
              "      <th>year</th>\n",
              "      <th>publisher</th>\n",
              "      <th>img_url</th>\n",
              "      <th>num_of_rating</th>\n",
              "    </tr>\n",
              "  </thead>\n",
              "  <tbody>\n",
              "    <tr>\n",
              "      <th>0</th>\n",
              "      <td>277427</td>\n",
              "      <td>002542730X</td>\n",
              "      <td>10</td>\n",
              "      <td>Politically Correct Bedtime Stories: Modern Ta...</td>\n",
              "      <td>James Finn Garner</td>\n",
              "      <td>1994</td>\n",
              "      <td>John Wiley &amp;amp; Sons Inc</td>\n",
              "      <td>http://images.amazon.com/images/P/002542730X.0...</td>\n",
              "      <td>82</td>\n",
              "    </tr>\n",
              "    <tr>\n",
              "      <th>1</th>\n",
              "      <td>3363</td>\n",
              "      <td>002542730X</td>\n",
              "      <td>0</td>\n",
              "      <td>Politically Correct Bedtime Stories: Modern Ta...</td>\n",
              "      <td>James Finn Garner</td>\n",
              "      <td>1994</td>\n",
              "      <td>John Wiley &amp;amp; Sons Inc</td>\n",
              "      <td>http://images.amazon.com/images/P/002542730X.0...</td>\n",
              "      <td>82</td>\n",
              "    </tr>\n",
              "  </tbody>\n",
              "</table>\n",
              "</div>"
            ],
            "text/plain": [
              "   user_id        ISBN  rating   \n",
              "0   277427  002542730X      10  \\\n",
              "1     3363  002542730X       0   \n",
              "\n",
              "                                               title             author  year   \n",
              "0  Politically Correct Bedtime Stories: Modern Ta...  James Finn Garner  1994  \\\n",
              "1  Politically Correct Bedtime Stories: Modern Ta...  James Finn Garner  1994   \n",
              "\n",
              "                   publisher   \n",
              "0  John Wiley &amp; Sons Inc  \\\n",
              "1  John Wiley &amp; Sons Inc   \n",
              "\n",
              "                                             img_url  num_of_rating  \n",
              "0  http://images.amazon.com/images/P/002542730X.0...             82  \n",
              "1  http://images.amazon.com/images/P/002542730X.0...             82  "
            ]
          },
          "execution_count": 46,
          "metadata": {},
          "output_type": "execute_result"
        }
      ],
      "source": [
        "final_rating.head(2)"
      ]
    },
    {
      "cell_type": "code",
      "execution_count": 47,
      "metadata": {
        "colab": {
          "base_uri": "https://localhost:8080/"
        },
        "execution": {
          "iopub.execute_input": "2023-03-29T16:38:45.351484Z",
          "iopub.status.busy": "2023-03-29T16:38:45.351037Z",
          "iopub.status.idle": "2023-03-29T16:38:45.363387Z",
          "shell.execute_reply": "2023-03-29T16:38:45.361928Z",
          "shell.execute_reply.started": "2023-03-29T16:38:45.351442Z"
        },
        "id": "9eHVRflCZz-O",
        "outputId": "8bb93f21-c557-403a-ee9d-c5949b1381e3"
      },
      "outputs": [
        {
          "data": {
            "text/plain": [
              "(61853, 9)"
            ]
          },
          "execution_count": 47,
          "metadata": {},
          "output_type": "execute_result"
        }
      ],
      "source": [
        "final_rating.shape"
      ]
    },
    {
      "cell_type": "code",
      "execution_count": 48,
      "metadata": {
        "execution": {
          "iopub.execute_input": "2023-03-29T16:38:45.365896Z",
          "iopub.status.busy": "2023-03-29T16:38:45.365204Z",
          "iopub.status.idle": "2023-03-29T16:38:45.394800Z",
          "shell.execute_reply": "2023-03-29T16:38:45.393282Z",
          "shell.execute_reply.started": "2023-03-29T16:38:45.365839Z"
        },
        "id": "yhGU4KbPZz-O"
      },
      "outputs": [],
      "source": [
        "final_rating.drop_duplicates(['user_id','title'],inplace=True)"
      ]
    },
    {
      "cell_type": "code",
      "execution_count": 49,
      "metadata": {
        "colab": {
          "base_uri": "https://localhost:8080/"
        },
        "execution": {
          "iopub.execute_input": "2023-03-29T16:38:45.398517Z",
          "iopub.status.busy": "2023-03-29T16:38:45.396722Z",
          "iopub.status.idle": "2023-03-29T16:38:45.407031Z",
          "shell.execute_reply": "2023-03-29T16:38:45.406038Z",
          "shell.execute_reply.started": "2023-03-29T16:38:45.398452Z"
        },
        "id": "a7tkKyV8Zz-O",
        "outputId": "074cb33d-81f2-4c08-c594-cdb9057cbec6"
      },
      "outputs": [
        {
          "data": {
            "text/plain": [
              "(59850, 9)"
            ]
          },
          "execution_count": 49,
          "metadata": {},
          "output_type": "execute_result"
        }
      ],
      "source": [
        "final_rating.shape"
      ]
    },
    {
      "cell_type": "code",
      "execution_count": 50,
      "metadata": {
        "colab": {
          "base_uri": "https://localhost:8080/",
          "height": 330
        },
        "execution": {
          "iopub.execute_input": "2023-03-29T16:38:45.409028Z",
          "iopub.status.busy": "2023-03-29T16:38:45.408643Z",
          "iopub.status.idle": "2023-03-29T16:38:45.427710Z",
          "shell.execute_reply": "2023-03-29T16:38:45.426589Z",
          "shell.execute_reply.started": "2023-03-29T16:38:45.408990Z"
        },
        "id": "s4triOasZz-O",
        "outputId": "0ee9f7d0-c4d1-4ce8-d9f7-7ead8d02f401"
      },
      "outputs": [
        {
          "data": {
            "text/html": [
              "<div>\n",
              "<style scoped>\n",
              "    .dataframe tbody tr th:only-of-type {\n",
              "        vertical-align: middle;\n",
              "    }\n",
              "\n",
              "    .dataframe tbody tr th {\n",
              "        vertical-align: top;\n",
              "    }\n",
              "\n",
              "    .dataframe thead th {\n",
              "        text-align: right;\n",
              "    }\n",
              "</style>\n",
              "<table border=\"1\" class=\"dataframe\">\n",
              "  <thead>\n",
              "    <tr style=\"text-align: right;\">\n",
              "      <th></th>\n",
              "      <th>user_id</th>\n",
              "      <th>ISBN</th>\n",
              "      <th>rating</th>\n",
              "      <th>title</th>\n",
              "      <th>author</th>\n",
              "      <th>year</th>\n",
              "      <th>publisher</th>\n",
              "      <th>img_url</th>\n",
              "      <th>num_of_rating</th>\n",
              "    </tr>\n",
              "  </thead>\n",
              "  <tbody>\n",
              "    <tr>\n",
              "      <th>0</th>\n",
              "      <td>277427</td>\n",
              "      <td>002542730X</td>\n",
              "      <td>10</td>\n",
              "      <td>Politically Correct Bedtime Stories: Modern Ta...</td>\n",
              "      <td>James Finn Garner</td>\n",
              "      <td>1994</td>\n",
              "      <td>John Wiley &amp;amp; Sons Inc</td>\n",
              "      <td>http://images.amazon.com/images/P/002542730X.0...</td>\n",
              "      <td>82</td>\n",
              "    </tr>\n",
              "    <tr>\n",
              "      <th>1</th>\n",
              "      <td>3363</td>\n",
              "      <td>002542730X</td>\n",
              "      <td>0</td>\n",
              "      <td>Politically Correct Bedtime Stories: Modern Ta...</td>\n",
              "      <td>James Finn Garner</td>\n",
              "      <td>1994</td>\n",
              "      <td>John Wiley &amp;amp; Sons Inc</td>\n",
              "      <td>http://images.amazon.com/images/P/002542730X.0...</td>\n",
              "      <td>82</td>\n",
              "    </tr>\n",
              "  </tbody>\n",
              "</table>\n",
              "</div>"
            ],
            "text/plain": [
              "   user_id        ISBN  rating   \n",
              "0   277427  002542730X      10  \\\n",
              "1     3363  002542730X       0   \n",
              "\n",
              "                                               title             author  year   \n",
              "0  Politically Correct Bedtime Stories: Modern Ta...  James Finn Garner  1994  \\\n",
              "1  Politically Correct Bedtime Stories: Modern Ta...  James Finn Garner  1994   \n",
              "\n",
              "                   publisher   \n",
              "0  John Wiley &amp; Sons Inc  \\\n",
              "1  John Wiley &amp; Sons Inc   \n",
              "\n",
              "                                             img_url  num_of_rating  \n",
              "0  http://images.amazon.com/images/P/002542730X.0...             82  \n",
              "1  http://images.amazon.com/images/P/002542730X.0...             82  "
            ]
          },
          "execution_count": 50,
          "metadata": {},
          "output_type": "execute_result"
        }
      ],
      "source": [
        "final_rating.head(2)"
      ]
    },
    {
      "cell_type": "code",
      "execution_count": 51,
      "metadata": {
        "execution": {
          "iopub.execute_input": "2023-03-29T16:38:45.430858Z",
          "iopub.status.busy": "2023-03-29T16:38:45.429521Z",
          "iopub.status.idle": "2023-03-29T16:38:45.507976Z",
          "shell.execute_reply": "2023-03-29T16:38:45.506535Z",
          "shell.execute_reply.started": "2023-03-29T16:38:45.430812Z"
        },
        "id": "eUmiutkdZz-P"
      },
      "outputs": [],
      "source": [
        "book_pivot=final_rating.pivot_table(columns=\"user_id\",index=\"title\",values=\"rating\")"
      ]
    },
    {
      "cell_type": "code",
      "execution_count": 52,
      "metadata": {
        "colab": {
          "base_uri": "https://localhost:8080/",
          "height": 205
        },
        "execution": {
          "iopub.execute_input": "2023-03-29T16:38:45.510015Z",
          "iopub.status.busy": "2023-03-29T16:38:45.509623Z",
          "iopub.status.idle": "2023-03-29T16:38:45.537571Z",
          "shell.execute_reply": "2023-03-29T16:38:45.536161Z",
          "shell.execute_reply.started": "2023-03-29T16:38:45.509972Z"
        },
        "id": "SN3qmXsWZz-P",
        "outputId": "65040b9d-bb5e-410a-f28c-2abc45108bcb"
      },
      "outputs": [
        {
          "data": {
            "text/html": [
              "<div>\n",
              "<style scoped>\n",
              "    .dataframe tbody tr th:only-of-type {\n",
              "        vertical-align: middle;\n",
              "    }\n",
              "\n",
              "    .dataframe tbody tr th {\n",
              "        vertical-align: top;\n",
              "    }\n",
              "\n",
              "    .dataframe thead th {\n",
              "        text-align: right;\n",
              "    }\n",
              "</style>\n",
              "<table border=\"1\" class=\"dataframe\">\n",
              "  <thead>\n",
              "    <tr style=\"text-align: right;\">\n",
              "      <th>user_id</th>\n",
              "      <th>254</th>\n",
              "      <th>2276</th>\n",
              "      <th>2766</th>\n",
              "      <th>2977</th>\n",
              "      <th>3363</th>\n",
              "      <th>3757</th>\n",
              "      <th>4017</th>\n",
              "      <th>4385</th>\n",
              "      <th>6242</th>\n",
              "      <th>6251</th>\n",
              "      <th>...</th>\n",
              "      <th>274004</th>\n",
              "      <th>274061</th>\n",
              "      <th>274301</th>\n",
              "      <th>274308</th>\n",
              "      <th>274808</th>\n",
              "      <th>275970</th>\n",
              "      <th>277427</th>\n",
              "      <th>277478</th>\n",
              "      <th>277639</th>\n",
              "      <th>278418</th>\n",
              "    </tr>\n",
              "    <tr>\n",
              "      <th>title</th>\n",
              "      <th></th>\n",
              "      <th></th>\n",
              "      <th></th>\n",
              "      <th></th>\n",
              "      <th></th>\n",
              "      <th></th>\n",
              "      <th></th>\n",
              "      <th></th>\n",
              "      <th></th>\n",
              "      <th></th>\n",
              "      <th></th>\n",
              "      <th></th>\n",
              "      <th></th>\n",
              "      <th></th>\n",
              "      <th></th>\n",
              "      <th></th>\n",
              "      <th></th>\n",
              "      <th></th>\n",
              "      <th></th>\n",
              "      <th></th>\n",
              "      <th></th>\n",
              "    </tr>\n",
              "  </thead>\n",
              "  <tbody>\n",
              "    <tr>\n",
              "      <th>1984</th>\n",
              "      <td>9.0</td>\n",
              "      <td>NaN</td>\n",
              "      <td>NaN</td>\n",
              "      <td>NaN</td>\n",
              "      <td>NaN</td>\n",
              "      <td>NaN</td>\n",
              "      <td>NaN</td>\n",
              "      <td>NaN</td>\n",
              "      <td>NaN</td>\n",
              "      <td>NaN</td>\n",
              "      <td>...</td>\n",
              "      <td>NaN</td>\n",
              "      <td>NaN</td>\n",
              "      <td>NaN</td>\n",
              "      <td>NaN</td>\n",
              "      <td>NaN</td>\n",
              "      <td>0.0</td>\n",
              "      <td>NaN</td>\n",
              "      <td>NaN</td>\n",
              "      <td>NaN</td>\n",
              "      <td>NaN</td>\n",
              "    </tr>\n",
              "  </tbody>\n",
              "</table>\n",
              "<p>1 rows × 888 columns</p>\n",
              "</div>"
            ],
            "text/plain": [
              "user_id  254     2276    2766    2977    3363    3757    4017    4385     \n",
              "title                                                                     \n",
              "1984        9.0     NaN     NaN     NaN     NaN     NaN     NaN     NaN  \\\n",
              "\n",
              "user_id  6242    6251    ...  274004  274061  274301  274308  274808  275970   \n",
              "title                    ...                                                   \n",
              "1984        NaN     NaN  ...     NaN     NaN     NaN     NaN     NaN     0.0  \\\n",
              "\n",
              "user_id  277427  277478  277639  278418  \n",
              "title                                    \n",
              "1984        NaN     NaN     NaN     NaN  \n",
              "\n",
              "[1 rows x 888 columns]"
            ]
          },
          "execution_count": 52,
          "metadata": {},
          "output_type": "execute_result"
        }
      ],
      "source": [
        "book_pivot.head(1)"
      ]
    },
    {
      "cell_type": "code",
      "execution_count": 53,
      "metadata": {
        "colab": {
          "base_uri": "https://localhost:8080/"
        },
        "execution": {
          "iopub.execute_input": "2023-03-29T16:38:45.539763Z",
          "iopub.status.busy": "2023-03-29T16:38:45.539368Z",
          "iopub.status.idle": "2023-03-29T16:38:45.549051Z",
          "shell.execute_reply": "2023-03-29T16:38:45.547459Z",
          "shell.execute_reply.started": "2023-03-29T16:38:45.539722Z"
        },
        "id": "3xDMJwCrZz-Q",
        "outputId": "5a436021-9a48-47cc-9b8a-51128bb6ff5d"
      },
      "outputs": [
        {
          "data": {
            "text/plain": [
              "(742, 888)"
            ]
          },
          "execution_count": 53,
          "metadata": {},
          "output_type": "execute_result"
        }
      ],
      "source": [
        "book_pivot.shape"
      ]
    },
    {
      "cell_type": "code",
      "execution_count": 54,
      "metadata": {
        "execution": {
          "iopub.execute_input": "2023-03-29T16:38:45.551881Z",
          "iopub.status.busy": "2023-03-29T16:38:45.550944Z",
          "iopub.status.idle": "2023-03-29T16:38:45.563605Z",
          "shell.execute_reply": "2023-03-29T16:38:45.562177Z",
          "shell.execute_reply.started": "2023-03-29T16:38:45.551821Z"
        },
        "id": "40O5RbwxZz-Q"
      },
      "outputs": [],
      "source": [
        "book_pivot.fillna(0,inplace=True)"
      ]
    },
    {
      "cell_type": "code",
      "execution_count": 55,
      "metadata": {
        "colab": {
          "base_uri": "https://localhost:8080/",
          "height": 272
        },
        "execution": {
          "iopub.execute_input": "2023-03-29T16:38:45.565502Z",
          "iopub.status.busy": "2023-03-29T16:38:45.565123Z",
          "iopub.status.idle": "2023-03-29T16:38:45.600656Z",
          "shell.execute_reply": "2023-03-29T16:38:45.599197Z",
          "shell.execute_reply.started": "2023-03-29T16:38:45.565463Z"
        },
        "id": "Z6dM7v_kZz-R",
        "outputId": "169557db-bce1-4202-fbe1-5ef225943264"
      },
      "outputs": [
        {
          "data": {
            "text/html": [
              "<div>\n",
              "<style scoped>\n",
              "    .dataframe tbody tr th:only-of-type {\n",
              "        vertical-align: middle;\n",
              "    }\n",
              "\n",
              "    .dataframe tbody tr th {\n",
              "        vertical-align: top;\n",
              "    }\n",
              "\n",
              "    .dataframe thead th {\n",
              "        text-align: right;\n",
              "    }\n",
              "</style>\n",
              "<table border=\"1\" class=\"dataframe\">\n",
              "  <thead>\n",
              "    <tr style=\"text-align: right;\">\n",
              "      <th>user_id</th>\n",
              "      <th>254</th>\n",
              "      <th>2276</th>\n",
              "      <th>2766</th>\n",
              "      <th>2977</th>\n",
              "      <th>3363</th>\n",
              "      <th>3757</th>\n",
              "      <th>4017</th>\n",
              "      <th>4385</th>\n",
              "      <th>6242</th>\n",
              "      <th>6251</th>\n",
              "      <th>...</th>\n",
              "      <th>274004</th>\n",
              "      <th>274061</th>\n",
              "      <th>274301</th>\n",
              "      <th>274308</th>\n",
              "      <th>274808</th>\n",
              "      <th>275970</th>\n",
              "      <th>277427</th>\n",
              "      <th>277478</th>\n",
              "      <th>277639</th>\n",
              "      <th>278418</th>\n",
              "    </tr>\n",
              "    <tr>\n",
              "      <th>title</th>\n",
              "      <th></th>\n",
              "      <th></th>\n",
              "      <th></th>\n",
              "      <th></th>\n",
              "      <th></th>\n",
              "      <th></th>\n",
              "      <th></th>\n",
              "      <th></th>\n",
              "      <th></th>\n",
              "      <th></th>\n",
              "      <th></th>\n",
              "      <th></th>\n",
              "      <th></th>\n",
              "      <th></th>\n",
              "      <th></th>\n",
              "      <th></th>\n",
              "      <th></th>\n",
              "      <th></th>\n",
              "      <th></th>\n",
              "      <th></th>\n",
              "      <th></th>\n",
              "    </tr>\n",
              "  </thead>\n",
              "  <tbody>\n",
              "    <tr>\n",
              "      <th>1984</th>\n",
              "      <td>9.0</td>\n",
              "      <td>0.0</td>\n",
              "      <td>0.0</td>\n",
              "      <td>0.0</td>\n",
              "      <td>0.0</td>\n",
              "      <td>0.0</td>\n",
              "      <td>0.0</td>\n",
              "      <td>0.0</td>\n",
              "      <td>0.0</td>\n",
              "      <td>0.0</td>\n",
              "      <td>...</td>\n",
              "      <td>0.0</td>\n",
              "      <td>0.0</td>\n",
              "      <td>0.0</td>\n",
              "      <td>0.0</td>\n",
              "      <td>0.0</td>\n",
              "      <td>0.0</td>\n",
              "      <td>0.0</td>\n",
              "      <td>0.0</td>\n",
              "      <td>0.0</td>\n",
              "      <td>0.0</td>\n",
              "    </tr>\n",
              "    <tr>\n",
              "      <th>1st to Die: A Novel</th>\n",
              "      <td>0.0</td>\n",
              "      <td>0.0</td>\n",
              "      <td>0.0</td>\n",
              "      <td>0.0</td>\n",
              "      <td>0.0</td>\n",
              "      <td>0.0</td>\n",
              "      <td>0.0</td>\n",
              "      <td>0.0</td>\n",
              "      <td>0.0</td>\n",
              "      <td>0.0</td>\n",
              "      <td>...</td>\n",
              "      <td>0.0</td>\n",
              "      <td>0.0</td>\n",
              "      <td>0.0</td>\n",
              "      <td>0.0</td>\n",
              "      <td>0.0</td>\n",
              "      <td>0.0</td>\n",
              "      <td>0.0</td>\n",
              "      <td>0.0</td>\n",
              "      <td>0.0</td>\n",
              "      <td>0.0</td>\n",
              "    </tr>\n",
              "  </tbody>\n",
              "</table>\n",
              "<p>2 rows × 888 columns</p>\n",
              "</div>"
            ],
            "text/plain": [
              "user_id              254     2276    2766    2977    3363    3757    4017     \n",
              "title                                                                         \n",
              "1984                    9.0     0.0     0.0     0.0     0.0     0.0     0.0  \\\n",
              "1st to Die: A Novel     0.0     0.0     0.0     0.0     0.0     0.0     0.0   \n",
              "\n",
              "user_id              4385    6242    6251    ...  274004  274061  274301   \n",
              "title                                        ...                           \n",
              "1984                    0.0     0.0     0.0  ...     0.0     0.0     0.0  \\\n",
              "1st to Die: A Novel     0.0     0.0     0.0  ...     0.0     0.0     0.0   \n",
              "\n",
              "user_id              274308  274808  275970  277427  277478  277639  278418  \n",
              "title                                                                        \n",
              "1984                    0.0     0.0     0.0     0.0     0.0     0.0     0.0  \n",
              "1st to Die: A Novel     0.0     0.0     0.0     0.0     0.0     0.0     0.0  \n",
              "\n",
              "[2 rows x 888 columns]"
            ]
          },
          "execution_count": 55,
          "metadata": {},
          "output_type": "execute_result"
        }
      ],
      "source": [
        "book_pivot.head(2)"
      ]
    },
    {
      "cell_type": "code",
      "execution_count": 56,
      "metadata": {
        "execution": {
          "iopub.execute_input": "2023-03-29T16:38:45.602684Z",
          "iopub.status.busy": "2023-03-29T16:38:45.602277Z",
          "iopub.status.idle": "2023-03-29T16:38:45.608042Z",
          "shell.execute_reply": "2023-03-29T16:38:45.606933Z",
          "shell.execute_reply.started": "2023-03-29T16:38:45.602642Z"
        },
        "id": "v_siycDKZz-R"
      },
      "outputs": [],
      "source": [
        "from scipy.sparse import csr_matrix"
      ]
    },
    {
      "cell_type": "code",
      "execution_count": 57,
      "metadata": {
        "execution": {
          "iopub.execute_input": "2023-03-29T16:38:45.609586Z",
          "iopub.status.busy": "2023-03-29T16:38:45.609218Z",
          "iopub.status.idle": "2023-03-29T16:38:45.639144Z",
          "shell.execute_reply": "2023-03-29T16:38:45.638128Z",
          "shell.execute_reply.started": "2023-03-29T16:38:45.609549Z"
        },
        "id": "l2jjH91MZz-R"
      },
      "outputs": [],
      "source": [
        "book_sparse= csr_matrix(book_pivot)"
      ]
    },
    {
      "cell_type": "code",
      "execution_count": 59,
      "metadata": {
        "execution": {
          "iopub.execute_input": "2023-03-29T16:38:45.641603Z",
          "iopub.status.busy": "2023-03-29T16:38:45.641119Z",
          "iopub.status.idle": "2023-03-29T16:38:45.647761Z",
          "shell.execute_reply": "2023-03-29T16:38:45.646673Z",
          "shell.execute_reply.started": "2023-03-29T16:38:45.641549Z"
        },
        "id": "Nu8Tt5w0Zz-T"
      },
      "outputs": [],
      "source": [
        "from sklearn.neighbors import NearestNeighbors\n",
        "model = NearestNeighbors(algorithm=\"brute\")"
      ]
    },
    {
      "cell_type": "code",
      "execution_count": 60,
      "metadata": {
        "colab": {
          "base_uri": "https://localhost:8080/",
          "height": 75
        },
        "execution": {
          "iopub.execute_input": "2023-03-29T16:48:53.035054Z",
          "iopub.status.busy": "2023-03-29T16:48:53.034522Z",
          "iopub.status.idle": "2023-03-29T16:48:53.053953Z",
          "shell.execute_reply": "2023-03-29T16:48:53.051231Z",
          "shell.execute_reply.started": "2023-03-29T16:48:53.035009Z"
        },
        "id": "uQ0RyT4IZz-U",
        "outputId": "de89c9ee-5454-4b60-d092-e36cd1c70b80"
      },
      "outputs": [
        {
          "data": {
            "text/html": [
              "<style>#sk-container-id-1 {color: black;background-color: white;}#sk-container-id-1 pre{padding: 0;}#sk-container-id-1 div.sk-toggleable {background-color: white;}#sk-container-id-1 label.sk-toggleable__label {cursor: pointer;display: block;width: 100%;margin-bottom: 0;padding: 0.3em;box-sizing: border-box;text-align: center;}#sk-container-id-1 label.sk-toggleable__label-arrow:before {content: \"▸\";float: left;margin-right: 0.25em;color: #696969;}#sk-container-id-1 label.sk-toggleable__label-arrow:hover:before {color: black;}#sk-container-id-1 div.sk-estimator:hover label.sk-toggleable__label-arrow:before {color: black;}#sk-container-id-1 div.sk-toggleable__content {max-height: 0;max-width: 0;overflow: hidden;text-align: left;background-color: #f0f8ff;}#sk-container-id-1 div.sk-toggleable__content pre {margin: 0.2em;color: black;border-radius: 0.25em;background-color: #f0f8ff;}#sk-container-id-1 input.sk-toggleable__control:checked~div.sk-toggleable__content {max-height: 200px;max-width: 100%;overflow: auto;}#sk-container-id-1 input.sk-toggleable__control:checked~label.sk-toggleable__label-arrow:before {content: \"▾\";}#sk-container-id-1 div.sk-estimator input.sk-toggleable__control:checked~label.sk-toggleable__label {background-color: #d4ebff;}#sk-container-id-1 div.sk-label input.sk-toggleable__control:checked~label.sk-toggleable__label {background-color: #d4ebff;}#sk-container-id-1 input.sk-hidden--visually {border: 0;clip: rect(1px 1px 1px 1px);clip: rect(1px, 1px, 1px, 1px);height: 1px;margin: -1px;overflow: hidden;padding: 0;position: absolute;width: 1px;}#sk-container-id-1 div.sk-estimator {font-family: monospace;background-color: #f0f8ff;border: 1px dotted black;border-radius: 0.25em;box-sizing: border-box;margin-bottom: 0.5em;}#sk-container-id-1 div.sk-estimator:hover {background-color: #d4ebff;}#sk-container-id-1 div.sk-parallel-item::after {content: \"\";width: 100%;border-bottom: 1px solid gray;flex-grow: 1;}#sk-container-id-1 div.sk-label:hover label.sk-toggleable__label {background-color: #d4ebff;}#sk-container-id-1 div.sk-serial::before {content: \"\";position: absolute;border-left: 1px solid gray;box-sizing: border-box;top: 0;bottom: 0;left: 50%;z-index: 0;}#sk-container-id-1 div.sk-serial {display: flex;flex-direction: column;align-items: center;background-color: white;padding-right: 0.2em;padding-left: 0.2em;position: relative;}#sk-container-id-1 div.sk-item {position: relative;z-index: 1;}#sk-container-id-1 div.sk-parallel {display: flex;align-items: stretch;justify-content: center;background-color: white;position: relative;}#sk-container-id-1 div.sk-item::before, #sk-container-id-1 div.sk-parallel-item::before {content: \"\";position: absolute;border-left: 1px solid gray;box-sizing: border-box;top: 0;bottom: 0;left: 50%;z-index: -1;}#sk-container-id-1 div.sk-parallel-item {display: flex;flex-direction: column;z-index: 1;position: relative;background-color: white;}#sk-container-id-1 div.sk-parallel-item:first-child::after {align-self: flex-end;width: 50%;}#sk-container-id-1 div.sk-parallel-item:last-child::after {align-self: flex-start;width: 50%;}#sk-container-id-1 div.sk-parallel-item:only-child::after {width: 0;}#sk-container-id-1 div.sk-dashed-wrapped {border: 1px dashed gray;margin: 0 0.4em 0.5em 0.4em;box-sizing: border-box;padding-bottom: 0.4em;background-color: white;}#sk-container-id-1 div.sk-label label {font-family: monospace;font-weight: bold;display: inline-block;line-height: 1.2em;}#sk-container-id-1 div.sk-label-container {text-align: center;}#sk-container-id-1 div.sk-container {/* jupyter's `normalize.less` sets `[hidden] { display: none; }` but bootstrap.min.css set `[hidden] { display: none !important; }` so we also need the `!important` here to be able to override the default hidden behavior on the sphinx rendered scikit-learn.org. See: https://github.com/scikit-learn/scikit-learn/issues/21755 */display: inline-block !important;position: relative;}#sk-container-id-1 div.sk-text-repr-fallback {display: none;}</style><div id=\"sk-container-id-1\" class=\"sk-top-container\"><div class=\"sk-text-repr-fallback\"><pre>NearestNeighbors(algorithm=&#x27;brute&#x27;)</pre><b>In a Jupyter environment, please rerun this cell to show the HTML representation or trust the notebook. <br />On GitHub, the HTML representation is unable to render, please try loading this page with nbviewer.org.</b></div><div class=\"sk-container\" hidden><div class=\"sk-item\"><div class=\"sk-estimator sk-toggleable\"><input class=\"sk-toggleable__control sk-hidden--visually\" id=\"sk-estimator-id-1\" type=\"checkbox\" checked><label for=\"sk-estimator-id-1\" class=\"sk-toggleable__label sk-toggleable__label-arrow\">NearestNeighbors</label><div class=\"sk-toggleable__content\"><pre>NearestNeighbors(algorithm=&#x27;brute&#x27;)</pre></div></div></div></div></div>"
            ],
            "text/plain": [
              "NearestNeighbors(algorithm='brute')"
            ]
          },
          "execution_count": 60,
          "metadata": {},
          "output_type": "execute_result"
        }
      ],
      "source": [
        "model.fit(book_sparse)"
      ]
    },
    {
      "cell_type": "code",
      "execution_count": 61,
      "metadata": {
        "execution": {
          "iopub.execute_input": "2023-03-29T16:50:54.536767Z",
          "iopub.status.busy": "2023-03-29T16:50:54.536242Z",
          "iopub.status.idle": "2023-03-29T16:50:54.554598Z",
          "shell.execute_reply": "2023-03-29T16:50:54.552729Z",
          "shell.execute_reply.started": "2023-03-29T16:50:54.536723Z"
        },
        "id": "A3PResi-Zz-V"
      },
      "outputs": [],
      "source": [
        "distance, suggestion = model.kneighbors(book_pivot.iloc[237,:].values.reshape(1,-1),n_neighbors=6)"
      ]
    },
    {
      "cell_type": "code",
      "execution_count": 62,
      "metadata": {
        "colab": {
          "base_uri": "https://localhost:8080/"
        },
        "execution": {
          "iopub.execute_input": "2023-03-29T16:51:07.395303Z",
          "iopub.status.busy": "2023-03-29T16:51:07.394759Z",
          "iopub.status.idle": "2023-03-29T16:51:07.404227Z",
          "shell.execute_reply": "2023-03-29T16:51:07.402950Z",
          "shell.execute_reply.started": "2023-03-29T16:51:07.395246Z"
        },
        "id": "jv8FJ6svZz-V",
        "outputId": "a73b8f91-fce9-4fa3-a139-7f4cac3d22db"
      },
      "outputs": [
        {
          "data": {
            "text/plain": [
              "array([[ 0.        , 68.78953409, 69.5413546 , 72.64296249, 76.83098333,\n",
              "        77.28518616]])"
            ]
          },
          "execution_count": 62,
          "metadata": {},
          "output_type": "execute_result"
        }
      ],
      "source": [
        "distance"
      ]
    },
    {
      "cell_type": "code",
      "execution_count": 63,
      "metadata": {
        "colab": {
          "base_uri": "https://localhost:8080/"
        },
        "execution": {
          "iopub.execute_input": "2023-03-29T16:51:12.042800Z",
          "iopub.status.busy": "2023-03-29T16:51:12.042324Z",
          "iopub.status.idle": "2023-03-29T16:51:12.051106Z",
          "shell.execute_reply": "2023-03-29T16:51:12.049796Z",
          "shell.execute_reply.started": "2023-03-29T16:51:12.042756Z"
        },
        "id": "oeSxG9gZZz-W",
        "outputId": "8134790c-ba7a-4340-ed91-3ccff7166b7c"
      },
      "outputs": [
        {
          "data": {
            "text/plain": [
              "array([[237, 240, 238, 241, 184, 536]])"
            ]
          },
          "execution_count": 63,
          "metadata": {},
          "output_type": "execute_result"
        }
      ],
      "source": [
        "suggestion"
      ]
    },
    {
      "cell_type": "code",
      "execution_count": 64,
      "metadata": {
        "colab": {
          "base_uri": "https://localhost:8080/"
        },
        "execution": {
          "iopub.execute_input": "2023-03-29T16:53:24.703882Z",
          "iopub.status.busy": "2023-03-29T16:53:24.703392Z",
          "iopub.status.idle": "2023-03-29T16:53:24.710912Z",
          "shell.execute_reply": "2023-03-29T16:53:24.709600Z",
          "shell.execute_reply.started": "2023-03-29T16:53:24.703836Z"
        },
        "id": "5YINhJUxZz-W",
        "outputId": "04b4a852-e626-469c-c8dd-a9bbce19e5c8"
      },
      "outputs": [
        {
          "name": "stdout",
          "output_type": "stream",
          "text": [
            "Index(['Harry Potter and the Chamber of Secrets (Book 2)',\n",
            "       'Harry Potter and the Prisoner of Azkaban (Book 3)',\n",
            "       'Harry Potter and the Goblet of Fire (Book 4)',\n",
            "       'Harry Potter and the Sorcerer's Stone (Book 1)', 'Exclusive',\n",
            "       'The Cradle Will Fall'],\n",
            "      dtype='object', name='title')\n"
          ]
        }
      ],
      "source": [
        "for i in range(len(suggestion)):\n",
        "    print(book_pivot.index[suggestion[i]])"
      ]
    },
    {
      "cell_type": "code",
      "execution_count": 65,
      "metadata": {
        "execution": {
          "iopub.execute_input": "2023-03-29T16:54:18.529791Z",
          "iopub.status.busy": "2023-03-29T16:54:18.529317Z",
          "iopub.status.idle": "2023-03-29T16:54:18.537206Z",
          "shell.execute_reply": "2023-03-29T16:54:18.534963Z",
          "shell.execute_reply.started": "2023-03-29T16:54:18.529754Z"
        },
        "id": "n_2y5v9dZz-W"
      },
      "outputs": [],
      "source": [
        "books_name = book_pivot.index"
      ]
    },
    {
      "cell_type": "code",
      "execution_count": 66,
      "metadata": {
        "colab": {
          "base_uri": "https://localhost:8080/"
        },
        "execution": {
          "iopub.execute_input": "2023-03-29T16:54:45.920377Z",
          "iopub.status.busy": "2023-03-29T16:54:45.919933Z",
          "iopub.status.idle": "2023-03-29T16:54:45.930142Z",
          "shell.execute_reply": "2023-03-29T16:54:45.928656Z",
          "shell.execute_reply.started": "2023-03-29T16:54:45.920337Z"
        },
        "id": "olFyRiiTZz-X",
        "outputId": "b3dbccf3-5f5c-4687-d63a-4bec383408ce"
      },
      "outputs": [
        {
          "data": {
            "text/plain": [
              "Index(['1984', '1st to Die: A Novel', '2nd Chance', '4 Blondes',\n",
              "       '84 Charing Cross Road', 'A Bend in the Road', 'A Case of Need',\n",
              "       'A Child Called \\It\\\": One Child's Courage to Survive\"',\n",
              "       'A Civil Action', 'A Cry In The Night',\n",
              "       ...\n",
              "       'Winter Solstice', 'Wish You Well', 'Without Remorse',\n",
              "       'Wizard and Glass (The Dark Tower, Book 4)', 'Wuthering Heights',\n",
              "       'Year of Wonders', 'You Belong To Me',\n",
              "       'Zen and the Art of Motorcycle Maintenance: An Inquiry into Values',\n",
              "       'Zoya', '\\O\\\" Is for Outlaw\"'],\n",
              "      dtype='object', name='title', length=742)"
            ]
          },
          "execution_count": 66,
          "metadata": {},
          "output_type": "execute_result"
        }
      ],
      "source": [
        "books_name"
      ]
    },
    {
      "cell_type": "code",
      "execution_count": 68,
      "metadata": {
        "execution": {
          "iopub.execute_input": "2023-03-29T17:04:58.745449Z",
          "iopub.status.busy": "2023-03-29T17:04:58.744930Z",
          "iopub.status.idle": "2023-03-29T17:04:58.771175Z",
          "shell.execute_reply": "2023-03-29T17:04:58.769358Z",
          "shell.execute_reply.started": "2023-03-29T17:04:58.745404Z"
        },
        "id": "vHpaaiW7Zz-X"
      },
      "outputs": [],
      "source": [
        "import pickle\n",
        "pickle.dump(model, open('artifacts/model.pkl','wb'))\n",
        "pickle.dump(books_name, open('artifacts/book_name.pkl','wb'))\n",
        "pickle.dump(final_rating, open('artifacts/final_rating.pkl','wb'))\n",
        "pickle.dump(book_pivot, open('artifacts/book_pivot.pkl','wb'))"
      ]
    },
    {
      "cell_type": "code",
      "execution_count": 69,
      "metadata": {
        "id": "askrcBEUZz-Y"
      },
      "outputs": [],
      "source": [
        "# Testing the recommendation\n",
        "def recommend_book(book_name):\n",
        "  book_id=np.where(book_pivot.index==book_name)[0][0]\n",
        "  distance, suggestion = model.kneighbors(book_pivot.iloc[book_id,:].values.reshape(1,-1),n_neighbors=6)\n",
        "  for i in range(len(suggestion)):\n",
        "    books=book_pivot.index[suggestion[i]]\n",
        "    for j in books:\n",
        "      print(j)"
      ]
    },
    {
      "cell_type": "code",
      "execution_count": 70,
      "metadata": {
        "colab": {
          "base_uri": "https://localhost:8080/"
        },
        "id": "mszwyn0lZz-Y",
        "outputId": "f457ab44-1b0d-4606-c70e-39d2a1cc4810"
      },
      "outputs": [
        {
          "name": "stdout",
          "output_type": "stream",
          "text": [
            "1984\n",
            "No Safe Place\n",
            "A Civil Action\n",
            "Foucault's Pendulum\n",
            "Long After Midnight\n",
            "Abduction\n"
          ]
        }
      ],
      "source": [
        "recommend_book(\"1984\")\n",
        "  "
      ]
    },
    {
      "cell_type": "code",
      "execution_count": null,
      "metadata": {},
      "outputs": [],
      "source": []
    },
    {
      "cell_type": "code",
      "execution_count": null,
      "metadata": {},
      "outputs": [],
      "source": []
    }
  ],
  "metadata": {
    "colab": {
      "provenance": []
    },
    "kernelspec": {
      "display_name": "Python 3 (ipykernel)",
      "language": "python",
      "name": "python3"
    },
    "language_info": {
      "codemirror_mode": {
        "name": "ipython",
        "version": 3
      },
      "file_extension": ".py",
      "mimetype": "text/x-python",
      "name": "python",
      "nbconvert_exporter": "python",
      "pygments_lexer": "ipython3",
      "version": "3.10.6"
    }
  },
  "nbformat": 4,
  "nbformat_minor": 0
}
