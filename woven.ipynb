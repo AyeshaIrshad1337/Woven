{
 "cells": [
  {
   "cell_type": "code",
   "execution_count": 1,
   "id": "124211f6",
   "metadata": {
    "_cell_guid": "b1076dfc-b9ad-4769-8c92-a6c4dae69d19",
    "_uuid": "8f2839f25d086af736a60e9eeb907d3b93b6e0e5",
    "execution": {
     "iopub.execute_input": "2023-03-25T17:25:26.051923Z",
     "iopub.status.busy": "2023-03-25T17:25:26.051353Z",
     "iopub.status.idle": "2023-03-25T17:25:26.073922Z",
     "shell.execute_reply": "2023-03-25T17:25:26.072153Z"
    },
    "papermill": {
     "duration": 0.036247,
     "end_time": "2023-03-25T17:25:26.076994",
     "exception": false,
     "start_time": "2023-03-25T17:25:26.040747",
     "status": "completed"
    },
    "tags": []
   },
   "outputs": [
    {
     "name": "stdout",
     "output_type": "stream",
     "text": [
      "/kaggle/input/book-recommendation-dataset/Ratings.csv\n",
      "/kaggle/input/book-recommendation-dataset/Users.csv\n",
      "/kaggle/input/book-recommendation-dataset/Books.csv\n"
     ]
    }
   ],
   "source": [
    "# This Python 3 environment comes with many helpful analytics libraries installed\n",
    "# It is defined by the kaggle/python Docker image: https://github.com/kaggle/docker-python\n",
    "# For example, here's several helpful packages to load\n",
    "\n",
    "import numpy as np # linear algebra\n",
    "import pandas as pd # data processing, CSV file I/O (e.g. pd.read_csv)\n",
    "\n",
    "# Input data files are available in the read-only \"../input/\" directory\n",
    "# For example, running this (by clicking run or pressing Shift+Enter) will list all files under the input directory\n",
    "\n",
    "import os\n",
    "for dirname, _, filenames in os.walk('/kaggle/input'):\n",
    "    for filename in filenames:\n",
    "        print(os.path.join(dirname, filename))\n",
    "\n",
    "# You can write up to 20GB to the current directory (/kaggle/working/) that gets preserved as output when you create a version using \"Save & Run All\" \n",
    "# You can also write temporary files to /kaggle/temp/, but they won't be saved outside of the current session"
   ]
  },
  {
   "cell_type": "code",
   "execution_count": 2,
   "id": "84964717",
   "metadata": {
    "execution": {
     "iopub.execute_input": "2023-03-25T17:25:26.094808Z",
     "iopub.status.busy": "2023-03-25T17:25:26.094244Z",
     "iopub.status.idle": "2023-03-25T17:25:27.451206Z",
     "shell.execute_reply": "2023-03-25T17:25:27.449719Z"
    },
    "papermill": {
     "duration": 1.369514,
     "end_time": "2023-03-25T17:25:27.454585",
     "exception": false,
     "start_time": "2023-03-25T17:25:26.085071",
     "status": "completed"
    },
    "tags": []
   },
   "outputs": [],
   "source": [
    "import pandas as pd\n",
    "import numpy as np\n",
    "import matplotlib.pyplot as plt\n",
    "import seaborn as sns"
   ]
  },
  {
   "cell_type": "code",
   "execution_count": 3,
   "id": "ba4a2a01",
   "metadata": {
    "execution": {
     "iopub.execute_input": "2023-03-25T17:25:27.475421Z",
     "iopub.status.busy": "2023-03-25T17:25:27.474967Z",
     "iopub.status.idle": "2023-03-25T17:25:31.718481Z",
     "shell.execute_reply": "2023-03-25T17:25:31.717013Z"
    },
    "papermill": {
     "duration": 4.256484,
     "end_time": "2023-03-25T17:25:31.721716",
     "exception": false,
     "start_time": "2023-03-25T17:25:27.465232",
     "status": "completed"
    },
    "tags": []
   },
   "outputs": [],
   "source": [
    "books=pd.read_csv(\"/kaggle/input/book-recommendation-dataset/Books.csv\",low_memory=False)\n",
    "Ratings=pd.read_csv(\"/kaggle/input/book-recommendation-dataset/Ratings.csv\")\n",
    "Users = pd.read_csv(\"/kaggle/input/book-recommendation-dataset/Users.csv\")"
   ]
  },
  {
   "cell_type": "code",
   "execution_count": 4,
   "id": "08412bd6",
   "metadata": {
    "execution": {
     "iopub.execute_input": "2023-03-25T17:25:31.741236Z",
     "iopub.status.busy": "2023-03-25T17:25:31.740550Z",
     "iopub.status.idle": "2023-03-25T17:25:31.779719Z",
     "shell.execute_reply": "2023-03-25T17:25:31.778201Z"
    },
    "papermill": {
     "duration": 0.052697,
     "end_time": "2023-03-25T17:25:31.783089",
     "exception": false,
     "start_time": "2023-03-25T17:25:31.730392",
     "status": "completed"
    },
    "tags": []
   },
   "outputs": [
    {
     "data": {
      "text/html": [
       "<div>\n",
       "<style scoped>\n",
       "    .dataframe tbody tr th:only-of-type {\n",
       "        vertical-align: middle;\n",
       "    }\n",
       "\n",
       "    .dataframe tbody tr th {\n",
       "        vertical-align: top;\n",
       "    }\n",
       "\n",
       "    .dataframe thead th {\n",
       "        text-align: right;\n",
       "    }\n",
       "</style>\n",
       "<table border=\"1\" class=\"dataframe\">\n",
       "  <thead>\n",
       "    <tr style=\"text-align: right;\">\n",
       "      <th></th>\n",
       "      <th>ISBN</th>\n",
       "      <th>Book-Title</th>\n",
       "      <th>Book-Author</th>\n",
       "      <th>Year-Of-Publication</th>\n",
       "      <th>Publisher</th>\n",
       "      <th>Image-URL-S</th>\n",
       "      <th>Image-URL-M</th>\n",
       "      <th>Image-URL-L</th>\n",
       "    </tr>\n",
       "  </thead>\n",
       "  <tbody>\n",
       "    <tr>\n",
       "      <th>0</th>\n",
       "      <td>0195153448</td>\n",
       "      <td>Classical Mythology</td>\n",
       "      <td>Mark P. O. Morford</td>\n",
       "      <td>2002</td>\n",
       "      <td>Oxford University Press</td>\n",
       "      <td>http://images.amazon.com/images/P/0195153448.0...</td>\n",
       "      <td>http://images.amazon.com/images/P/0195153448.0...</td>\n",
       "      <td>http://images.amazon.com/images/P/0195153448.0...</td>\n",
       "    </tr>\n",
       "    <tr>\n",
       "      <th>1</th>\n",
       "      <td>0002005018</td>\n",
       "      <td>Clara Callan</td>\n",
       "      <td>Richard Bruce Wright</td>\n",
       "      <td>2001</td>\n",
       "      <td>HarperFlamingo Canada</td>\n",
       "      <td>http://images.amazon.com/images/P/0002005018.0...</td>\n",
       "      <td>http://images.amazon.com/images/P/0002005018.0...</td>\n",
       "      <td>http://images.amazon.com/images/P/0002005018.0...</td>\n",
       "    </tr>\n",
       "    <tr>\n",
       "      <th>2</th>\n",
       "      <td>0060973129</td>\n",
       "      <td>Decision in Normandy</td>\n",
       "      <td>Carlo D'Este</td>\n",
       "      <td>1991</td>\n",
       "      <td>HarperPerennial</td>\n",
       "      <td>http://images.amazon.com/images/P/0060973129.0...</td>\n",
       "      <td>http://images.amazon.com/images/P/0060973129.0...</td>\n",
       "      <td>http://images.amazon.com/images/P/0060973129.0...</td>\n",
       "    </tr>\n",
       "    <tr>\n",
       "      <th>3</th>\n",
       "      <td>0374157065</td>\n",
       "      <td>Flu: The Story of the Great Influenza Pandemic...</td>\n",
       "      <td>Gina Bari Kolata</td>\n",
       "      <td>1999</td>\n",
       "      <td>Farrar Straus Giroux</td>\n",
       "      <td>http://images.amazon.com/images/P/0374157065.0...</td>\n",
       "      <td>http://images.amazon.com/images/P/0374157065.0...</td>\n",
       "      <td>http://images.amazon.com/images/P/0374157065.0...</td>\n",
       "    </tr>\n",
       "    <tr>\n",
       "      <th>4</th>\n",
       "      <td>0393045218</td>\n",
       "      <td>The Mummies of Urumchi</td>\n",
       "      <td>E. J. W. Barber</td>\n",
       "      <td>1999</td>\n",
       "      <td>W. W. Norton &amp;amp; Company</td>\n",
       "      <td>http://images.amazon.com/images/P/0393045218.0...</td>\n",
       "      <td>http://images.amazon.com/images/P/0393045218.0...</td>\n",
       "      <td>http://images.amazon.com/images/P/0393045218.0...</td>\n",
       "    </tr>\n",
       "  </tbody>\n",
       "</table>\n",
       "</div>"
      ],
      "text/plain": [
       "         ISBN                                         Book-Title  \\\n",
       "0  0195153448                                Classical Mythology   \n",
       "1  0002005018                                       Clara Callan   \n",
       "2  0060973129                               Decision in Normandy   \n",
       "3  0374157065  Flu: The Story of the Great Influenza Pandemic...   \n",
       "4  0393045218                             The Mummies of Urumchi   \n",
       "\n",
       "            Book-Author Year-Of-Publication                   Publisher  \\\n",
       "0    Mark P. O. Morford                2002     Oxford University Press   \n",
       "1  Richard Bruce Wright                2001       HarperFlamingo Canada   \n",
       "2          Carlo D'Este                1991             HarperPerennial   \n",
       "3      Gina Bari Kolata                1999        Farrar Straus Giroux   \n",
       "4       E. J. W. Barber                1999  W. W. Norton &amp; Company   \n",
       "\n",
       "                                         Image-URL-S  \\\n",
       "0  http://images.amazon.com/images/P/0195153448.0...   \n",
       "1  http://images.amazon.com/images/P/0002005018.0...   \n",
       "2  http://images.amazon.com/images/P/0060973129.0...   \n",
       "3  http://images.amazon.com/images/P/0374157065.0...   \n",
       "4  http://images.amazon.com/images/P/0393045218.0...   \n",
       "\n",
       "                                         Image-URL-M  \\\n",
       "0  http://images.amazon.com/images/P/0195153448.0...   \n",
       "1  http://images.amazon.com/images/P/0002005018.0...   \n",
       "2  http://images.amazon.com/images/P/0060973129.0...   \n",
       "3  http://images.amazon.com/images/P/0374157065.0...   \n",
       "4  http://images.amazon.com/images/P/0393045218.0...   \n",
       "\n",
       "                                         Image-URL-L  \n",
       "0  http://images.amazon.com/images/P/0195153448.0...  \n",
       "1  http://images.amazon.com/images/P/0002005018.0...  \n",
       "2  http://images.amazon.com/images/P/0060973129.0...  \n",
       "3  http://images.amazon.com/images/P/0374157065.0...  \n",
       "4  http://images.amazon.com/images/P/0393045218.0...  "
      ]
     },
     "execution_count": 4,
     "metadata": {},
     "output_type": "execute_result"
    }
   ],
   "source": [
    "books.head()"
   ]
  },
  {
   "cell_type": "code",
   "execution_count": 5,
   "id": "658d3251",
   "metadata": {
    "execution": {
     "iopub.execute_input": "2023-03-25T17:25:31.801917Z",
     "iopub.status.busy": "2023-03-25T17:25:31.800770Z",
     "iopub.status.idle": "2023-03-25T17:25:31.809850Z",
     "shell.execute_reply": "2023-03-25T17:25:31.808517Z"
    },
    "papermill": {
     "duration": 0.021695,
     "end_time": "2023-03-25T17:25:31.813008",
     "exception": false,
     "start_time": "2023-03-25T17:25:31.791313",
     "status": "completed"
    },
    "tags": []
   },
   "outputs": [
    {
     "data": {
      "text/plain": [
       "Index(['ISBN', 'Book-Title', 'Book-Author', 'Year-Of-Publication', 'Publisher',\n",
       "       'Image-URL-S', 'Image-URL-M', 'Image-URL-L'],\n",
       "      dtype='object')"
      ]
     },
     "execution_count": 5,
     "metadata": {},
     "output_type": "execute_result"
    }
   ],
   "source": [
    "books.columns"
   ]
  },
  {
   "cell_type": "code",
   "execution_count": 6,
   "id": "c44da4bc",
   "metadata": {
    "execution": {
     "iopub.execute_input": "2023-03-25T17:25:31.833109Z",
     "iopub.status.busy": "2023-03-25T17:25:31.832562Z",
     "iopub.status.idle": "2023-03-25T17:25:31.859931Z",
     "shell.execute_reply": "2023-03-25T17:25:31.858459Z"
    },
    "papermill": {
     "duration": 0.040073,
     "end_time": "2023-03-25T17:25:31.862771",
     "exception": false,
     "start_time": "2023-03-25T17:25:31.822698",
     "status": "completed"
    },
    "tags": []
   },
   "outputs": [],
   "source": [
    "books=books[['ISBN', 'Book-Title', 'Book-Author', 'Year-Of-Publication', 'Publisher',\n",
    "       'Image-URL-L']]"
   ]
  },
  {
   "cell_type": "code",
   "execution_count": 7,
   "id": "3a7b1771",
   "metadata": {
    "execution": {
     "iopub.execute_input": "2023-03-25T17:25:31.881950Z",
     "iopub.status.busy": "2023-03-25T17:25:31.881503Z",
     "iopub.status.idle": "2023-03-25T17:25:31.896319Z",
     "shell.execute_reply": "2023-03-25T17:25:31.894836Z"
    },
    "papermill": {
     "duration": 0.028013,
     "end_time": "2023-03-25T17:25:31.899370",
     "exception": false,
     "start_time": "2023-03-25T17:25:31.871357",
     "status": "completed"
    },
    "tags": []
   },
   "outputs": [
    {
     "data": {
      "text/html": [
       "<div>\n",
       "<style scoped>\n",
       "    .dataframe tbody tr th:only-of-type {\n",
       "        vertical-align: middle;\n",
       "    }\n",
       "\n",
       "    .dataframe tbody tr th {\n",
       "        vertical-align: top;\n",
       "    }\n",
       "\n",
       "    .dataframe thead th {\n",
       "        text-align: right;\n",
       "    }\n",
       "</style>\n",
       "<table border=\"1\" class=\"dataframe\">\n",
       "  <thead>\n",
       "    <tr style=\"text-align: right;\">\n",
       "      <th></th>\n",
       "      <th>ISBN</th>\n",
       "      <th>Book-Title</th>\n",
       "      <th>Book-Author</th>\n",
       "      <th>Year-Of-Publication</th>\n",
       "      <th>Publisher</th>\n",
       "      <th>Image-URL-L</th>\n",
       "    </tr>\n",
       "  </thead>\n",
       "  <tbody>\n",
       "    <tr>\n",
       "      <th>0</th>\n",
       "      <td>0195153448</td>\n",
       "      <td>Classical Mythology</td>\n",
       "      <td>Mark P. O. Morford</td>\n",
       "      <td>2002</td>\n",
       "      <td>Oxford University Press</td>\n",
       "      <td>http://images.amazon.com/images/P/0195153448.0...</td>\n",
       "    </tr>\n",
       "  </tbody>\n",
       "</table>\n",
       "</div>"
      ],
      "text/plain": [
       "         ISBN           Book-Title         Book-Author Year-Of-Publication  \\\n",
       "0  0195153448  Classical Mythology  Mark P. O. Morford                2002   \n",
       "\n",
       "                 Publisher                                        Image-URL-L  \n",
       "0  Oxford University Press  http://images.amazon.com/images/P/0195153448.0...  "
      ]
     },
     "execution_count": 7,
     "metadata": {},
     "output_type": "execute_result"
    }
   ],
   "source": [
    "books.head(1)"
   ]
  },
  {
   "cell_type": "code",
   "execution_count": 8,
   "id": "58197fdd",
   "metadata": {
    "execution": {
     "iopub.execute_input": "2023-03-25T17:25:31.918688Z",
     "iopub.status.busy": "2023-03-25T17:25:31.918291Z",
     "iopub.status.idle": "2023-03-25T17:25:31.941449Z",
     "shell.execute_reply": "2023-03-25T17:25:31.940190Z"
    },
    "papermill": {
     "duration": 0.03573,
     "end_time": "2023-03-25T17:25:31.944411",
     "exception": false,
     "start_time": "2023-03-25T17:25:31.908681",
     "status": "completed"
    },
    "tags": []
   },
   "outputs": [],
   "source": [
    "books=books.rename(columns={\n",
    "    \"Book-Title\" : \"title\",\n",
    "    \"Book-Author\":\"author\",\n",
    "    \"Year-Of-Publication\":\"year\",\n",
    "    \"Publisher\":\"publisher\",\n",
    "    \"Image-URL-L\":\"img_url\",\n",
    "})"
   ]
  },
  {
   "cell_type": "code",
   "execution_count": 9,
   "id": "323b4dd6",
   "metadata": {
    "execution": {
     "iopub.execute_input": "2023-03-25T17:25:31.963521Z",
     "iopub.status.busy": "2023-03-25T17:25:31.962724Z",
     "iopub.status.idle": "2023-03-25T17:25:31.976822Z",
     "shell.execute_reply": "2023-03-25T17:25:31.975455Z"
    },
    "papermill": {
     "duration": 0.026239,
     "end_time": "2023-03-25T17:25:31.979205",
     "exception": false,
     "start_time": "2023-03-25T17:25:31.952966",
     "status": "completed"
    },
    "tags": []
   },
   "outputs": [
    {
     "data": {
      "text/html": [
       "<div>\n",
       "<style scoped>\n",
       "    .dataframe tbody tr th:only-of-type {\n",
       "        vertical-align: middle;\n",
       "    }\n",
       "\n",
       "    .dataframe tbody tr th {\n",
       "        vertical-align: top;\n",
       "    }\n",
       "\n",
       "    .dataframe thead th {\n",
       "        text-align: right;\n",
       "    }\n",
       "</style>\n",
       "<table border=\"1\" class=\"dataframe\">\n",
       "  <thead>\n",
       "    <tr style=\"text-align: right;\">\n",
       "      <th></th>\n",
       "      <th>ISBN</th>\n",
       "      <th>title</th>\n",
       "      <th>author</th>\n",
       "      <th>year</th>\n",
       "      <th>publisher</th>\n",
       "      <th>img_url</th>\n",
       "    </tr>\n",
       "  </thead>\n",
       "  <tbody>\n",
       "    <tr>\n",
       "      <th>0</th>\n",
       "      <td>0195153448</td>\n",
       "      <td>Classical Mythology</td>\n",
       "      <td>Mark P. O. Morford</td>\n",
       "      <td>2002</td>\n",
       "      <td>Oxford University Press</td>\n",
       "      <td>http://images.amazon.com/images/P/0195153448.0...</td>\n",
       "    </tr>\n",
       "  </tbody>\n",
       "</table>\n",
       "</div>"
      ],
      "text/plain": [
       "         ISBN                title              author  year  \\\n",
       "0  0195153448  Classical Mythology  Mark P. O. Morford  2002   \n",
       "\n",
       "                 publisher                                            img_url  \n",
       "0  Oxford University Press  http://images.amazon.com/images/P/0195153448.0...  "
      ]
     },
     "execution_count": 9,
     "metadata": {},
     "output_type": "execute_result"
    }
   ],
   "source": [
    "books.head(1)"
   ]
  },
  {
   "cell_type": "code",
   "execution_count": 10,
   "id": "ca95e9f7",
   "metadata": {
    "execution": {
     "iopub.execute_input": "2023-03-25T17:25:31.997972Z",
     "iopub.status.busy": "2023-03-25T17:25:31.997511Z",
     "iopub.status.idle": "2023-03-25T17:25:32.010368Z",
     "shell.execute_reply": "2023-03-25T17:25:32.008902Z"
    },
    "papermill": {
     "duration": 0.025724,
     "end_time": "2023-03-25T17:25:32.013235",
     "exception": false,
     "start_time": "2023-03-25T17:25:31.987511",
     "status": "completed"
    },
    "tags": []
   },
   "outputs": [
    {
     "data": {
      "text/html": [
       "<div>\n",
       "<style scoped>\n",
       "    .dataframe tbody tr th:only-of-type {\n",
       "        vertical-align: middle;\n",
       "    }\n",
       "\n",
       "    .dataframe tbody tr th {\n",
       "        vertical-align: top;\n",
       "    }\n",
       "\n",
       "    .dataframe thead th {\n",
       "        text-align: right;\n",
       "    }\n",
       "</style>\n",
       "<table border=\"1\" class=\"dataframe\">\n",
       "  <thead>\n",
       "    <tr style=\"text-align: right;\">\n",
       "      <th></th>\n",
       "      <th>User-ID</th>\n",
       "      <th>Location</th>\n",
       "      <th>Age</th>\n",
       "    </tr>\n",
       "  </thead>\n",
       "  <tbody>\n",
       "    <tr>\n",
       "      <th>0</th>\n",
       "      <td>1</td>\n",
       "      <td>nyc, new york, usa</td>\n",
       "      <td>NaN</td>\n",
       "    </tr>\n",
       "  </tbody>\n",
       "</table>\n",
       "</div>"
      ],
      "text/plain": [
       "   User-ID            Location  Age\n",
       "0        1  nyc, new york, usa  NaN"
      ]
     },
     "execution_count": 10,
     "metadata": {},
     "output_type": "execute_result"
    }
   ],
   "source": [
    "Users.head(1)"
   ]
  },
  {
   "cell_type": "code",
   "execution_count": 11,
   "id": "2bfcb8df",
   "metadata": {
    "execution": {
     "iopub.execute_input": "2023-03-25T17:25:32.034172Z",
     "iopub.status.busy": "2023-03-25T17:25:32.032800Z",
     "iopub.status.idle": "2023-03-25T17:25:32.039331Z",
     "shell.execute_reply": "2023-03-25T17:25:32.038397Z"
    },
    "papermill": {
     "duration": 0.019408,
     "end_time": "2023-03-25T17:25:32.041611",
     "exception": false,
     "start_time": "2023-03-25T17:25:32.022203",
     "status": "completed"
    },
    "tags": []
   },
   "outputs": [
    {
     "data": {
      "text/plain": [
       "(278858, 3)"
      ]
     },
     "execution_count": 11,
     "metadata": {},
     "output_type": "execute_result"
    }
   ],
   "source": [
    "Users.shape"
   ]
  },
  {
   "cell_type": "code",
   "execution_count": 12,
   "id": "5864fbfe",
   "metadata": {
    "execution": {
     "iopub.execute_input": "2023-03-25T17:25:32.060848Z",
     "iopub.status.busy": "2023-03-25T17:25:32.060403Z",
     "iopub.status.idle": "2023-03-25T17:25:32.072069Z",
     "shell.execute_reply": "2023-03-25T17:25:32.070903Z"
    },
    "papermill": {
     "duration": 0.024338,
     "end_time": "2023-03-25T17:25:32.074493",
     "exception": false,
     "start_time": "2023-03-25T17:25:32.050155",
     "status": "completed"
    },
    "tags": []
   },
   "outputs": [
    {
     "data": {
      "text/html": [
       "<div>\n",
       "<style scoped>\n",
       "    .dataframe tbody tr th:only-of-type {\n",
       "        vertical-align: middle;\n",
       "    }\n",
       "\n",
       "    .dataframe tbody tr th {\n",
       "        vertical-align: top;\n",
       "    }\n",
       "\n",
       "    .dataframe thead th {\n",
       "        text-align: right;\n",
       "    }\n",
       "</style>\n",
       "<table border=\"1\" class=\"dataframe\">\n",
       "  <thead>\n",
       "    <tr style=\"text-align: right;\">\n",
       "      <th></th>\n",
       "      <th>User-ID</th>\n",
       "      <th>ISBN</th>\n",
       "      <th>Book-Rating</th>\n",
       "    </tr>\n",
       "  </thead>\n",
       "  <tbody>\n",
       "    <tr>\n",
       "      <th>0</th>\n",
       "      <td>276725</td>\n",
       "      <td>034545104X</td>\n",
       "      <td>0</td>\n",
       "    </tr>\n",
       "  </tbody>\n",
       "</table>\n",
       "</div>"
      ],
      "text/plain": [
       "   User-ID        ISBN  Book-Rating\n",
       "0   276725  034545104X            0"
      ]
     },
     "execution_count": 12,
     "metadata": {},
     "output_type": "execute_result"
    }
   ],
   "source": [
    "Ratings.head(1)"
   ]
  },
  {
   "cell_type": "code",
   "execution_count": 13,
   "id": "d09daaf7",
   "metadata": {
    "execution": {
     "iopub.execute_input": "2023-03-25T17:25:32.094338Z",
     "iopub.status.busy": "2023-03-25T17:25:32.093934Z",
     "iopub.status.idle": "2023-03-25T17:25:32.100451Z",
     "shell.execute_reply": "2023-03-25T17:25:32.099400Z"
    },
    "papermill": {
     "duration": 0.019229,
     "end_time": "2023-03-25T17:25:32.102697",
     "exception": false,
     "start_time": "2023-03-25T17:25:32.083468",
     "status": "completed"
    },
    "tags": []
   },
   "outputs": [
    {
     "data": {
      "text/plain": [
       "(1149780, 3)"
      ]
     },
     "execution_count": 13,
     "metadata": {},
     "output_type": "execute_result"
    }
   ],
   "source": [
    "Ratings.shape"
   ]
  },
  {
   "cell_type": "code",
   "execution_count": 14,
   "id": "12840ca8",
   "metadata": {
    "execution": {
     "iopub.execute_input": "2023-03-25T17:25:32.123379Z",
     "iopub.status.busy": "2023-03-25T17:25:32.122975Z",
     "iopub.status.idle": "2023-03-25T17:25:32.129587Z",
     "shell.execute_reply": "2023-03-25T17:25:32.127501Z"
    },
    "papermill": {
     "duration": 0.021941,
     "end_time": "2023-03-25T17:25:32.133582",
     "exception": false,
     "start_time": "2023-03-25T17:25:32.111641",
     "status": "completed"
    },
    "tags": []
   },
   "outputs": [
    {
     "name": "stdout",
     "output_type": "stream",
     "text": [
      "(271360, 6)\n",
      "(278858, 3)\n",
      "(1149780, 3)\n"
     ]
    }
   ],
   "source": [
    "print(books.shape)\n",
    "print(Users.shape)\n",
    "print(Ratings.shape)"
   ]
  },
  {
   "cell_type": "code",
   "execution_count": 15,
   "id": "2c941d7f",
   "metadata": {
    "execution": {
     "iopub.execute_input": "2023-03-25T17:25:32.153907Z",
     "iopub.status.busy": "2023-03-25T17:25:32.153478Z",
     "iopub.status.idle": "2023-03-25T17:25:32.161687Z",
     "shell.execute_reply": "2023-03-25T17:25:32.160314Z"
    },
    "papermill": {
     "duration": 0.021074,
     "end_time": "2023-03-25T17:25:32.164269",
     "exception": false,
     "start_time": "2023-03-25T17:25:32.143195",
     "status": "completed"
    },
    "tags": []
   },
   "outputs": [
    {
     "data": {
      "text/plain": [
       "Index(['User-ID', 'ISBN', 'Book-Rating'], dtype='object')"
      ]
     },
     "execution_count": 15,
     "metadata": {},
     "output_type": "execute_result"
    }
   ],
   "source": [
    "Ratings.columns"
   ]
  },
  {
   "cell_type": "code",
   "execution_count": 16,
   "id": "ef16dec7",
   "metadata": {
    "execution": {
     "iopub.execute_input": "2023-03-25T17:25:32.184614Z",
     "iopub.status.busy": "2023-03-25T17:25:32.184219Z",
     "iopub.status.idle": "2023-03-25T17:25:32.190259Z",
     "shell.execute_reply": "2023-03-25T17:25:32.188907Z"
    },
    "papermill": {
     "duration": 0.019729,
     "end_time": "2023-03-25T17:25:32.192944",
     "exception": false,
     "start_time": "2023-03-25T17:25:32.173215",
     "status": "completed"
    },
    "tags": []
   },
   "outputs": [],
   "source": [
    "Ratings.rename(columns={\n",
    "    \"User-ID\" :\"user_id\",\n",
    "    \"Book-Rating\":\"rating\"\n",
    "},inplace=True)"
   ]
  },
  {
   "cell_type": "code",
   "execution_count": 17,
   "id": "a3771bd3",
   "metadata": {
    "execution": {
     "iopub.execute_input": "2023-03-25T17:25:32.213324Z",
     "iopub.status.busy": "2023-03-25T17:25:32.212867Z",
     "iopub.status.idle": "2023-03-25T17:25:32.224907Z",
     "shell.execute_reply": "2023-03-25T17:25:32.223590Z"
    },
    "papermill": {
     "duration": 0.025257,
     "end_time": "2023-03-25T17:25:32.227592",
     "exception": false,
     "start_time": "2023-03-25T17:25:32.202335",
     "status": "completed"
    },
    "tags": []
   },
   "outputs": [
    {
     "data": {
      "text/html": [
       "<div>\n",
       "<style scoped>\n",
       "    .dataframe tbody tr th:only-of-type {\n",
       "        vertical-align: middle;\n",
       "    }\n",
       "\n",
       "    .dataframe tbody tr th {\n",
       "        vertical-align: top;\n",
       "    }\n",
       "\n",
       "    .dataframe thead th {\n",
       "        text-align: right;\n",
       "    }\n",
       "</style>\n",
       "<table border=\"1\" class=\"dataframe\">\n",
       "  <thead>\n",
       "    <tr style=\"text-align: right;\">\n",
       "      <th></th>\n",
       "      <th>user_id</th>\n",
       "      <th>ISBN</th>\n",
       "      <th>rating</th>\n",
       "    </tr>\n",
       "  </thead>\n",
       "  <tbody>\n",
       "    <tr>\n",
       "      <th>0</th>\n",
       "      <td>276725</td>\n",
       "      <td>034545104X</td>\n",
       "      <td>0</td>\n",
       "    </tr>\n",
       "  </tbody>\n",
       "</table>\n",
       "</div>"
      ],
      "text/plain": [
       "   user_id        ISBN  rating\n",
       "0   276725  034545104X       0"
      ]
     },
     "execution_count": 17,
     "metadata": {},
     "output_type": "execute_result"
    }
   ],
   "source": [
    "Ratings.head(1)"
   ]
  },
  {
   "cell_type": "code",
   "execution_count": 18,
   "id": "7676833f",
   "metadata": {
    "execution": {
     "iopub.execute_input": "2023-03-25T17:25:32.248659Z",
     "iopub.status.busy": "2023-03-25T17:25:32.248232Z",
     "iopub.status.idle": "2023-03-25T17:25:32.305296Z",
     "shell.execute_reply": "2023-03-25T17:25:32.303965Z"
    },
    "papermill": {
     "duration": 0.071009,
     "end_time": "2023-03-25T17:25:32.308024",
     "exception": false,
     "start_time": "2023-03-25T17:25:32.237015",
     "status": "completed"
    },
    "tags": []
   },
   "outputs": [
    {
     "data": {
      "text/plain": [
       "11676     13602\n",
       "198711     7550\n",
       "153662     6109\n",
       "98391      5891\n",
       "35859      5850\n",
       "          ...  \n",
       "116180        1\n",
       "116166        1\n",
       "116154        1\n",
       "116137        1\n",
       "276723        1\n",
       "Name: user_id, Length: 105283, dtype: int64"
      ]
     },
     "execution_count": 18,
     "metadata": {},
     "output_type": "execute_result"
    }
   ],
   "source": [
    "Ratings['user_id'].value_counts()"
   ]
  },
  {
   "cell_type": "code",
   "execution_count": 19,
   "id": "54809759",
   "metadata": {
    "execution": {
     "iopub.execute_input": "2023-03-25T17:25:32.328686Z",
     "iopub.status.busy": "2023-03-25T17:25:32.328284Z",
     "iopub.status.idle": "2023-03-25T17:25:32.356148Z",
     "shell.execute_reply": "2023-03-25T17:25:32.354707Z"
    },
    "papermill": {
     "duration": 0.04153,
     "end_time": "2023-03-25T17:25:32.358847",
     "exception": false,
     "start_time": "2023-03-25T17:25:32.317317",
     "status": "completed"
    },
    "tags": []
   },
   "outputs": [
    {
     "data": {
      "text/plain": [
       "(105283,)"
      ]
     },
     "execution_count": 19,
     "metadata": {},
     "output_type": "execute_result"
    }
   ],
   "source": [
    "Ratings['user_id'].unique().shape"
   ]
  },
  {
   "cell_type": "code",
   "execution_count": 20,
   "id": "5ef831c9",
   "metadata": {
    "execution": {
     "iopub.execute_input": "2023-03-25T17:25:32.381329Z",
     "iopub.status.busy": "2023-03-25T17:25:32.380874Z",
     "iopub.status.idle": "2023-03-25T17:25:32.430861Z",
     "shell.execute_reply": "2023-03-25T17:25:32.429626Z"
    },
    "papermill": {
     "duration": 0.065185,
     "end_time": "2023-03-25T17:25:32.433721",
     "exception": false,
     "start_time": "2023-03-25T17:25:32.368536",
     "status": "completed"
    },
    "tags": []
   },
   "outputs": [],
   "source": [
    "x = Ratings['user_id'].value_counts() > 200"
   ]
  },
  {
   "cell_type": "code",
   "execution_count": 21,
   "id": "db4bb6c8",
   "metadata": {
    "execution": {
     "iopub.execute_input": "2023-03-25T17:25:32.454666Z",
     "iopub.status.busy": "2023-03-25T17:25:32.453753Z",
     "iopub.status.idle": "2023-03-25T17:25:32.461722Z",
     "shell.execute_reply": "2023-03-25T17:25:32.460765Z"
    },
    "papermill": {
     "duration": 0.020775,
     "end_time": "2023-03-25T17:25:32.463842",
     "exception": false,
     "start_time": "2023-03-25T17:25:32.443067",
     "status": "completed"
    },
    "tags": []
   },
   "outputs": [
    {
     "data": {
      "text/plain": [
       "(899,)"
      ]
     },
     "execution_count": 21,
     "metadata": {},
     "output_type": "execute_result"
    }
   ],
   "source": [
    "x[x].shape"
   ]
  },
  {
   "cell_type": "code",
   "execution_count": 22,
   "id": "176683ce",
   "metadata": {
    "execution": {
     "iopub.execute_input": "2023-03-25T17:25:32.486082Z",
     "iopub.status.busy": "2023-03-25T17:25:32.485624Z",
     "iopub.status.idle": "2023-03-25T17:25:32.490624Z",
     "shell.execute_reply": "2023-03-25T17:25:32.489529Z"
    },
    "papermill": {
     "duration": 0.018891,
     "end_time": "2023-03-25T17:25:32.493257",
     "exception": false,
     "start_time": "2023-03-25T17:25:32.474366",
     "status": "completed"
    },
    "tags": []
   },
   "outputs": [],
   "source": [
    "y = x[x].index"
   ]
  },
  {
   "cell_type": "code",
   "execution_count": 23,
   "id": "55934112",
   "metadata": {
    "execution": {
     "iopub.execute_input": "2023-03-25T17:25:32.515944Z",
     "iopub.status.busy": "2023-03-25T17:25:32.515463Z",
     "iopub.status.idle": "2023-03-25T17:25:32.522849Z",
     "shell.execute_reply": "2023-03-25T17:25:32.521935Z"
    },
    "papermill": {
     "duration": 0.021049,
     "end_time": "2023-03-25T17:25:32.525114",
     "exception": false,
     "start_time": "2023-03-25T17:25:32.504065",
     "status": "completed"
    },
    "tags": []
   },
   "outputs": [
    {
     "data": {
      "text/plain": [
       "Int64Index([ 11676, 198711, 153662,  98391,  35859, 212898, 278418,  76352,\n",
       "            110973, 235105,\n",
       "            ...\n",
       "            260183,  73681,  44296, 155916,   9856, 274808,  28634,  59727,\n",
       "            268622, 188951],\n",
       "           dtype='int64', length=899)"
      ]
     },
     "execution_count": 23,
     "metadata": {},
     "output_type": "execute_result"
    }
   ],
   "source": [
    "y"
   ]
  },
  {
   "cell_type": "code",
   "execution_count": 24,
   "id": "abdfddda",
   "metadata": {
    "execution": {
     "iopub.execute_input": "2023-03-25T17:25:32.546629Z",
     "iopub.status.busy": "2023-03-25T17:25:32.545739Z",
     "iopub.status.idle": "2023-03-25T17:25:32.601077Z",
     "shell.execute_reply": "2023-03-25T17:25:32.599489Z"
    },
    "papermill": {
     "duration": 0.07036,
     "end_time": "2023-03-25T17:25:32.605090",
     "exception": false,
     "start_time": "2023-03-25T17:25:32.534730",
     "status": "completed"
    },
    "tags": []
   },
   "outputs": [],
   "source": [
    "ratings=Ratings[Ratings['user_id'].isin(y)]"
   ]
  },
  {
   "cell_type": "code",
   "execution_count": 25,
   "id": "6cd13690",
   "metadata": {
    "execution": {
     "iopub.execute_input": "2023-03-25T17:25:32.628400Z",
     "iopub.status.busy": "2023-03-25T17:25:32.627994Z",
     "iopub.status.idle": "2023-03-25T17:25:32.634995Z",
     "shell.execute_reply": "2023-03-25T17:25:32.633690Z"
    },
    "papermill": {
     "duration": 0.021887,
     "end_time": "2023-03-25T17:25:32.637744",
     "exception": false,
     "start_time": "2023-03-25T17:25:32.615857",
     "status": "completed"
    },
    "tags": []
   },
   "outputs": [
    {
     "data": {
      "text/plain": [
       "(526356, 3)"
      ]
     },
     "execution_count": 25,
     "metadata": {},
     "output_type": "execute_result"
    }
   ],
   "source": [
    "ratings.shape"
   ]
  },
  {
   "cell_type": "code",
   "execution_count": 26,
   "id": "10e1747c",
   "metadata": {
    "execution": {
     "iopub.execute_input": "2023-03-25T17:25:32.659738Z",
     "iopub.status.busy": "2023-03-25T17:25:32.659001Z",
     "iopub.status.idle": "2023-03-25T17:25:32.672671Z",
     "shell.execute_reply": "2023-03-25T17:25:32.671386Z"
    },
    "papermill": {
     "duration": 0.027918,
     "end_time": "2023-03-25T17:25:32.675371",
     "exception": false,
     "start_time": "2023-03-25T17:25:32.647453",
     "status": "completed"
    },
    "tags": []
   },
   "outputs": [
    {
     "data": {
      "text/html": [
       "<div>\n",
       "<style scoped>\n",
       "    .dataframe tbody tr th:only-of-type {\n",
       "        vertical-align: middle;\n",
       "    }\n",
       "\n",
       "    .dataframe tbody tr th {\n",
       "        vertical-align: top;\n",
       "    }\n",
       "\n",
       "    .dataframe thead th {\n",
       "        text-align: right;\n",
       "    }\n",
       "</style>\n",
       "<table border=\"1\" class=\"dataframe\">\n",
       "  <thead>\n",
       "    <tr style=\"text-align: right;\">\n",
       "      <th></th>\n",
       "      <th>ISBN</th>\n",
       "      <th>title</th>\n",
       "      <th>author</th>\n",
       "      <th>year</th>\n",
       "      <th>publisher</th>\n",
       "      <th>img_url</th>\n",
       "    </tr>\n",
       "  </thead>\n",
       "  <tbody>\n",
       "    <tr>\n",
       "      <th>0</th>\n",
       "      <td>0195153448</td>\n",
       "      <td>Classical Mythology</td>\n",
       "      <td>Mark P. O. Morford</td>\n",
       "      <td>2002</td>\n",
       "      <td>Oxford University Press</td>\n",
       "      <td>http://images.amazon.com/images/P/0195153448.0...</td>\n",
       "    </tr>\n",
       "  </tbody>\n",
       "</table>\n",
       "</div>"
      ],
      "text/plain": [
       "         ISBN                title              author  year  \\\n",
       "0  0195153448  Classical Mythology  Mark P. O. Morford  2002   \n",
       "\n",
       "                 publisher                                            img_url  \n",
       "0  Oxford University Press  http://images.amazon.com/images/P/0195153448.0...  "
      ]
     },
     "execution_count": 26,
     "metadata": {},
     "output_type": "execute_result"
    }
   ],
   "source": [
    "books.head(1)"
   ]
  },
  {
   "cell_type": "raw",
   "id": "3eb21edd",
   "metadata": {
    "papermill": {
     "duration": 0.009668,
     "end_time": "2023-03-25T17:25:32.694921",
     "exception": false,
     "start_time": "2023-03-25T17:25:32.685253",
     "status": "completed"
    },
    "tags": []
   },
   "source": []
  },
  {
   "cell_type": "code",
   "execution_count": 27,
   "id": "10d29166",
   "metadata": {
    "execution": {
     "iopub.execute_input": "2023-03-25T17:25:32.716768Z",
     "iopub.status.busy": "2023-03-25T17:25:32.716094Z",
     "iopub.status.idle": "2023-03-25T17:25:33.277648Z",
     "shell.execute_reply": "2023-03-25T17:25:33.276116Z"
    },
    "papermill": {
     "duration": 0.576051,
     "end_time": "2023-03-25T17:25:33.280750",
     "exception": false,
     "start_time": "2023-03-25T17:25:32.704699",
     "status": "completed"
    },
    "tags": []
   },
   "outputs": [],
   "source": [
    "ratings_with_books= ratings.merge(books, on=\"ISBN\")"
   ]
  },
  {
   "cell_type": "code",
   "execution_count": 28,
   "id": "d5a0bbc3",
   "metadata": {
    "execution": {
     "iopub.execute_input": "2023-03-25T17:25:33.303729Z",
     "iopub.status.busy": "2023-03-25T17:25:33.302966Z",
     "iopub.status.idle": "2023-03-25T17:25:33.318478Z",
     "shell.execute_reply": "2023-03-25T17:25:33.316954Z"
    },
    "papermill": {
     "duration": 0.029693,
     "end_time": "2023-03-25T17:25:33.321045",
     "exception": false,
     "start_time": "2023-03-25T17:25:33.291352",
     "status": "completed"
    },
    "tags": []
   },
   "outputs": [
    {
     "data": {
      "text/html": [
       "<div>\n",
       "<style scoped>\n",
       "    .dataframe tbody tr th:only-of-type {\n",
       "        vertical-align: middle;\n",
       "    }\n",
       "\n",
       "    .dataframe tbody tr th {\n",
       "        vertical-align: top;\n",
       "    }\n",
       "\n",
       "    .dataframe thead th {\n",
       "        text-align: right;\n",
       "    }\n",
       "</style>\n",
       "<table border=\"1\" class=\"dataframe\">\n",
       "  <thead>\n",
       "    <tr style=\"text-align: right;\">\n",
       "      <th></th>\n",
       "      <th>user_id</th>\n",
       "      <th>ISBN</th>\n",
       "      <th>rating</th>\n",
       "      <th>title</th>\n",
       "      <th>author</th>\n",
       "      <th>year</th>\n",
       "      <th>publisher</th>\n",
       "      <th>img_url</th>\n",
       "    </tr>\n",
       "  </thead>\n",
       "  <tbody>\n",
       "    <tr>\n",
       "      <th>0</th>\n",
       "      <td>277427</td>\n",
       "      <td>002542730X</td>\n",
       "      <td>10</td>\n",
       "      <td>Politically Correct Bedtime Stories: Modern Ta...</td>\n",
       "      <td>James Finn Garner</td>\n",
       "      <td>1994</td>\n",
       "      <td>John Wiley &amp;amp; Sons Inc</td>\n",
       "      <td>http://images.amazon.com/images/P/002542730X.0...</td>\n",
       "    </tr>\n",
       "    <tr>\n",
       "      <th>1</th>\n",
       "      <td>3363</td>\n",
       "      <td>002542730X</td>\n",
       "      <td>0</td>\n",
       "      <td>Politically Correct Bedtime Stories: Modern Ta...</td>\n",
       "      <td>James Finn Garner</td>\n",
       "      <td>1994</td>\n",
       "      <td>John Wiley &amp;amp; Sons Inc</td>\n",
       "      <td>http://images.amazon.com/images/P/002542730X.0...</td>\n",
       "    </tr>\n",
       "  </tbody>\n",
       "</table>\n",
       "</div>"
      ],
      "text/plain": [
       "   user_id        ISBN  rating  \\\n",
       "0   277427  002542730X      10   \n",
       "1     3363  002542730X       0   \n",
       "\n",
       "                                               title             author  year  \\\n",
       "0  Politically Correct Bedtime Stories: Modern Ta...  James Finn Garner  1994   \n",
       "1  Politically Correct Bedtime Stories: Modern Ta...  James Finn Garner  1994   \n",
       "\n",
       "                   publisher  \\\n",
       "0  John Wiley &amp; Sons Inc   \n",
       "1  John Wiley &amp; Sons Inc   \n",
       "\n",
       "                                             img_url  \n",
       "0  http://images.amazon.com/images/P/002542730X.0...  \n",
       "1  http://images.amazon.com/images/P/002542730X.0...  "
      ]
     },
     "execution_count": 28,
     "metadata": {},
     "output_type": "execute_result"
    }
   ],
   "source": [
    "ratings_with_books.head(2)"
   ]
  },
  {
   "cell_type": "code",
   "execution_count": 29,
   "id": "ed6a177e",
   "metadata": {
    "execution": {
     "iopub.execute_input": "2023-03-25T17:25:33.344378Z",
     "iopub.status.busy": "2023-03-25T17:25:33.343954Z",
     "iopub.status.idle": "2023-03-25T17:25:33.352464Z",
     "shell.execute_reply": "2023-03-25T17:25:33.350700Z"
    },
    "papermill": {
     "duration": 0.023471,
     "end_time": "2023-03-25T17:25:33.355062",
     "exception": false,
     "start_time": "2023-03-25T17:25:33.331591",
     "status": "completed"
    },
    "tags": []
   },
   "outputs": [
    {
     "data": {
      "text/plain": [
       "(487671, 8)"
      ]
     },
     "execution_count": 29,
     "metadata": {},
     "output_type": "execute_result"
    }
   ],
   "source": [
    "ratings_with_books.shape"
   ]
  },
  {
   "cell_type": "code",
   "execution_count": null,
   "id": "654b12d9",
   "metadata": {
    "papermill": {
     "duration": 0.009898,
     "end_time": "2023-03-25T17:25:33.376167",
     "exception": false,
     "start_time": "2023-03-25T17:25:33.366269",
     "status": "completed"
    },
    "tags": []
   },
   "outputs": [],
   "source": []
  }
 ],
 "metadata": {
  "kernelspec": {
   "display_name": "Python 3",
   "language": "python",
   "name": "python3"
  },
  "language_info": {
   "codemirror_mode": {
    "name": "ipython",
    "version": 3
   },
   "file_extension": ".py",
   "mimetype": "text/x-python",
   "name": "python",
   "nbconvert_exporter": "python",
   "pygments_lexer": "ipython3",
   "version": "3.7.12"
  },
  "papermill": {
   "default_parameters": {},
   "duration": 19.522502,
   "end_time": "2023-03-25T17:25:34.312666",
   "environment_variables": {},
   "exception": null,
   "input_path": "__notebook__.ipynb",
   "output_path": "__notebook__.ipynb",
   "parameters": {},
   "start_time": "2023-03-25T17:25:14.790164",
   "version": "2.4.0"
  }
 },
 "nbformat": 4,
 "nbformat_minor": 5
}
