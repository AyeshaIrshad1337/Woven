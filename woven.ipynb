{
 "cells": [
  {
   "cell_type": "code",
   "execution_count": 1,
   "id": "dd64330a",
   "metadata": {
    "_cell_guid": "b1076dfc-b9ad-4769-8c92-a6c4dae69d19",
    "_uuid": "8f2839f25d086af736a60e9eeb907d3b93b6e0e5",
    "execution": {
     "iopub.execute_input": "2023-03-28T03:40:05.800597Z",
     "iopub.status.busy": "2023-03-28T03:40:05.800190Z",
     "iopub.status.idle": "2023-03-28T03:40:05.823262Z",
     "shell.execute_reply": "2023-03-28T03:40:05.821784Z"
    },
    "papermill": {
     "duration": 0.040182,
     "end_time": "2023-03-28T03:40:05.825734",
     "exception": false,
     "start_time": "2023-03-28T03:40:05.785552",
     "status": "completed"
    },
    "tags": []
   },
   "outputs": [
    {
     "name": "stdout",
     "output_type": "stream",
     "text": [
      "/kaggle/input/book-recommendation-dataset/Ratings.csv\n",
      "/kaggle/input/book-recommendation-dataset/Users.csv\n",
      "/kaggle/input/book-recommendation-dataset/Books.csv\n"
     ]
    }
   ],
   "source": [
    "# This Python 3 environment comes with many helpful analytics libraries installed\n",
    "# It is defined by the kaggle/python Docker image: https://github.com/kaggle/docker-python\n",
    "# For example, here's several helpful packages to load\n",
    "\n",
    "import numpy as np # linear algebra\n",
    "import pandas as pd # data processing, CSV file I/O (e.g. pd.read_csv)\n",
    "\n",
    "# Input data files are available in the read-only \"../input/\" directory\n",
    "# For example, running this (by clicking run or pressing Shift+Enter) will list all files under the input directory\n",
    "\n",
    "import os\n",
    "for dirname, _, filenames in os.walk('/kaggle/input'):\n",
    "    for filename in filenames:\n",
    "        print(os.path.join(dirname, filename))\n",
    "\n",
    "# You can write up to 20GB to the current directory (/kaggle/working/) that gets preserved as output when you create a version using \"Save & Run All\" \n",
    "# You can also write temporary files to /kaggle/temp/, but they won't be saved outside of the current session"
   ]
  },
  {
   "cell_type": "code",
   "execution_count": 2,
   "id": "057c2d6e",
   "metadata": {
    "execution": {
     "iopub.execute_input": "2023-03-28T03:40:05.852313Z",
     "iopub.status.busy": "2023-03-28T03:40:05.851567Z",
     "iopub.status.idle": "2023-03-28T03:40:07.037348Z",
     "shell.execute_reply": "2023-03-28T03:40:07.036233Z"
    },
    "papermill": {
     "duration": 1.20264,
     "end_time": "2023-03-28T03:40:07.040642",
     "exception": false,
     "start_time": "2023-03-28T03:40:05.838002",
     "status": "completed"
    },
    "tags": []
   },
   "outputs": [],
   "source": [
    "import pandas as pd\n",
    "import numpy as np\n",
    "import matplotlib.pyplot as plt\n",
    "import seaborn as sns"
   ]
  },
  {
   "cell_type": "code",
   "execution_count": 3,
   "id": "9fc6bca8",
   "metadata": {
    "execution": {
     "iopub.execute_input": "2023-03-28T03:40:07.067204Z",
     "iopub.status.busy": "2023-03-28T03:40:07.066280Z",
     "iopub.status.idle": "2023-03-28T03:40:11.076688Z",
     "shell.execute_reply": "2023-03-28T03:40:11.075656Z"
    },
    "papermill": {
     "duration": 4.026077,
     "end_time": "2023-03-28T03:40:11.079393",
     "exception": false,
     "start_time": "2023-03-28T03:40:07.053316",
     "status": "completed"
    },
    "tags": []
   },
   "outputs": [],
   "source": [
    "books=pd.read_csv(\"/kaggle/input/book-recommendation-dataset/Books.csv\",low_memory=False)\n",
    "Ratings=pd.read_csv(\"/kaggle/input/book-recommendation-dataset/Ratings.csv\")\n",
    "Users = pd.read_csv(\"/kaggle/input/book-recommendation-dataset/Users.csv\")"
   ]
  },
  {
   "cell_type": "code",
   "execution_count": 4,
   "id": "c117e8ec",
   "metadata": {
    "execution": {
     "iopub.execute_input": "2023-03-28T03:40:11.106165Z",
     "iopub.status.busy": "2023-03-28T03:40:11.105442Z",
     "iopub.status.idle": "2023-03-28T03:40:11.136473Z",
     "shell.execute_reply": "2023-03-28T03:40:11.135443Z"
    },
    "papermill": {
     "duration": 0.046281,
     "end_time": "2023-03-28T03:40:11.138941",
     "exception": false,
     "start_time": "2023-03-28T03:40:11.092660",
     "status": "completed"
    },
    "tags": []
   },
   "outputs": [
    {
     "data": {
      "text/html": [
       "<div>\n",
       "<style scoped>\n",
       "    .dataframe tbody tr th:only-of-type {\n",
       "        vertical-align: middle;\n",
       "    }\n",
       "\n",
       "    .dataframe tbody tr th {\n",
       "        vertical-align: top;\n",
       "    }\n",
       "\n",
       "    .dataframe thead th {\n",
       "        text-align: right;\n",
       "    }\n",
       "</style>\n",
       "<table border=\"1\" class=\"dataframe\">\n",
       "  <thead>\n",
       "    <tr style=\"text-align: right;\">\n",
       "      <th></th>\n",
       "      <th>ISBN</th>\n",
       "      <th>Book-Title</th>\n",
       "      <th>Book-Author</th>\n",
       "      <th>Year-Of-Publication</th>\n",
       "      <th>Publisher</th>\n",
       "      <th>Image-URL-S</th>\n",
       "      <th>Image-URL-M</th>\n",
       "      <th>Image-URL-L</th>\n",
       "    </tr>\n",
       "  </thead>\n",
       "  <tbody>\n",
       "    <tr>\n",
       "      <th>0</th>\n",
       "      <td>0195153448</td>\n",
       "      <td>Classical Mythology</td>\n",
       "      <td>Mark P. O. Morford</td>\n",
       "      <td>2002</td>\n",
       "      <td>Oxford University Press</td>\n",
       "      <td>http://images.amazon.com/images/P/0195153448.0...</td>\n",
       "      <td>http://images.amazon.com/images/P/0195153448.0...</td>\n",
       "      <td>http://images.amazon.com/images/P/0195153448.0...</td>\n",
       "    </tr>\n",
       "    <tr>\n",
       "      <th>1</th>\n",
       "      <td>0002005018</td>\n",
       "      <td>Clara Callan</td>\n",
       "      <td>Richard Bruce Wright</td>\n",
       "      <td>2001</td>\n",
       "      <td>HarperFlamingo Canada</td>\n",
       "      <td>http://images.amazon.com/images/P/0002005018.0...</td>\n",
       "      <td>http://images.amazon.com/images/P/0002005018.0...</td>\n",
       "      <td>http://images.amazon.com/images/P/0002005018.0...</td>\n",
       "    </tr>\n",
       "    <tr>\n",
       "      <th>2</th>\n",
       "      <td>0060973129</td>\n",
       "      <td>Decision in Normandy</td>\n",
       "      <td>Carlo D'Este</td>\n",
       "      <td>1991</td>\n",
       "      <td>HarperPerennial</td>\n",
       "      <td>http://images.amazon.com/images/P/0060973129.0...</td>\n",
       "      <td>http://images.amazon.com/images/P/0060973129.0...</td>\n",
       "      <td>http://images.amazon.com/images/P/0060973129.0...</td>\n",
       "    </tr>\n",
       "    <tr>\n",
       "      <th>3</th>\n",
       "      <td>0374157065</td>\n",
       "      <td>Flu: The Story of the Great Influenza Pandemic...</td>\n",
       "      <td>Gina Bari Kolata</td>\n",
       "      <td>1999</td>\n",
       "      <td>Farrar Straus Giroux</td>\n",
       "      <td>http://images.amazon.com/images/P/0374157065.0...</td>\n",
       "      <td>http://images.amazon.com/images/P/0374157065.0...</td>\n",
       "      <td>http://images.amazon.com/images/P/0374157065.0...</td>\n",
       "    </tr>\n",
       "    <tr>\n",
       "      <th>4</th>\n",
       "      <td>0393045218</td>\n",
       "      <td>The Mummies of Urumchi</td>\n",
       "      <td>E. J. W. Barber</td>\n",
       "      <td>1999</td>\n",
       "      <td>W. W. Norton &amp;amp; Company</td>\n",
       "      <td>http://images.amazon.com/images/P/0393045218.0...</td>\n",
       "      <td>http://images.amazon.com/images/P/0393045218.0...</td>\n",
       "      <td>http://images.amazon.com/images/P/0393045218.0...</td>\n",
       "    </tr>\n",
       "  </tbody>\n",
       "</table>\n",
       "</div>"
      ],
      "text/plain": [
       "         ISBN                                         Book-Title  \\\n",
       "0  0195153448                                Classical Mythology   \n",
       "1  0002005018                                       Clara Callan   \n",
       "2  0060973129                               Decision in Normandy   \n",
       "3  0374157065  Flu: The Story of the Great Influenza Pandemic...   \n",
       "4  0393045218                             The Mummies of Urumchi   \n",
       "\n",
       "            Book-Author Year-Of-Publication                   Publisher  \\\n",
       "0    Mark P. O. Morford                2002     Oxford University Press   \n",
       "1  Richard Bruce Wright                2001       HarperFlamingo Canada   \n",
       "2          Carlo D'Este                1991             HarperPerennial   \n",
       "3      Gina Bari Kolata                1999        Farrar Straus Giroux   \n",
       "4       E. J. W. Barber                1999  W. W. Norton &amp; Company   \n",
       "\n",
       "                                         Image-URL-S  \\\n",
       "0  http://images.amazon.com/images/P/0195153448.0...   \n",
       "1  http://images.amazon.com/images/P/0002005018.0...   \n",
       "2  http://images.amazon.com/images/P/0060973129.0...   \n",
       "3  http://images.amazon.com/images/P/0374157065.0...   \n",
       "4  http://images.amazon.com/images/P/0393045218.0...   \n",
       "\n",
       "                                         Image-URL-M  \\\n",
       "0  http://images.amazon.com/images/P/0195153448.0...   \n",
       "1  http://images.amazon.com/images/P/0002005018.0...   \n",
       "2  http://images.amazon.com/images/P/0060973129.0...   \n",
       "3  http://images.amazon.com/images/P/0374157065.0...   \n",
       "4  http://images.amazon.com/images/P/0393045218.0...   \n",
       "\n",
       "                                         Image-URL-L  \n",
       "0  http://images.amazon.com/images/P/0195153448.0...  \n",
       "1  http://images.amazon.com/images/P/0002005018.0...  \n",
       "2  http://images.amazon.com/images/P/0060973129.0...  \n",
       "3  http://images.amazon.com/images/P/0374157065.0...  \n",
       "4  http://images.amazon.com/images/P/0393045218.0...  "
      ]
     },
     "execution_count": 4,
     "metadata": {},
     "output_type": "execute_result"
    }
   ],
   "source": [
    "books.head()"
   ]
  },
  {
   "cell_type": "code",
   "execution_count": 5,
   "id": "2afe7176",
   "metadata": {
    "execution": {
     "iopub.execute_input": "2023-03-28T03:40:11.164609Z",
     "iopub.status.busy": "2023-03-28T03:40:11.163960Z",
     "iopub.status.idle": "2023-03-28T03:40:11.170320Z",
     "shell.execute_reply": "2023-03-28T03:40:11.169311Z"
    },
    "papermill": {
     "duration": 0.022026,
     "end_time": "2023-03-28T03:40:11.172859",
     "exception": false,
     "start_time": "2023-03-28T03:40:11.150833",
     "status": "completed"
    },
    "tags": []
   },
   "outputs": [
    {
     "data": {
      "text/plain": [
       "Index(['ISBN', 'Book-Title', 'Book-Author', 'Year-Of-Publication', 'Publisher',\n",
       "       'Image-URL-S', 'Image-URL-M', 'Image-URL-L'],\n",
       "      dtype='object')"
      ]
     },
     "execution_count": 5,
     "metadata": {},
     "output_type": "execute_result"
    }
   ],
   "source": [
    "books.columns"
   ]
  },
  {
   "cell_type": "code",
   "execution_count": 6,
   "id": "12d5bd50",
   "metadata": {
    "execution": {
     "iopub.execute_input": "2023-03-28T03:40:11.199232Z",
     "iopub.status.busy": "2023-03-28T03:40:11.198807Z",
     "iopub.status.idle": "2023-03-28T03:40:11.223801Z",
     "shell.execute_reply": "2023-03-28T03:40:11.222536Z"
    },
    "papermill": {
     "duration": 0.041966,
     "end_time": "2023-03-28T03:40:11.226595",
     "exception": false,
     "start_time": "2023-03-28T03:40:11.184629",
     "status": "completed"
    },
    "tags": []
   },
   "outputs": [],
   "source": [
    "books=books[['ISBN', 'Book-Title', 'Book-Author', 'Year-Of-Publication', 'Publisher',\n",
    "       'Image-URL-L']]"
   ]
  },
  {
   "cell_type": "code",
   "execution_count": 7,
   "id": "0fdc678d",
   "metadata": {
    "execution": {
     "iopub.execute_input": "2023-03-28T03:40:11.252369Z",
     "iopub.status.busy": "2023-03-28T03:40:11.251461Z",
     "iopub.status.idle": "2023-03-28T03:40:11.263941Z",
     "shell.execute_reply": "2023-03-28T03:40:11.263083Z"
    },
    "papermill": {
     "duration": 0.027691,
     "end_time": "2023-03-28T03:40:11.266045",
     "exception": false,
     "start_time": "2023-03-28T03:40:11.238354",
     "status": "completed"
    },
    "tags": []
   },
   "outputs": [
    {
     "data": {
      "text/html": [
       "<div>\n",
       "<style scoped>\n",
       "    .dataframe tbody tr th:only-of-type {\n",
       "        vertical-align: middle;\n",
       "    }\n",
       "\n",
       "    .dataframe tbody tr th {\n",
       "        vertical-align: top;\n",
       "    }\n",
       "\n",
       "    .dataframe thead th {\n",
       "        text-align: right;\n",
       "    }\n",
       "</style>\n",
       "<table border=\"1\" class=\"dataframe\">\n",
       "  <thead>\n",
       "    <tr style=\"text-align: right;\">\n",
       "      <th></th>\n",
       "      <th>ISBN</th>\n",
       "      <th>Book-Title</th>\n",
       "      <th>Book-Author</th>\n",
       "      <th>Year-Of-Publication</th>\n",
       "      <th>Publisher</th>\n",
       "      <th>Image-URL-L</th>\n",
       "    </tr>\n",
       "  </thead>\n",
       "  <tbody>\n",
       "    <tr>\n",
       "      <th>0</th>\n",
       "      <td>0195153448</td>\n",
       "      <td>Classical Mythology</td>\n",
       "      <td>Mark P. O. Morford</td>\n",
       "      <td>2002</td>\n",
       "      <td>Oxford University Press</td>\n",
       "      <td>http://images.amazon.com/images/P/0195153448.0...</td>\n",
       "    </tr>\n",
       "  </tbody>\n",
       "</table>\n",
       "</div>"
      ],
      "text/plain": [
       "         ISBN           Book-Title         Book-Author Year-Of-Publication  \\\n",
       "0  0195153448  Classical Mythology  Mark P. O. Morford                2002   \n",
       "\n",
       "                 Publisher                                        Image-URL-L  \n",
       "0  Oxford University Press  http://images.amazon.com/images/P/0195153448.0...  "
      ]
     },
     "execution_count": 7,
     "metadata": {},
     "output_type": "execute_result"
    }
   ],
   "source": [
    "books.head(1)"
   ]
  },
  {
   "cell_type": "code",
   "execution_count": 8,
   "id": "35752e44",
   "metadata": {
    "execution": {
     "iopub.execute_input": "2023-03-28T03:40:11.292422Z",
     "iopub.status.busy": "2023-03-28T03:40:11.291751Z",
     "iopub.status.idle": "2023-03-28T03:40:11.313441Z",
     "shell.execute_reply": "2023-03-28T03:40:11.312507Z"
    },
    "papermill": {
     "duration": 0.038002,
     "end_time": "2023-03-28T03:40:11.316144",
     "exception": false,
     "start_time": "2023-03-28T03:40:11.278142",
     "status": "completed"
    },
    "tags": []
   },
   "outputs": [],
   "source": [
    "books=books.rename(columns={\n",
    "    \"Book-Title\" : \"title\",\n",
    "    \"Book-Author\":\"author\",\n",
    "    \"Year-Of-Publication\":\"year\",\n",
    "    \"Publisher\":\"publisher\",\n",
    "    \"Image-URL-L\":\"img_url\",\n",
    "})"
   ]
  },
  {
   "cell_type": "code",
   "execution_count": 9,
   "id": "716f19f4",
   "metadata": {
    "execution": {
     "iopub.execute_input": "2023-03-28T03:40:11.342258Z",
     "iopub.status.busy": "2023-03-28T03:40:11.341648Z",
     "iopub.status.idle": "2023-03-28T03:40:11.353788Z",
     "shell.execute_reply": "2023-03-28T03:40:11.352305Z"
    },
    "papermill": {
     "duration": 0.028035,
     "end_time": "2023-03-28T03:40:11.356180",
     "exception": false,
     "start_time": "2023-03-28T03:40:11.328145",
     "status": "completed"
    },
    "tags": []
   },
   "outputs": [
    {
     "data": {
      "text/html": [
       "<div>\n",
       "<style scoped>\n",
       "    .dataframe tbody tr th:only-of-type {\n",
       "        vertical-align: middle;\n",
       "    }\n",
       "\n",
       "    .dataframe tbody tr th {\n",
       "        vertical-align: top;\n",
       "    }\n",
       "\n",
       "    .dataframe thead th {\n",
       "        text-align: right;\n",
       "    }\n",
       "</style>\n",
       "<table border=\"1\" class=\"dataframe\">\n",
       "  <thead>\n",
       "    <tr style=\"text-align: right;\">\n",
       "      <th></th>\n",
       "      <th>ISBN</th>\n",
       "      <th>title</th>\n",
       "      <th>author</th>\n",
       "      <th>year</th>\n",
       "      <th>publisher</th>\n",
       "      <th>img_url</th>\n",
       "    </tr>\n",
       "  </thead>\n",
       "  <tbody>\n",
       "    <tr>\n",
       "      <th>0</th>\n",
       "      <td>0195153448</td>\n",
       "      <td>Classical Mythology</td>\n",
       "      <td>Mark P. O. Morford</td>\n",
       "      <td>2002</td>\n",
       "      <td>Oxford University Press</td>\n",
       "      <td>http://images.amazon.com/images/P/0195153448.0...</td>\n",
       "    </tr>\n",
       "  </tbody>\n",
       "</table>\n",
       "</div>"
      ],
      "text/plain": [
       "         ISBN                title              author  year  \\\n",
       "0  0195153448  Classical Mythology  Mark P. O. Morford  2002   \n",
       "\n",
       "                 publisher                                            img_url  \n",
       "0  Oxford University Press  http://images.amazon.com/images/P/0195153448.0...  "
      ]
     },
     "execution_count": 9,
     "metadata": {},
     "output_type": "execute_result"
    }
   ],
   "source": [
    "books.head(1)"
   ]
  },
  {
   "cell_type": "code",
   "execution_count": 10,
   "id": "8d1537b5",
   "metadata": {
    "execution": {
     "iopub.execute_input": "2023-03-28T03:40:11.382849Z",
     "iopub.status.busy": "2023-03-28T03:40:11.381886Z",
     "iopub.status.idle": "2023-03-28T03:40:11.392978Z",
     "shell.execute_reply": "2023-03-28T03:40:11.392073Z"
    },
    "papermill": {
     "duration": 0.026815,
     "end_time": "2023-03-28T03:40:11.395176",
     "exception": false,
     "start_time": "2023-03-28T03:40:11.368361",
     "status": "completed"
    },
    "tags": []
   },
   "outputs": [
    {
     "data": {
      "text/html": [
       "<div>\n",
       "<style scoped>\n",
       "    .dataframe tbody tr th:only-of-type {\n",
       "        vertical-align: middle;\n",
       "    }\n",
       "\n",
       "    .dataframe tbody tr th {\n",
       "        vertical-align: top;\n",
       "    }\n",
       "\n",
       "    .dataframe thead th {\n",
       "        text-align: right;\n",
       "    }\n",
       "</style>\n",
       "<table border=\"1\" class=\"dataframe\">\n",
       "  <thead>\n",
       "    <tr style=\"text-align: right;\">\n",
       "      <th></th>\n",
       "      <th>User-ID</th>\n",
       "      <th>Location</th>\n",
       "      <th>Age</th>\n",
       "    </tr>\n",
       "  </thead>\n",
       "  <tbody>\n",
       "    <tr>\n",
       "      <th>0</th>\n",
       "      <td>1</td>\n",
       "      <td>nyc, new york, usa</td>\n",
       "      <td>NaN</td>\n",
       "    </tr>\n",
       "  </tbody>\n",
       "</table>\n",
       "</div>"
      ],
      "text/plain": [
       "   User-ID            Location  Age\n",
       "0        1  nyc, new york, usa  NaN"
      ]
     },
     "execution_count": 10,
     "metadata": {},
     "output_type": "execute_result"
    }
   ],
   "source": [
    "Users.head(1)"
   ]
  },
  {
   "cell_type": "code",
   "execution_count": 11,
   "id": "c2bb872d",
   "metadata": {
    "execution": {
     "iopub.execute_input": "2023-03-28T03:40:11.422470Z",
     "iopub.status.busy": "2023-03-28T03:40:11.421758Z",
     "iopub.status.idle": "2023-03-28T03:40:11.427899Z",
     "shell.execute_reply": "2023-03-28T03:40:11.426984Z"
    },
    "papermill": {
     "duration": 0.022003,
     "end_time": "2023-03-28T03:40:11.430096",
     "exception": false,
     "start_time": "2023-03-28T03:40:11.408093",
     "status": "completed"
    },
    "tags": []
   },
   "outputs": [
    {
     "data": {
      "text/plain": [
       "(278858, 3)"
      ]
     },
     "execution_count": 11,
     "metadata": {},
     "output_type": "execute_result"
    }
   ],
   "source": [
    "Users.shape"
   ]
  },
  {
   "cell_type": "code",
   "execution_count": 12,
   "id": "13ba9efa",
   "metadata": {
    "execution": {
     "iopub.execute_input": "2023-03-28T03:40:11.457692Z",
     "iopub.status.busy": "2023-03-28T03:40:11.456963Z",
     "iopub.status.idle": "2023-03-28T03:40:11.466265Z",
     "shell.execute_reply": "2023-03-28T03:40:11.465433Z"
    },
    "papermill": {
     "duration": 0.025593,
     "end_time": "2023-03-28T03:40:11.468454",
     "exception": false,
     "start_time": "2023-03-28T03:40:11.442861",
     "status": "completed"
    },
    "tags": []
   },
   "outputs": [
    {
     "data": {
      "text/html": [
       "<div>\n",
       "<style scoped>\n",
       "    .dataframe tbody tr th:only-of-type {\n",
       "        vertical-align: middle;\n",
       "    }\n",
       "\n",
       "    .dataframe tbody tr th {\n",
       "        vertical-align: top;\n",
       "    }\n",
       "\n",
       "    .dataframe thead th {\n",
       "        text-align: right;\n",
       "    }\n",
       "</style>\n",
       "<table border=\"1\" class=\"dataframe\">\n",
       "  <thead>\n",
       "    <tr style=\"text-align: right;\">\n",
       "      <th></th>\n",
       "      <th>User-ID</th>\n",
       "      <th>ISBN</th>\n",
       "      <th>Book-Rating</th>\n",
       "    </tr>\n",
       "  </thead>\n",
       "  <tbody>\n",
       "    <tr>\n",
       "      <th>0</th>\n",
       "      <td>276725</td>\n",
       "      <td>034545104X</td>\n",
       "      <td>0</td>\n",
       "    </tr>\n",
       "  </tbody>\n",
       "</table>\n",
       "</div>"
      ],
      "text/plain": [
       "   User-ID        ISBN  Book-Rating\n",
       "0   276725  034545104X            0"
      ]
     },
     "execution_count": 12,
     "metadata": {},
     "output_type": "execute_result"
    }
   ],
   "source": [
    "Ratings.head(1)"
   ]
  },
  {
   "cell_type": "code",
   "execution_count": 13,
   "id": "b2dc445e",
   "metadata": {
    "execution": {
     "iopub.execute_input": "2023-03-28T03:40:11.496858Z",
     "iopub.status.busy": "2023-03-28T03:40:11.496116Z",
     "iopub.status.idle": "2023-03-28T03:40:11.502638Z",
     "shell.execute_reply": "2023-03-28T03:40:11.501293Z"
    },
    "papermill": {
     "duration": 0.023608,
     "end_time": "2023-03-28T03:40:11.505247",
     "exception": false,
     "start_time": "2023-03-28T03:40:11.481639",
     "status": "completed"
    },
    "tags": []
   },
   "outputs": [
    {
     "data": {
      "text/plain": [
       "(1149780, 3)"
      ]
     },
     "execution_count": 13,
     "metadata": {},
     "output_type": "execute_result"
    }
   ],
   "source": [
    "Ratings.shape"
   ]
  },
  {
   "cell_type": "code",
   "execution_count": 14,
   "id": "41bf9811",
   "metadata": {
    "execution": {
     "iopub.execute_input": "2023-03-28T03:40:11.532734Z",
     "iopub.status.busy": "2023-03-28T03:40:11.532273Z",
     "iopub.status.idle": "2023-03-28T03:40:11.539085Z",
     "shell.execute_reply": "2023-03-28T03:40:11.537457Z"
    },
    "papermill": {
     "duration": 0.023741,
     "end_time": "2023-03-28T03:40:11.541796",
     "exception": false,
     "start_time": "2023-03-28T03:40:11.518055",
     "status": "completed"
    },
    "tags": []
   },
   "outputs": [
    {
     "name": "stdout",
     "output_type": "stream",
     "text": [
      "(271360, 6)\n",
      "(278858, 3)\n",
      "(1149780, 3)\n"
     ]
    }
   ],
   "source": [
    "print(books.shape)\n",
    "print(Users.shape)\n",
    "print(Ratings.shape)"
   ]
  },
  {
   "cell_type": "code",
   "execution_count": 15,
   "id": "403df7f7",
   "metadata": {
    "execution": {
     "iopub.execute_input": "2023-03-28T03:40:11.570595Z",
     "iopub.status.busy": "2023-03-28T03:40:11.569575Z",
     "iopub.status.idle": "2023-03-28T03:40:11.577246Z",
     "shell.execute_reply": "2023-03-28T03:40:11.576133Z"
    },
    "papermill": {
     "duration": 0.024579,
     "end_time": "2023-03-28T03:40:11.579537",
     "exception": false,
     "start_time": "2023-03-28T03:40:11.554958",
     "status": "completed"
    },
    "tags": []
   },
   "outputs": [
    {
     "data": {
      "text/plain": [
       "Index(['User-ID', 'ISBN', 'Book-Rating'], dtype='object')"
      ]
     },
     "execution_count": 15,
     "metadata": {},
     "output_type": "execute_result"
    }
   ],
   "source": [
    "Ratings.columns"
   ]
  },
  {
   "cell_type": "code",
   "execution_count": 16,
   "id": "534bf58b",
   "metadata": {
    "execution": {
     "iopub.execute_input": "2023-03-28T03:40:11.607728Z",
     "iopub.status.busy": "2023-03-28T03:40:11.606997Z",
     "iopub.status.idle": "2023-03-28T03:40:11.612010Z",
     "shell.execute_reply": "2023-03-28T03:40:11.611200Z"
    },
    "papermill": {
     "duration": 0.021671,
     "end_time": "2023-03-28T03:40:11.614195",
     "exception": false,
     "start_time": "2023-03-28T03:40:11.592524",
     "status": "completed"
    },
    "tags": []
   },
   "outputs": [],
   "source": [
    "Ratings.rename(columns={\n",
    "    \"User-ID\" :\"user_id\",\n",
    "    \"Book-Rating\":\"rating\"\n",
    "},inplace=True)"
   ]
  },
  {
   "cell_type": "code",
   "execution_count": 17,
   "id": "ab4ad8b7",
   "metadata": {
    "execution": {
     "iopub.execute_input": "2023-03-28T03:40:11.642652Z",
     "iopub.status.busy": "2023-03-28T03:40:11.641923Z",
     "iopub.status.idle": "2023-03-28T03:40:11.651318Z",
     "shell.execute_reply": "2023-03-28T03:40:11.650273Z"
    },
    "papermill": {
     "duration": 0.026016,
     "end_time": "2023-03-28T03:40:11.653472",
     "exception": false,
     "start_time": "2023-03-28T03:40:11.627456",
     "status": "completed"
    },
    "tags": []
   },
   "outputs": [
    {
     "data": {
      "text/html": [
       "<div>\n",
       "<style scoped>\n",
       "    .dataframe tbody tr th:only-of-type {\n",
       "        vertical-align: middle;\n",
       "    }\n",
       "\n",
       "    .dataframe tbody tr th {\n",
       "        vertical-align: top;\n",
       "    }\n",
       "\n",
       "    .dataframe thead th {\n",
       "        text-align: right;\n",
       "    }\n",
       "</style>\n",
       "<table border=\"1\" class=\"dataframe\">\n",
       "  <thead>\n",
       "    <tr style=\"text-align: right;\">\n",
       "      <th></th>\n",
       "      <th>user_id</th>\n",
       "      <th>ISBN</th>\n",
       "      <th>rating</th>\n",
       "    </tr>\n",
       "  </thead>\n",
       "  <tbody>\n",
       "    <tr>\n",
       "      <th>0</th>\n",
       "      <td>276725</td>\n",
       "      <td>034545104X</td>\n",
       "      <td>0</td>\n",
       "    </tr>\n",
       "  </tbody>\n",
       "</table>\n",
       "</div>"
      ],
      "text/plain": [
       "   user_id        ISBN  rating\n",
       "0   276725  034545104X       0"
      ]
     },
     "execution_count": 17,
     "metadata": {},
     "output_type": "execute_result"
    }
   ],
   "source": [
    "Ratings.head(1)"
   ]
  },
  {
   "cell_type": "code",
   "execution_count": 18,
   "id": "a093a680",
   "metadata": {
    "execution": {
     "iopub.execute_input": "2023-03-28T03:40:11.682647Z",
     "iopub.status.busy": "2023-03-28T03:40:11.681481Z",
     "iopub.status.idle": "2023-03-28T03:40:11.737119Z",
     "shell.execute_reply": "2023-03-28T03:40:11.735936Z"
    },
    "papermill": {
     "duration": 0.072761,
     "end_time": "2023-03-28T03:40:11.739736",
     "exception": false,
     "start_time": "2023-03-28T03:40:11.666975",
     "status": "completed"
    },
    "tags": []
   },
   "outputs": [
    {
     "data": {
      "text/plain": [
       "11676     13602\n",
       "198711     7550\n",
       "153662     6109\n",
       "98391      5891\n",
       "35859      5850\n",
       "          ...  \n",
       "116180        1\n",
       "116166        1\n",
       "116154        1\n",
       "116137        1\n",
       "276723        1\n",
       "Name: user_id, Length: 105283, dtype: int64"
      ]
     },
     "execution_count": 18,
     "metadata": {},
     "output_type": "execute_result"
    }
   ],
   "source": [
    "Ratings['user_id'].value_counts()"
   ]
  },
  {
   "cell_type": "code",
   "execution_count": 19,
   "id": "c7b5f8d5",
   "metadata": {
    "execution": {
     "iopub.execute_input": "2023-03-28T03:40:11.768821Z",
     "iopub.status.busy": "2023-03-28T03:40:11.767625Z",
     "iopub.status.idle": "2023-03-28T03:40:11.796250Z",
     "shell.execute_reply": "2023-03-28T03:40:11.795050Z"
    },
    "papermill": {
     "duration": 0.045773,
     "end_time": "2023-03-28T03:40:11.798832",
     "exception": false,
     "start_time": "2023-03-28T03:40:11.753059",
     "status": "completed"
    },
    "tags": []
   },
   "outputs": [
    {
     "data": {
      "text/plain": [
       "(105283,)"
      ]
     },
     "execution_count": 19,
     "metadata": {},
     "output_type": "execute_result"
    }
   ],
   "source": [
    "Ratings['user_id'].unique().shape"
   ]
  },
  {
   "cell_type": "code",
   "execution_count": 20,
   "id": "33e15c47",
   "metadata": {
    "execution": {
     "iopub.execute_input": "2023-03-28T03:40:11.827577Z",
     "iopub.status.busy": "2023-03-28T03:40:11.827168Z",
     "iopub.status.idle": "2023-03-28T03:40:11.871444Z",
     "shell.execute_reply": "2023-03-28T03:40:11.870359Z"
    },
    "papermill": {
     "duration": 0.061532,
     "end_time": "2023-03-28T03:40:11.873921",
     "exception": false,
     "start_time": "2023-03-28T03:40:11.812389",
     "status": "completed"
    },
    "tags": []
   },
   "outputs": [],
   "source": [
    "x = Ratings['user_id'].value_counts() > 200"
   ]
  },
  {
   "cell_type": "code",
   "execution_count": 21,
   "id": "9aaae32c",
   "metadata": {
    "execution": {
     "iopub.execute_input": "2023-03-28T03:40:11.902362Z",
     "iopub.status.busy": "2023-03-28T03:40:11.901644Z",
     "iopub.status.idle": "2023-03-28T03:40:11.909518Z",
     "shell.execute_reply": "2023-03-28T03:40:11.908358Z"
    },
    "papermill": {
     "duration": 0.024672,
     "end_time": "2023-03-28T03:40:11.911845",
     "exception": false,
     "start_time": "2023-03-28T03:40:11.887173",
     "status": "completed"
    },
    "tags": []
   },
   "outputs": [
    {
     "data": {
      "text/plain": [
       "(899,)"
      ]
     },
     "execution_count": 21,
     "metadata": {},
     "output_type": "execute_result"
    }
   ],
   "source": [
    "x[x].shape"
   ]
  },
  {
   "cell_type": "code",
   "execution_count": 22,
   "id": "7d93cc70",
   "metadata": {
    "execution": {
     "iopub.execute_input": "2023-03-28T03:40:11.940337Z",
     "iopub.status.busy": "2023-03-28T03:40:11.939913Z",
     "iopub.status.idle": "2023-03-28T03:40:11.945171Z",
     "shell.execute_reply": "2023-03-28T03:40:11.944090Z"
    },
    "papermill": {
     "duration": 0.022307,
     "end_time": "2023-03-28T03:40:11.947473",
     "exception": false,
     "start_time": "2023-03-28T03:40:11.925166",
     "status": "completed"
    },
    "tags": []
   },
   "outputs": [],
   "source": [
    "y = x[x].index"
   ]
  },
  {
   "cell_type": "code",
   "execution_count": 23,
   "id": "861a81fd",
   "metadata": {
    "execution": {
     "iopub.execute_input": "2023-03-28T03:40:11.976068Z",
     "iopub.status.busy": "2023-03-28T03:40:11.975633Z",
     "iopub.status.idle": "2023-03-28T03:40:11.982940Z",
     "shell.execute_reply": "2023-03-28T03:40:11.981825Z"
    },
    "papermill": {
     "duration": 0.024475,
     "end_time": "2023-03-28T03:40:11.985343",
     "exception": false,
     "start_time": "2023-03-28T03:40:11.960868",
     "status": "completed"
    },
    "tags": []
   },
   "outputs": [
    {
     "data": {
      "text/plain": [
       "Int64Index([ 11676, 198711, 153662,  98391,  35859, 212898, 278418,  76352,\n",
       "            110973, 235105,\n",
       "            ...\n",
       "            260183,  73681,  44296, 155916,   9856, 274808,  28634,  59727,\n",
       "            268622, 188951],\n",
       "           dtype='int64', length=899)"
      ]
     },
     "execution_count": 23,
     "metadata": {},
     "output_type": "execute_result"
    }
   ],
   "source": [
    "y"
   ]
  },
  {
   "cell_type": "code",
   "execution_count": 24,
   "id": "2e705701",
   "metadata": {
    "execution": {
     "iopub.execute_input": "2023-03-28T03:40:12.014180Z",
     "iopub.status.busy": "2023-03-28T03:40:12.013761Z",
     "iopub.status.idle": "2023-03-28T03:40:12.066345Z",
     "shell.execute_reply": "2023-03-28T03:40:12.065078Z"
    },
    "papermill": {
     "duration": 0.070316,
     "end_time": "2023-03-28T03:40:12.069023",
     "exception": false,
     "start_time": "2023-03-28T03:40:11.998707",
     "status": "completed"
    },
    "tags": []
   },
   "outputs": [],
   "source": [
    "ratings=Ratings[Ratings['user_id'].isin(y)]"
   ]
  },
  {
   "cell_type": "code",
   "execution_count": 25,
   "id": "98988388",
   "metadata": {
    "execution": {
     "iopub.execute_input": "2023-03-28T03:40:12.097905Z",
     "iopub.status.busy": "2023-03-28T03:40:12.097468Z",
     "iopub.status.idle": "2023-03-28T03:40:12.104201Z",
     "shell.execute_reply": "2023-03-28T03:40:12.102995Z"
    },
    "papermill": {
     "duration": 0.023924,
     "end_time": "2023-03-28T03:40:12.106355",
     "exception": false,
     "start_time": "2023-03-28T03:40:12.082431",
     "status": "completed"
    },
    "tags": []
   },
   "outputs": [
    {
     "data": {
      "text/plain": [
       "(526356, 3)"
      ]
     },
     "execution_count": 25,
     "metadata": {},
     "output_type": "execute_result"
    }
   ],
   "source": [
    "ratings.shape"
   ]
  },
  {
   "cell_type": "code",
   "execution_count": 26,
   "id": "30465efa",
   "metadata": {
    "execution": {
     "iopub.execute_input": "2023-03-28T03:40:12.135577Z",
     "iopub.status.busy": "2023-03-28T03:40:12.135138Z",
     "iopub.status.idle": "2023-03-28T03:40:12.148567Z",
     "shell.execute_reply": "2023-03-28T03:40:12.147215Z"
    },
    "papermill": {
     "duration": 0.030933,
     "end_time": "2023-03-28T03:40:12.150889",
     "exception": false,
     "start_time": "2023-03-28T03:40:12.119956",
     "status": "completed"
    },
    "tags": []
   },
   "outputs": [
    {
     "data": {
      "text/html": [
       "<div>\n",
       "<style scoped>\n",
       "    .dataframe tbody tr th:only-of-type {\n",
       "        vertical-align: middle;\n",
       "    }\n",
       "\n",
       "    .dataframe tbody tr th {\n",
       "        vertical-align: top;\n",
       "    }\n",
       "\n",
       "    .dataframe thead th {\n",
       "        text-align: right;\n",
       "    }\n",
       "</style>\n",
       "<table border=\"1\" class=\"dataframe\">\n",
       "  <thead>\n",
       "    <tr style=\"text-align: right;\">\n",
       "      <th></th>\n",
       "      <th>ISBN</th>\n",
       "      <th>title</th>\n",
       "      <th>author</th>\n",
       "      <th>year</th>\n",
       "      <th>publisher</th>\n",
       "      <th>img_url</th>\n",
       "    </tr>\n",
       "  </thead>\n",
       "  <tbody>\n",
       "    <tr>\n",
       "      <th>0</th>\n",
       "      <td>0195153448</td>\n",
       "      <td>Classical Mythology</td>\n",
       "      <td>Mark P. O. Morford</td>\n",
       "      <td>2002</td>\n",
       "      <td>Oxford University Press</td>\n",
       "      <td>http://images.amazon.com/images/P/0195153448.0...</td>\n",
       "    </tr>\n",
       "  </tbody>\n",
       "</table>\n",
       "</div>"
      ],
      "text/plain": [
       "         ISBN                title              author  year  \\\n",
       "0  0195153448  Classical Mythology  Mark P. O. Morford  2002   \n",
       "\n",
       "                 publisher                                            img_url  \n",
       "0  Oxford University Press  http://images.amazon.com/images/P/0195153448.0...  "
      ]
     },
     "execution_count": 26,
     "metadata": {},
     "output_type": "execute_result"
    }
   ],
   "source": [
    "books.head(1)"
   ]
  },
  {
   "cell_type": "raw",
   "id": "7d8720ed",
   "metadata": {
    "papermill": {
     "duration": 0.013313,
     "end_time": "2023-03-28T03:40:12.178085",
     "exception": false,
     "start_time": "2023-03-28T03:40:12.164772",
     "status": "completed"
    },
    "tags": []
   },
   "source": []
  },
  {
   "cell_type": "code",
   "execution_count": 27,
   "id": "9f8ec8b9",
   "metadata": {
    "execution": {
     "iopub.execute_input": "2023-03-28T03:40:12.206930Z",
     "iopub.status.busy": "2023-03-28T03:40:12.206485Z",
     "iopub.status.idle": "2023-03-28T03:40:12.721588Z",
     "shell.execute_reply": "2023-03-28T03:40:12.720330Z"
    },
    "papermill": {
     "duration": 0.532799,
     "end_time": "2023-03-28T03:40:12.724517",
     "exception": false,
     "start_time": "2023-03-28T03:40:12.191718",
     "status": "completed"
    },
    "tags": []
   },
   "outputs": [],
   "source": [
    "ratings_with_books= ratings.merge(books, on=\"ISBN\")"
   ]
  },
  {
   "cell_type": "code",
   "execution_count": 28,
   "id": "790d8ff7",
   "metadata": {
    "execution": {
     "iopub.execute_input": "2023-03-28T03:40:12.754262Z",
     "iopub.status.busy": "2023-03-28T03:40:12.753845Z",
     "iopub.status.idle": "2023-03-28T03:40:12.768362Z",
     "shell.execute_reply": "2023-03-28T03:40:12.767156Z"
    },
    "papermill": {
     "duration": 0.031646,
     "end_time": "2023-03-28T03:40:12.770666",
     "exception": false,
     "start_time": "2023-03-28T03:40:12.739020",
     "status": "completed"
    },
    "tags": []
   },
   "outputs": [
    {
     "data": {
      "text/html": [
       "<div>\n",
       "<style scoped>\n",
       "    .dataframe tbody tr th:only-of-type {\n",
       "        vertical-align: middle;\n",
       "    }\n",
       "\n",
       "    .dataframe tbody tr th {\n",
       "        vertical-align: top;\n",
       "    }\n",
       "\n",
       "    .dataframe thead th {\n",
       "        text-align: right;\n",
       "    }\n",
       "</style>\n",
       "<table border=\"1\" class=\"dataframe\">\n",
       "  <thead>\n",
       "    <tr style=\"text-align: right;\">\n",
       "      <th></th>\n",
       "      <th>user_id</th>\n",
       "      <th>ISBN</th>\n",
       "      <th>rating</th>\n",
       "      <th>title</th>\n",
       "      <th>author</th>\n",
       "      <th>year</th>\n",
       "      <th>publisher</th>\n",
       "      <th>img_url</th>\n",
       "    </tr>\n",
       "  </thead>\n",
       "  <tbody>\n",
       "    <tr>\n",
       "      <th>0</th>\n",
       "      <td>277427</td>\n",
       "      <td>002542730X</td>\n",
       "      <td>10</td>\n",
       "      <td>Politically Correct Bedtime Stories: Modern Ta...</td>\n",
       "      <td>James Finn Garner</td>\n",
       "      <td>1994</td>\n",
       "      <td>John Wiley &amp;amp; Sons Inc</td>\n",
       "      <td>http://images.amazon.com/images/P/002542730X.0...</td>\n",
       "    </tr>\n",
       "    <tr>\n",
       "      <th>1</th>\n",
       "      <td>3363</td>\n",
       "      <td>002542730X</td>\n",
       "      <td>0</td>\n",
       "      <td>Politically Correct Bedtime Stories: Modern Ta...</td>\n",
       "      <td>James Finn Garner</td>\n",
       "      <td>1994</td>\n",
       "      <td>John Wiley &amp;amp; Sons Inc</td>\n",
       "      <td>http://images.amazon.com/images/P/002542730X.0...</td>\n",
       "    </tr>\n",
       "  </tbody>\n",
       "</table>\n",
       "</div>"
      ],
      "text/plain": [
       "   user_id        ISBN  rating  \\\n",
       "0   277427  002542730X      10   \n",
       "1     3363  002542730X       0   \n",
       "\n",
       "                                               title             author  year  \\\n",
       "0  Politically Correct Bedtime Stories: Modern Ta...  James Finn Garner  1994   \n",
       "1  Politically Correct Bedtime Stories: Modern Ta...  James Finn Garner  1994   \n",
       "\n",
       "                   publisher  \\\n",
       "0  John Wiley &amp; Sons Inc   \n",
       "1  John Wiley &amp; Sons Inc   \n",
       "\n",
       "                                             img_url  \n",
       "0  http://images.amazon.com/images/P/002542730X.0...  \n",
       "1  http://images.amazon.com/images/P/002542730X.0...  "
      ]
     },
     "execution_count": 28,
     "metadata": {},
     "output_type": "execute_result"
    }
   ],
   "source": [
    "ratings_with_books.head(2)"
   ]
  },
  {
   "cell_type": "code",
   "execution_count": 29,
   "id": "8af1564f",
   "metadata": {
    "execution": {
     "iopub.execute_input": "2023-03-28T03:40:12.800904Z",
     "iopub.status.busy": "2023-03-28T03:40:12.799829Z",
     "iopub.status.idle": "2023-03-28T03:40:12.807690Z",
     "shell.execute_reply": "2023-03-28T03:40:12.806619Z"
    },
    "papermill": {
     "duration": 0.025482,
     "end_time": "2023-03-28T03:40:12.810067",
     "exception": false,
     "start_time": "2023-03-28T03:40:12.784585",
     "status": "completed"
    },
    "tags": []
   },
   "outputs": [
    {
     "data": {
      "text/plain": [
       "(487671, 8)"
      ]
     },
     "execution_count": 29,
     "metadata": {},
     "output_type": "execute_result"
    }
   ],
   "source": [
    "ratings_with_books.shape"
   ]
  },
  {
   "cell_type": "code",
   "execution_count": 30,
   "id": "cec5ae61",
   "metadata": {
    "execution": {
     "iopub.execute_input": "2023-03-28T03:40:12.840281Z",
     "iopub.status.busy": "2023-03-28T03:40:12.839729Z",
     "iopub.status.idle": "2023-03-28T03:40:13.246994Z",
     "shell.execute_reply": "2023-03-28T03:40:13.245313Z"
    },
    "papermill": {
     "duration": 0.425395,
     "end_time": "2023-03-28T03:40:13.249849",
     "exception": false,
     "start_time": "2023-03-28T03:40:12.824454",
     "status": "completed"
    },
    "tags": []
   },
   "outputs": [],
   "source": [
    "num_rating=ratings_with_books.groupby('title')['rating'].count().reset_index()"
   ]
  },
  {
   "cell_type": "code",
   "execution_count": 31,
   "id": "485cc10b",
   "metadata": {
    "execution": {
     "iopub.execute_input": "2023-03-28T03:40:13.280931Z",
     "iopub.status.busy": "2023-03-28T03:40:13.280470Z",
     "iopub.status.idle": "2023-03-28T03:40:13.291381Z",
     "shell.execute_reply": "2023-03-28T03:40:13.290243Z"
    },
    "papermill": {
     "duration": 0.030045,
     "end_time": "2023-03-28T03:40:13.294149",
     "exception": false,
     "start_time": "2023-03-28T03:40:13.264104",
     "status": "completed"
    },
    "tags": []
   },
   "outputs": [
    {
     "data": {
      "text/html": [
       "<div>\n",
       "<style scoped>\n",
       "    .dataframe tbody tr th:only-of-type {\n",
       "        vertical-align: middle;\n",
       "    }\n",
       "\n",
       "    .dataframe tbody tr th {\n",
       "        vertical-align: top;\n",
       "    }\n",
       "\n",
       "    .dataframe thead th {\n",
       "        text-align: right;\n",
       "    }\n",
       "</style>\n",
       "<table border=\"1\" class=\"dataframe\">\n",
       "  <thead>\n",
       "    <tr style=\"text-align: right;\">\n",
       "      <th></th>\n",
       "      <th>title</th>\n",
       "      <th>rating</th>\n",
       "    </tr>\n",
       "  </thead>\n",
       "  <tbody>\n",
       "    <tr>\n",
       "      <th>0</th>\n",
       "      <td>A Light in the Storm: The Civil War Diary of ...</td>\n",
       "      <td>2</td>\n",
       "    </tr>\n",
       "    <tr>\n",
       "      <th>1</th>\n",
       "      <td>Always Have Popsicles</td>\n",
       "      <td>1</td>\n",
       "    </tr>\n",
       "    <tr>\n",
       "      <th>2</th>\n",
       "      <td>Apple Magic (The Collector's series)</td>\n",
       "      <td>1</td>\n",
       "    </tr>\n",
       "    <tr>\n",
       "      <th>3</th>\n",
       "      <td>Beyond IBM: Leadership Marketing and Finance ...</td>\n",
       "      <td>1</td>\n",
       "    </tr>\n",
       "    <tr>\n",
       "      <th>4</th>\n",
       "      <td>Clifford Visita El Hospital (Clifford El Gran...</td>\n",
       "      <td>1</td>\n",
       "    </tr>\n",
       "  </tbody>\n",
       "</table>\n",
       "</div>"
      ],
      "text/plain": [
       "                                               title  rating\n",
       "0   A Light in the Storm: The Civil War Diary of ...       2\n",
       "1                              Always Have Popsicles       1\n",
       "2               Apple Magic (The Collector's series)       1\n",
       "3   Beyond IBM: Leadership Marketing and Finance ...       1\n",
       "4   Clifford Visita El Hospital (Clifford El Gran...       1"
      ]
     },
     "execution_count": 31,
     "metadata": {},
     "output_type": "execute_result"
    }
   ],
   "source": [
    "num_rating.head()"
   ]
  },
  {
   "cell_type": "code",
   "execution_count": 32,
   "id": "a5cbcd7b",
   "metadata": {
    "execution": {
     "iopub.execute_input": "2023-03-28T03:40:13.325046Z",
     "iopub.status.busy": "2023-03-28T03:40:13.324602Z",
     "iopub.status.idle": "2023-03-28T03:40:13.330603Z",
     "shell.execute_reply": "2023-03-28T03:40:13.329573Z"
    },
    "papermill": {
     "duration": 0.024242,
     "end_time": "2023-03-28T03:40:13.332902",
     "exception": false,
     "start_time": "2023-03-28T03:40:13.308660",
     "status": "completed"
    },
    "tags": []
   },
   "outputs": [],
   "source": [
    "num_rating.rename(columns={\n",
    "    \"rating\":\"num_of_rating\"\n",
    "},inplace=True)"
   ]
  },
  {
   "cell_type": "code",
   "execution_count": 33,
   "id": "c7a4cac8",
   "metadata": {
    "execution": {
     "iopub.execute_input": "2023-03-28T03:40:13.363634Z",
     "iopub.status.busy": "2023-03-28T03:40:13.362782Z",
     "iopub.status.idle": "2023-03-28T03:40:13.373280Z",
     "shell.execute_reply": "2023-03-28T03:40:13.372223Z"
    },
    "papermill": {
     "duration": 0.028183,
     "end_time": "2023-03-28T03:40:13.375584",
     "exception": false,
     "start_time": "2023-03-28T03:40:13.347401",
     "status": "completed"
    },
    "tags": []
   },
   "outputs": [
    {
     "data": {
      "text/html": [
       "<div>\n",
       "<style scoped>\n",
       "    .dataframe tbody tr th:only-of-type {\n",
       "        vertical-align: middle;\n",
       "    }\n",
       "\n",
       "    .dataframe tbody tr th {\n",
       "        vertical-align: top;\n",
       "    }\n",
       "\n",
       "    .dataframe thead th {\n",
       "        text-align: right;\n",
       "    }\n",
       "</style>\n",
       "<table border=\"1\" class=\"dataframe\">\n",
       "  <thead>\n",
       "    <tr style=\"text-align: right;\">\n",
       "      <th></th>\n",
       "      <th>title</th>\n",
       "      <th>num_of_rating</th>\n",
       "    </tr>\n",
       "  </thead>\n",
       "  <tbody>\n",
       "    <tr>\n",
       "      <th>0</th>\n",
       "      <td>A Light in the Storm: The Civil War Diary of ...</td>\n",
       "      <td>2</td>\n",
       "    </tr>\n",
       "  </tbody>\n",
       "</table>\n",
       "</div>"
      ],
      "text/plain": [
       "                                               title  num_of_rating\n",
       "0   A Light in the Storm: The Civil War Diary of ...              2"
      ]
     },
     "execution_count": 33,
     "metadata": {},
     "output_type": "execute_result"
    }
   ],
   "source": [
    "num_rating.head(1)"
   ]
  },
  {
   "cell_type": "code",
   "execution_count": 34,
   "id": "0e617a18",
   "metadata": {
    "execution": {
     "iopub.execute_input": "2023-03-28T03:40:13.407119Z",
     "iopub.status.busy": "2023-03-28T03:40:13.406285Z",
     "iopub.status.idle": "2023-03-28T03:40:13.663133Z",
     "shell.execute_reply": "2023-03-28T03:40:13.661755Z"
    },
    "papermill": {
     "duration": 0.275658,
     "end_time": "2023-03-28T03:40:13.666026",
     "exception": false,
     "start_time": "2023-03-28T03:40:13.390368",
     "status": "completed"
    },
    "tags": []
   },
   "outputs": [],
   "source": [
    "final_rating=ratings_with_books.merge(num_rating, on=\"title\")"
   ]
  },
  {
   "cell_type": "code",
   "execution_count": 35,
   "id": "15674cc6",
   "metadata": {
    "execution": {
     "iopub.execute_input": "2023-03-28T03:40:13.696384Z",
     "iopub.status.busy": "2023-03-28T03:40:13.695988Z",
     "iopub.status.idle": "2023-03-28T03:40:13.710093Z",
     "shell.execute_reply": "2023-03-28T03:40:13.708761Z"
    },
    "papermill": {
     "duration": 0.032367,
     "end_time": "2023-03-28T03:40:13.712685",
     "exception": false,
     "start_time": "2023-03-28T03:40:13.680318",
     "status": "completed"
    },
    "tags": []
   },
   "outputs": [
    {
     "data": {
      "text/html": [
       "<div>\n",
       "<style scoped>\n",
       "    .dataframe tbody tr th:only-of-type {\n",
       "        vertical-align: middle;\n",
       "    }\n",
       "\n",
       "    .dataframe tbody tr th {\n",
       "        vertical-align: top;\n",
       "    }\n",
       "\n",
       "    .dataframe thead th {\n",
       "        text-align: right;\n",
       "    }\n",
       "</style>\n",
       "<table border=\"1\" class=\"dataframe\">\n",
       "  <thead>\n",
       "    <tr style=\"text-align: right;\">\n",
       "      <th></th>\n",
       "      <th>user_id</th>\n",
       "      <th>ISBN</th>\n",
       "      <th>rating</th>\n",
       "      <th>title</th>\n",
       "      <th>author</th>\n",
       "      <th>year</th>\n",
       "      <th>publisher</th>\n",
       "      <th>img_url</th>\n",
       "      <th>num_of_rating</th>\n",
       "    </tr>\n",
       "  </thead>\n",
       "  <tbody>\n",
       "    <tr>\n",
       "      <th>0</th>\n",
       "      <td>277427</td>\n",
       "      <td>002542730X</td>\n",
       "      <td>10</td>\n",
       "      <td>Politically Correct Bedtime Stories: Modern Ta...</td>\n",
       "      <td>James Finn Garner</td>\n",
       "      <td>1994</td>\n",
       "      <td>John Wiley &amp;amp; Sons Inc</td>\n",
       "      <td>http://images.amazon.com/images/P/002542730X.0...</td>\n",
       "      <td>82</td>\n",
       "    </tr>\n",
       "  </tbody>\n",
       "</table>\n",
       "</div>"
      ],
      "text/plain": [
       "   user_id        ISBN  rating  \\\n",
       "0   277427  002542730X      10   \n",
       "\n",
       "                                               title             author  year  \\\n",
       "0  Politically Correct Bedtime Stories: Modern Ta...  James Finn Garner  1994   \n",
       "\n",
       "                   publisher  \\\n",
       "0  John Wiley &amp; Sons Inc   \n",
       "\n",
       "                                             img_url  num_of_rating  \n",
       "0  http://images.amazon.com/images/P/002542730X.0...             82  "
      ]
     },
     "execution_count": 35,
     "metadata": {},
     "output_type": "execute_result"
    }
   ],
   "source": [
    "final_rating.head(1)"
   ]
  },
  {
   "cell_type": "code",
   "execution_count": 36,
   "id": "e307f1c7",
   "metadata": {
    "execution": {
     "iopub.execute_input": "2023-03-28T03:40:13.744351Z",
     "iopub.status.busy": "2023-03-28T03:40:13.743929Z",
     "iopub.status.idle": "2023-03-28T03:40:13.751162Z",
     "shell.execute_reply": "2023-03-28T03:40:13.749938Z"
    },
    "papermill": {
     "duration": 0.02615,
     "end_time": "2023-03-28T03:40:13.753469",
     "exception": false,
     "start_time": "2023-03-28T03:40:13.727319",
     "status": "completed"
    },
    "tags": []
   },
   "outputs": [
    {
     "data": {
      "text/plain": [
       "(487671, 9)"
      ]
     },
     "execution_count": 36,
     "metadata": {},
     "output_type": "execute_result"
    }
   ],
   "source": [
    "final_rating.shape"
   ]
  },
  {
   "cell_type": "code",
   "execution_count": 37,
   "id": "1c9b8b9c",
   "metadata": {
    "execution": {
     "iopub.execute_input": "2023-03-28T03:40:13.785458Z",
     "iopub.status.busy": "2023-03-28T03:40:13.784280Z",
     "iopub.status.idle": "2023-03-28T03:40:13.969729Z",
     "shell.execute_reply": "2023-03-28T03:40:13.968381Z"
    },
    "papermill": {
     "duration": 0.204355,
     "end_time": "2023-03-28T03:40:13.972521",
     "exception": false,
     "start_time": "2023-03-28T03:40:13.768166",
     "status": "completed"
    },
    "tags": []
   },
   "outputs": [],
   "source": [
    "final_rating=final_rating[final_rating['num_of_rating']>=50]"
   ]
  },
  {
   "cell_type": "code",
   "execution_count": 38,
   "id": "d7965aab",
   "metadata": {
    "execution": {
     "iopub.execute_input": "2023-03-28T03:40:14.005401Z",
     "iopub.status.busy": "2023-03-28T03:40:14.004996Z",
     "iopub.status.idle": "2023-03-28T03:40:14.019535Z",
     "shell.execute_reply": "2023-03-28T03:40:14.018187Z"
    },
    "papermill": {
     "duration": 0.033998,
     "end_time": "2023-03-28T03:40:14.022048",
     "exception": false,
     "start_time": "2023-03-28T03:40:13.988050",
     "status": "completed"
    },
    "tags": []
   },
   "outputs": [
    {
     "data": {
      "text/html": [
       "<div>\n",
       "<style scoped>\n",
       "    .dataframe tbody tr th:only-of-type {\n",
       "        vertical-align: middle;\n",
       "    }\n",
       "\n",
       "    .dataframe tbody tr th {\n",
       "        vertical-align: top;\n",
       "    }\n",
       "\n",
       "    .dataframe thead th {\n",
       "        text-align: right;\n",
       "    }\n",
       "</style>\n",
       "<table border=\"1\" class=\"dataframe\">\n",
       "  <thead>\n",
       "    <tr style=\"text-align: right;\">\n",
       "      <th></th>\n",
       "      <th>user_id</th>\n",
       "      <th>ISBN</th>\n",
       "      <th>rating</th>\n",
       "      <th>title</th>\n",
       "      <th>author</th>\n",
       "      <th>year</th>\n",
       "      <th>publisher</th>\n",
       "      <th>img_url</th>\n",
       "      <th>num_of_rating</th>\n",
       "    </tr>\n",
       "  </thead>\n",
       "  <tbody>\n",
       "    <tr>\n",
       "      <th>0</th>\n",
       "      <td>277427</td>\n",
       "      <td>002542730X</td>\n",
       "      <td>10</td>\n",
       "      <td>Politically Correct Bedtime Stories: Modern Ta...</td>\n",
       "      <td>James Finn Garner</td>\n",
       "      <td>1994</td>\n",
       "      <td>John Wiley &amp;amp; Sons Inc</td>\n",
       "      <td>http://images.amazon.com/images/P/002542730X.0...</td>\n",
       "      <td>82</td>\n",
       "    </tr>\n",
       "    <tr>\n",
       "      <th>1</th>\n",
       "      <td>3363</td>\n",
       "      <td>002542730X</td>\n",
       "      <td>0</td>\n",
       "      <td>Politically Correct Bedtime Stories: Modern Ta...</td>\n",
       "      <td>James Finn Garner</td>\n",
       "      <td>1994</td>\n",
       "      <td>John Wiley &amp;amp; Sons Inc</td>\n",
       "      <td>http://images.amazon.com/images/P/002542730X.0...</td>\n",
       "      <td>82</td>\n",
       "    </tr>\n",
       "  </tbody>\n",
       "</table>\n",
       "</div>"
      ],
      "text/plain": [
       "   user_id        ISBN  rating  \\\n",
       "0   277427  002542730X      10   \n",
       "1     3363  002542730X       0   \n",
       "\n",
       "                                               title             author  year  \\\n",
       "0  Politically Correct Bedtime Stories: Modern Ta...  James Finn Garner  1994   \n",
       "1  Politically Correct Bedtime Stories: Modern Ta...  James Finn Garner  1994   \n",
       "\n",
       "                   publisher  \\\n",
       "0  John Wiley &amp; Sons Inc   \n",
       "1  John Wiley &amp; Sons Inc   \n",
       "\n",
       "                                             img_url  num_of_rating  \n",
       "0  http://images.amazon.com/images/P/002542730X.0...             82  \n",
       "1  http://images.amazon.com/images/P/002542730X.0...             82  "
      ]
     },
     "execution_count": 38,
     "metadata": {},
     "output_type": "execute_result"
    }
   ],
   "source": [
    "final_rating.head(2)"
   ]
  },
  {
   "cell_type": "code",
   "execution_count": 39,
   "id": "0fae750a",
   "metadata": {
    "execution": {
     "iopub.execute_input": "2023-03-28T03:40:14.054070Z",
     "iopub.status.busy": "2023-03-28T03:40:14.053643Z",
     "iopub.status.idle": "2023-03-28T03:40:14.061110Z",
     "shell.execute_reply": "2023-03-28T03:40:14.059840Z"
    },
    "papermill": {
     "duration": 0.026402,
     "end_time": "2023-03-28T03:40:14.063473",
     "exception": false,
     "start_time": "2023-03-28T03:40:14.037071",
     "status": "completed"
    },
    "tags": []
   },
   "outputs": [
    {
     "data": {
      "text/plain": [
       "(61853, 9)"
      ]
     },
     "execution_count": 39,
     "metadata": {},
     "output_type": "execute_result"
    }
   ],
   "source": [
    "final_rating.shape"
   ]
  },
  {
   "cell_type": "code",
   "execution_count": 40,
   "id": "fb1eb0bb",
   "metadata": {
    "execution": {
     "iopub.execute_input": "2023-03-28T03:40:14.097026Z",
     "iopub.status.busy": "2023-03-28T03:40:14.096646Z",
     "iopub.status.idle": "2023-03-28T03:40:14.117420Z",
     "shell.execute_reply": "2023-03-28T03:40:14.116137Z"
    },
    "papermill": {
     "duration": 0.041041,
     "end_time": "2023-03-28T03:40:14.120068",
     "exception": false,
     "start_time": "2023-03-28T03:40:14.079027",
     "status": "completed"
    },
    "tags": []
   },
   "outputs": [],
   "source": [
    "final_rating.drop_duplicates(['user_id','title'],inplace=True)"
   ]
  },
  {
   "cell_type": "code",
   "execution_count": 41,
   "id": "8d2c628b",
   "metadata": {
    "execution": {
     "iopub.execute_input": "2023-03-28T03:40:14.151883Z",
     "iopub.status.busy": "2023-03-28T03:40:14.151419Z",
     "iopub.status.idle": "2023-03-28T03:40:14.158409Z",
     "shell.execute_reply": "2023-03-28T03:40:14.157302Z"
    },
    "papermill": {
     "duration": 0.025831,
     "end_time": "2023-03-28T03:40:14.160822",
     "exception": false,
     "start_time": "2023-03-28T03:40:14.134991",
     "status": "completed"
    },
    "tags": []
   },
   "outputs": [
    {
     "data": {
      "text/plain": [
       "(59850, 9)"
      ]
     },
     "execution_count": 41,
     "metadata": {},
     "output_type": "execute_result"
    }
   ],
   "source": [
    "final_rating.shape"
   ]
  },
  {
   "cell_type": "code",
   "execution_count": 42,
   "id": "7e707910",
   "metadata": {
    "execution": {
     "iopub.execute_input": "2023-03-28T03:40:14.193221Z",
     "iopub.status.busy": "2023-03-28T03:40:14.192781Z",
     "iopub.status.idle": "2023-03-28T03:40:14.206348Z",
     "shell.execute_reply": "2023-03-28T03:40:14.205372Z"
    },
    "papermill": {
     "duration": 0.032746,
     "end_time": "2023-03-28T03:40:14.208843",
     "exception": false,
     "start_time": "2023-03-28T03:40:14.176097",
     "status": "completed"
    },
    "tags": []
   },
   "outputs": [
    {
     "data": {
      "text/html": [
       "<div>\n",
       "<style scoped>\n",
       "    .dataframe tbody tr th:only-of-type {\n",
       "        vertical-align: middle;\n",
       "    }\n",
       "\n",
       "    .dataframe tbody tr th {\n",
       "        vertical-align: top;\n",
       "    }\n",
       "\n",
       "    .dataframe thead th {\n",
       "        text-align: right;\n",
       "    }\n",
       "</style>\n",
       "<table border=\"1\" class=\"dataframe\">\n",
       "  <thead>\n",
       "    <tr style=\"text-align: right;\">\n",
       "      <th></th>\n",
       "      <th>user_id</th>\n",
       "      <th>ISBN</th>\n",
       "      <th>rating</th>\n",
       "      <th>title</th>\n",
       "      <th>author</th>\n",
       "      <th>year</th>\n",
       "      <th>publisher</th>\n",
       "      <th>img_url</th>\n",
       "      <th>num_of_rating</th>\n",
       "    </tr>\n",
       "  </thead>\n",
       "  <tbody>\n",
       "    <tr>\n",
       "      <th>0</th>\n",
       "      <td>277427</td>\n",
       "      <td>002542730X</td>\n",
       "      <td>10</td>\n",
       "      <td>Politically Correct Bedtime Stories: Modern Ta...</td>\n",
       "      <td>James Finn Garner</td>\n",
       "      <td>1994</td>\n",
       "      <td>John Wiley &amp;amp; Sons Inc</td>\n",
       "      <td>http://images.amazon.com/images/P/002542730X.0...</td>\n",
       "      <td>82</td>\n",
       "    </tr>\n",
       "    <tr>\n",
       "      <th>1</th>\n",
       "      <td>3363</td>\n",
       "      <td>002542730X</td>\n",
       "      <td>0</td>\n",
       "      <td>Politically Correct Bedtime Stories: Modern Ta...</td>\n",
       "      <td>James Finn Garner</td>\n",
       "      <td>1994</td>\n",
       "      <td>John Wiley &amp;amp; Sons Inc</td>\n",
       "      <td>http://images.amazon.com/images/P/002542730X.0...</td>\n",
       "      <td>82</td>\n",
       "    </tr>\n",
       "  </tbody>\n",
       "</table>\n",
       "</div>"
      ],
      "text/plain": [
       "   user_id        ISBN  rating  \\\n",
       "0   277427  002542730X      10   \n",
       "1     3363  002542730X       0   \n",
       "\n",
       "                                               title             author  year  \\\n",
       "0  Politically Correct Bedtime Stories: Modern Ta...  James Finn Garner  1994   \n",
       "1  Politically Correct Bedtime Stories: Modern Ta...  James Finn Garner  1994   \n",
       "\n",
       "                   publisher  \\\n",
       "0  John Wiley &amp; Sons Inc   \n",
       "1  John Wiley &amp; Sons Inc   \n",
       "\n",
       "                                             img_url  num_of_rating  \n",
       "0  http://images.amazon.com/images/P/002542730X.0...             82  \n",
       "1  http://images.amazon.com/images/P/002542730X.0...             82  "
      ]
     },
     "execution_count": 42,
     "metadata": {},
     "output_type": "execute_result"
    }
   ],
   "source": [
    "final_rating.head(2)"
   ]
  },
  {
   "cell_type": "code",
   "execution_count": 43,
   "id": "b83afdd5",
   "metadata": {
    "execution": {
     "iopub.execute_input": "2023-03-28T03:40:14.241637Z",
     "iopub.status.busy": "2023-03-28T03:40:14.241165Z",
     "iopub.status.idle": "2023-03-28T03:40:14.308399Z",
     "shell.execute_reply": "2023-03-28T03:40:14.307356Z"
    },
    "papermill": {
     "duration": 0.086675,
     "end_time": "2023-03-28T03:40:14.311127",
     "exception": false,
     "start_time": "2023-03-28T03:40:14.224452",
     "status": "completed"
    },
    "tags": []
   },
   "outputs": [],
   "source": [
    "book_pivot=final_rating.pivot_table(columns=\"user_id\",index=\"title\",values=\"rating\")"
   ]
  },
  {
   "cell_type": "code",
   "execution_count": 44,
   "id": "5857d0c9",
   "metadata": {
    "execution": {
     "iopub.execute_input": "2023-03-28T03:40:14.345370Z",
     "iopub.status.busy": "2023-03-28T03:40:14.343220Z",
     "iopub.status.idle": "2023-03-28T03:40:14.366908Z",
     "shell.execute_reply": "2023-03-28T03:40:14.365554Z"
    },
    "papermill": {
     "duration": 0.042735,
     "end_time": "2023-03-28T03:40:14.369444",
     "exception": false,
     "start_time": "2023-03-28T03:40:14.326709",
     "status": "completed"
    },
    "tags": []
   },
   "outputs": [
    {
     "data": {
      "text/html": [
       "<div>\n",
       "<style scoped>\n",
       "    .dataframe tbody tr th:only-of-type {\n",
       "        vertical-align: middle;\n",
       "    }\n",
       "\n",
       "    .dataframe tbody tr th {\n",
       "        vertical-align: top;\n",
       "    }\n",
       "\n",
       "    .dataframe thead th {\n",
       "        text-align: right;\n",
       "    }\n",
       "</style>\n",
       "<table border=\"1\" class=\"dataframe\">\n",
       "  <thead>\n",
       "    <tr style=\"text-align: right;\">\n",
       "      <th>user_id</th>\n",
       "      <th>254</th>\n",
       "      <th>2276</th>\n",
       "      <th>2766</th>\n",
       "      <th>2977</th>\n",
       "      <th>3363</th>\n",
       "      <th>3757</th>\n",
       "      <th>4017</th>\n",
       "      <th>4385</th>\n",
       "      <th>6242</th>\n",
       "      <th>6251</th>\n",
       "      <th>...</th>\n",
       "      <th>274004</th>\n",
       "      <th>274061</th>\n",
       "      <th>274301</th>\n",
       "      <th>274308</th>\n",
       "      <th>274808</th>\n",
       "      <th>275970</th>\n",
       "      <th>277427</th>\n",
       "      <th>277478</th>\n",
       "      <th>277639</th>\n",
       "      <th>278418</th>\n",
       "    </tr>\n",
       "    <tr>\n",
       "      <th>title</th>\n",
       "      <th></th>\n",
       "      <th></th>\n",
       "      <th></th>\n",
       "      <th></th>\n",
       "      <th></th>\n",
       "      <th></th>\n",
       "      <th></th>\n",
       "      <th></th>\n",
       "      <th></th>\n",
       "      <th></th>\n",
       "      <th></th>\n",
       "      <th></th>\n",
       "      <th></th>\n",
       "      <th></th>\n",
       "      <th></th>\n",
       "      <th></th>\n",
       "      <th></th>\n",
       "      <th></th>\n",
       "      <th></th>\n",
       "      <th></th>\n",
       "      <th></th>\n",
       "    </tr>\n",
       "  </thead>\n",
       "  <tbody>\n",
       "    <tr>\n",
       "      <th>1984</th>\n",
       "      <td>9.0</td>\n",
       "      <td>NaN</td>\n",
       "      <td>NaN</td>\n",
       "      <td>NaN</td>\n",
       "      <td>NaN</td>\n",
       "      <td>NaN</td>\n",
       "      <td>NaN</td>\n",
       "      <td>NaN</td>\n",
       "      <td>NaN</td>\n",
       "      <td>NaN</td>\n",
       "      <td>...</td>\n",
       "      <td>NaN</td>\n",
       "      <td>NaN</td>\n",
       "      <td>NaN</td>\n",
       "      <td>NaN</td>\n",
       "      <td>NaN</td>\n",
       "      <td>0.0</td>\n",
       "      <td>NaN</td>\n",
       "      <td>NaN</td>\n",
       "      <td>NaN</td>\n",
       "      <td>NaN</td>\n",
       "    </tr>\n",
       "  </tbody>\n",
       "</table>\n",
       "<p>1 rows × 888 columns</p>\n",
       "</div>"
      ],
      "text/plain": [
       "user_id  254     2276    2766    2977    3363    3757    4017    4385    \\\n",
       "title                                                                     \n",
       "1984        9.0     NaN     NaN     NaN     NaN     NaN     NaN     NaN   \n",
       "\n",
       "user_id  6242    6251    ...  274004  274061  274301  274308  274808  275970  \\\n",
       "title                    ...                                                   \n",
       "1984        NaN     NaN  ...     NaN     NaN     NaN     NaN     NaN     0.0   \n",
       "\n",
       "user_id  277427  277478  277639  278418  \n",
       "title                                    \n",
       "1984        NaN     NaN     NaN     NaN  \n",
       "\n",
       "[1 rows x 888 columns]"
      ]
     },
     "execution_count": 44,
     "metadata": {},
     "output_type": "execute_result"
    }
   ],
   "source": [
    "book_pivot.head(1)"
   ]
  },
  {
   "cell_type": "code",
   "execution_count": 45,
   "id": "4e490a7f",
   "metadata": {
    "execution": {
     "iopub.execute_input": "2023-03-28T03:40:14.403239Z",
     "iopub.status.busy": "2023-03-28T03:40:14.401893Z",
     "iopub.status.idle": "2023-03-28T03:40:14.410078Z",
     "shell.execute_reply": "2023-03-28T03:40:14.409122Z"
    },
    "papermill": {
     "duration": 0.027509,
     "end_time": "2023-03-28T03:40:14.412409",
     "exception": false,
     "start_time": "2023-03-28T03:40:14.384900",
     "status": "completed"
    },
    "tags": []
   },
   "outputs": [
    {
     "data": {
      "text/plain": [
       "(742, 888)"
      ]
     },
     "execution_count": 45,
     "metadata": {},
     "output_type": "execute_result"
    }
   ],
   "source": [
    "book_pivot.shape"
   ]
  },
  {
   "cell_type": "code",
   "execution_count": 46,
   "id": "081d851c",
   "metadata": {
    "execution": {
     "iopub.execute_input": "2023-03-28T03:40:14.446893Z",
     "iopub.status.busy": "2023-03-28T03:40:14.445026Z",
     "iopub.status.idle": "2023-03-28T03:40:14.454374Z",
     "shell.execute_reply": "2023-03-28T03:40:14.452791Z"
    },
    "papermill": {
     "duration": 0.030344,
     "end_time": "2023-03-28T03:40:14.458405",
     "exception": false,
     "start_time": "2023-03-28T03:40:14.428061",
     "status": "completed"
    },
    "tags": []
   },
   "outputs": [],
   "source": [
    "book_pivot.fillna(0,inplace=True)"
   ]
  },
  {
   "cell_type": "code",
   "execution_count": 47,
   "id": "660f916d",
   "metadata": {
    "execution": {
     "iopub.execute_input": "2023-03-28T03:40:14.506119Z",
     "iopub.status.busy": "2023-03-28T03:40:14.505620Z",
     "iopub.status.idle": "2023-03-28T03:40:14.545416Z",
     "shell.execute_reply": "2023-03-28T03:40:14.544288Z"
    },
    "papermill": {
     "duration": 0.067685,
     "end_time": "2023-03-28T03:40:14.548026",
     "exception": false,
     "start_time": "2023-03-28T03:40:14.480341",
     "status": "completed"
    },
    "tags": []
   },
   "outputs": [
    {
     "data": {
      "text/html": [
       "<div>\n",
       "<style scoped>\n",
       "    .dataframe tbody tr th:only-of-type {\n",
       "        vertical-align: middle;\n",
       "    }\n",
       "\n",
       "    .dataframe tbody tr th {\n",
       "        vertical-align: top;\n",
       "    }\n",
       "\n",
       "    .dataframe thead th {\n",
       "        text-align: right;\n",
       "    }\n",
       "</style>\n",
       "<table border=\"1\" class=\"dataframe\">\n",
       "  <thead>\n",
       "    <tr style=\"text-align: right;\">\n",
       "      <th>user_id</th>\n",
       "      <th>254</th>\n",
       "      <th>2276</th>\n",
       "      <th>2766</th>\n",
       "      <th>2977</th>\n",
       "      <th>3363</th>\n",
       "      <th>3757</th>\n",
       "      <th>4017</th>\n",
       "      <th>4385</th>\n",
       "      <th>6242</th>\n",
       "      <th>6251</th>\n",
       "      <th>...</th>\n",
       "      <th>274004</th>\n",
       "      <th>274061</th>\n",
       "      <th>274301</th>\n",
       "      <th>274308</th>\n",
       "      <th>274808</th>\n",
       "      <th>275970</th>\n",
       "      <th>277427</th>\n",
       "      <th>277478</th>\n",
       "      <th>277639</th>\n",
       "      <th>278418</th>\n",
       "    </tr>\n",
       "    <tr>\n",
       "      <th>title</th>\n",
       "      <th></th>\n",
       "      <th></th>\n",
       "      <th></th>\n",
       "      <th></th>\n",
       "      <th></th>\n",
       "      <th></th>\n",
       "      <th></th>\n",
       "      <th></th>\n",
       "      <th></th>\n",
       "      <th></th>\n",
       "      <th></th>\n",
       "      <th></th>\n",
       "      <th></th>\n",
       "      <th></th>\n",
       "      <th></th>\n",
       "      <th></th>\n",
       "      <th></th>\n",
       "      <th></th>\n",
       "      <th></th>\n",
       "      <th></th>\n",
       "      <th></th>\n",
       "    </tr>\n",
       "  </thead>\n",
       "  <tbody>\n",
       "    <tr>\n",
       "      <th>1984</th>\n",
       "      <td>9.0</td>\n",
       "      <td>0.0</td>\n",
       "      <td>0.0</td>\n",
       "      <td>0.0</td>\n",
       "      <td>0.0</td>\n",
       "      <td>0.0</td>\n",
       "      <td>0.0</td>\n",
       "      <td>0.0</td>\n",
       "      <td>0.0</td>\n",
       "      <td>0.0</td>\n",
       "      <td>...</td>\n",
       "      <td>0.0</td>\n",
       "      <td>0.0</td>\n",
       "      <td>0.0</td>\n",
       "      <td>0.0</td>\n",
       "      <td>0.0</td>\n",
       "      <td>0.0</td>\n",
       "      <td>0.0</td>\n",
       "      <td>0.0</td>\n",
       "      <td>0.0</td>\n",
       "      <td>0.0</td>\n",
       "    </tr>\n",
       "    <tr>\n",
       "      <th>1st to Die: A Novel</th>\n",
       "      <td>0.0</td>\n",
       "      <td>0.0</td>\n",
       "      <td>0.0</td>\n",
       "      <td>0.0</td>\n",
       "      <td>0.0</td>\n",
       "      <td>0.0</td>\n",
       "      <td>0.0</td>\n",
       "      <td>0.0</td>\n",
       "      <td>0.0</td>\n",
       "      <td>0.0</td>\n",
       "      <td>...</td>\n",
       "      <td>0.0</td>\n",
       "      <td>0.0</td>\n",
       "      <td>0.0</td>\n",
       "      <td>0.0</td>\n",
       "      <td>0.0</td>\n",
       "      <td>0.0</td>\n",
       "      <td>0.0</td>\n",
       "      <td>0.0</td>\n",
       "      <td>0.0</td>\n",
       "      <td>0.0</td>\n",
       "    </tr>\n",
       "  </tbody>\n",
       "</table>\n",
       "<p>2 rows × 888 columns</p>\n",
       "</div>"
      ],
      "text/plain": [
       "user_id              254     2276    2766    2977    3363    3757    4017    \\\n",
       "title                                                                         \n",
       "1984                    9.0     0.0     0.0     0.0     0.0     0.0     0.0   \n",
       "1st to Die: A Novel     0.0     0.0     0.0     0.0     0.0     0.0     0.0   \n",
       "\n",
       "user_id              4385    6242    6251    ...  274004  274061  274301  \\\n",
       "title                                        ...                           \n",
       "1984                    0.0     0.0     0.0  ...     0.0     0.0     0.0   \n",
       "1st to Die: A Novel     0.0     0.0     0.0  ...     0.0     0.0     0.0   \n",
       "\n",
       "user_id              274308  274808  275970  277427  277478  277639  278418  \n",
       "title                                                                        \n",
       "1984                    0.0     0.0     0.0     0.0     0.0     0.0     0.0  \n",
       "1st to Die: A Novel     0.0     0.0     0.0     0.0     0.0     0.0     0.0  \n",
       "\n",
       "[2 rows x 888 columns]"
      ]
     },
     "execution_count": 47,
     "metadata": {},
     "output_type": "execute_result"
    }
   ],
   "source": [
    "book_pivot.head(2)"
   ]
  },
  {
   "cell_type": "code",
   "execution_count": 48,
   "id": "19d8a569",
   "metadata": {
    "execution": {
     "iopub.execute_input": "2023-03-28T03:40:14.589595Z",
     "iopub.status.busy": "2023-03-28T03:40:14.588843Z",
     "iopub.status.idle": "2023-03-28T03:40:14.594302Z",
     "shell.execute_reply": "2023-03-28T03:40:14.593397Z"
    },
    "papermill": {
     "duration": 0.032824,
     "end_time": "2023-03-28T03:40:14.597084",
     "exception": false,
     "start_time": "2023-03-28T03:40:14.564260",
     "status": "completed"
    },
    "tags": []
   },
   "outputs": [],
   "source": [
    "from scipy.sparse import csr_matrix"
   ]
  },
  {
   "cell_type": "code",
   "execution_count": 49,
   "id": "b15e89ee",
   "metadata": {
    "execution": {
     "iopub.execute_input": "2023-03-28T03:40:14.638180Z",
     "iopub.status.busy": "2023-03-28T03:40:14.637342Z",
     "iopub.status.idle": "2023-03-28T03:40:14.653861Z",
     "shell.execute_reply": "2023-03-28T03:40:14.652558Z"
    },
    "papermill": {
     "duration": 0.03754,
     "end_time": "2023-03-28T03:40:14.657116",
     "exception": false,
     "start_time": "2023-03-28T03:40:14.619576",
     "status": "completed"
    },
    "tags": []
   },
   "outputs": [],
   "source": [
    "book_sparse= csr_matrix(book_pivot)"
   ]
  },
  {
   "cell_type": "code",
   "execution_count": 50,
   "id": "9033f809",
   "metadata": {
    "execution": {
     "iopub.execute_input": "2023-03-28T03:40:14.691250Z",
     "iopub.status.busy": "2023-03-28T03:40:14.690859Z",
     "iopub.status.idle": "2023-03-28T03:40:15.105259Z",
     "shell.execute_reply": "2023-03-28T03:40:15.104358Z"
    },
    "papermill": {
     "duration": 0.435204,
     "end_time": "2023-03-28T03:40:15.108341",
     "exception": false,
     "start_time": "2023-03-28T03:40:14.673137",
     "status": "completed"
    },
    "tags": []
   },
   "outputs": [],
   "source": [
    "from sklearn.neighbors import NearestNeighbors\n",
    "model = NearestNeighbors(algorithm=\"brute\")"
   ]
  },
  {
   "cell_type": "code",
   "execution_count": null,
   "id": "0e400221",
   "metadata": {
    "papermill": {
     "duration": 0.015802,
     "end_time": "2023-03-28T03:40:15.145764",
     "exception": false,
     "start_time": "2023-03-28T03:40:15.129962",
     "status": "completed"
    },
    "tags": []
   },
   "outputs": [],
   "source": []
  }
 ],
 "metadata": {
  "kernelspec": {
   "display_name": "Python 3",
   "language": "python",
   "name": "python3"
  },
  "language_info": {
   "codemirror_mode": {
    "name": "ipython",
    "version": 3
   },
   "file_extension": ".py",
   "mimetype": "text/x-python",
   "name": "python",
   "nbconvert_exporter": "python",
   "pygments_lexer": "ipython3",
   "version": "3.7.12"
  },
  "papermill": {
   "default_parameters": {},
   "duration": 20.365886,
   "end_time": "2023-03-28T03:40:16.085610",
   "environment_variables": {},
   "exception": null,
   "input_path": "__notebook__.ipynb",
   "output_path": "__notebook__.ipynb",
   "parameters": {},
   "start_time": "2023-03-28T03:39:55.719724",
   "version": "2.4.0"
  }
 },
 "nbformat": 4,
 "nbformat_minor": 5
}
